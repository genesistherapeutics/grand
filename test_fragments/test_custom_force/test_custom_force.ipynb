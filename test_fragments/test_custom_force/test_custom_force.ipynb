{
 "cells": [
  {
   "cell_type": "code",
   "execution_count": 1,
   "metadata": {},
   "outputs": [
    {
     "name": "stderr",
     "output_type": "stream",
     "text": [
      "Warning on use of the timeseries module: If the inherent timescales of the system are long compared to those being analyzed, this statistical inefficiency may be an underestimate.  The estimate presumes the use of many statistically independent samples.  Tests should be performed to assess whether this condition is satisfied.   Be cautious in the interpretation of the data.\n",
      "\n",
      "****** PyMBAR will use 64-bit JAX! *******\n",
      "* JAX is currently set to 32-bit bitsize *\n",
      "* which is its default.                  *\n",
      "*                                        *\n",
      "* PyMBAR requires 64-bit mode and WILL   *\n",
      "* enable JAX's 64-bit mode when called.  *\n",
      "*                                        *\n",
      "* This MAY cause problems with other     *\n",
      "* Uses of JAX in the same code.          *\n",
      "******************************************\n",
      "\n",
      "Warning: importing 'simtk.openmm' is deprecated.  Import 'openmm' instead.\n"
     ]
    }
   ],
   "source": [
    "import openmm\n",
    "import openmm.app\n",
    "from openmmtools.integrators import BAOABIntegrator\n",
    "\n",
    "from grand import lig_samplers as ls"
   ]
  },
  {
   "cell_type": "code",
   "execution_count": 2,
   "metadata": {},
   "outputs": [],
   "source": [
    "pdb = openmm.app.PDBFile('apo.pdb')"
   ]
  },
  {
   "cell_type": "code",
   "execution_count": 3,
   "metadata": {},
   "outputs": [],
   "source": [
    "ff = openmm.app.ForceField('amber14-all.xml', 'amber14/tip3pfb.xml')"
   ]
  },
  {
   "cell_type": "code",
   "execution_count": 4,
   "metadata": {},
   "outputs": [],
   "source": [
    "system = ff.createSystem(pdb.topology, nonbondedMethod=openmm.app.CutoffPeriodic)\n",
    "integrator = BAOABIntegrator(298*openmm.unit.kelvin, 1.0/openmm.unit.picosecond, 0.002*openmm.unit.picoseconds)"
   ]
  },
  {
   "cell_type": "code",
   "execution_count": 5,
   "metadata": {},
   "outputs": [
    {
     "name": "stdout",
     "output_type": "stream",
     "text": [
      "0.49048223350253806 /(nm**3) 1.4904822335025378 /nm 138.93545764438198\n",
      "1 5\n",
      "<openmm.openmm.NonbondedForce; proxy of <Swig Object of type 'OpenMM::NonbondedForce *' at 0x70d2a4390bd0> >\n"
     ]
    }
   ],
   "source": [
    "sampler = ls.BaseGCMCSampler(system,pdb.topology,298*openmm.unit.kelvin,[],overwrite=True)"
   ]
  },
  {
   "cell_type": "code",
   "execution_count": 6,
   "metadata": {},
   "outputs": [],
   "source": [
    "reporter = openmm.app.DCDReporter(\"custom_force_test_periodic.dcd\", reportInterval=100)"
   ]
  },
  {
   "cell_type": "code",
   "execution_count": 7,
   "metadata": {},
   "outputs": [
    {
     "name": "stdout",
     "output_type": "stream",
     "text": [
      "HarmonicBondForce\n",
      "1\n",
      "36330.097412109375 kJ/mol\n",
      "PeriodicTorsionForce\n",
      "2\n",
      "13828.017013549805 kJ/mol\n",
      "CMMotionRemover\n",
      "3\n",
      "0.0 kJ/mol\n",
      "HarmonicAngleForce\n",
      "4\n",
      "18777.741577148438 kJ/mol\n",
      "CustomNonbondedForce\n",
      "5\n",
      "-28708.89974975586 kJ/mol\n",
      "CustomBondForce\n",
      "6\n",
      "16895.67219543457 kJ/mol\n",
      "Initial Energy: 57122.62928009033 kJ/mol\n"
     ]
    }
   ],
   "source": [
    "sampler.initialize(5000, pdb.positions,integrator,reporter)"
   ]
  },
  {
   "cell_type": "code",
   "execution_count": 8,
   "metadata": {},
   "outputs": [],
   "source": [
    "sampler.simulation.reporters.append(reporter)"
   ]
  },
  {
   "cell_type": "code",
   "execution_count": 9,
   "metadata": {},
   "outputs": [],
   "source": [
    "sampler.simulation.step(100000)"
   ]
  },
  {
   "cell_type": "code",
   "execution_count": null,
   "metadata": {},
   "outputs": [],
   "source": []
  }
 ],
 "metadata": {
  "kernelspec": {
   "display_name": "gcncmc",
   "language": "python",
   "name": "python3"
  },
  "language_info": {
   "codemirror_mode": {
    "name": "ipython",
    "version": 3
   },
   "file_extension": ".py",
   "mimetype": "text/x-python",
   "name": "python",
   "nbconvert_exporter": "python",
   "pygments_lexer": "ipython3",
   "version": "3.12.3"
  }
 },
 "nbformat": 4,
 "nbformat_minor": 2
}
