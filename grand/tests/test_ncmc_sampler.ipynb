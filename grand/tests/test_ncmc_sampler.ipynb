{
 "cells": [
  {
   "cell_type": "code",
   "execution_count": 1,
   "metadata": {},
   "outputs": [
    {
     "name": "stderr",
     "output_type": "stream",
     "text": [
      "Warning on use of the timeseries module: If the inherent timescales of the system are long compared to those being analyzed, this statistical inefficiency may be an underestimate.  The estimate presumes the use of many statistically independent samples.  Tests should be performed to assess whether this condition is satisfied.   Be cautious in the interpretation of the data.\n",
      "\n",
      "****** PyMBAR will use 64-bit JAX! *******\n",
      "* JAX is currently set to 32-bit bitsize *\n",
      "* which is its default.                  *\n",
      "*                                        *\n",
      "* PyMBAR requires 64-bit mode and WILL   *\n",
      "* enable JAX's 64-bit mode when called.  *\n",
      "*                                        *\n",
      "* This MAY cause problems with other     *\n",
      "* Uses of JAX in the same code.          *\n",
      "******************************************\n",
      "\n",
      "Warning: importing 'simtk.openmm' is deprecated.  Import 'openmm' instead.\n"
     ]
    }
   ],
   "source": [
    "from grand import ncmc_sampler as ns\n",
    "from grand import lig_utils as lu\n",
    "\n",
    "import openmm\n",
    "import openmm.unit\n",
    "import openff.toolkit\n",
    "import pdbfixer\n",
    "\n",
    "import numpy as np\n",
    "import mdtraj as md\n",
    "from scipy.spatial import Voronoi, Delaunay"
   ]
  },
  {
   "cell_type": "code",
   "execution_count": 2,
   "metadata": {},
   "outputs": [
    {
     "name": "stderr",
     "output_type": "stream",
     "text": [
      "Warning: Cannot perform Hydrogen sampling with GPU-Omega: GPU-Omega disabled.\n"
     ]
    }
   ],
   "source": [
    "datadir = '../../examples/lysozyme/'\n",
    "# Load protein and ligand\n",
    "prot = openmm.app.PDBFile(f'{datadir}/apo.pdb')\n",
    "lig = openff.toolkit.Molecule.from_smiles(\"c1ccccc1O\")\n",
    "lig.generate_conformers(n_conformers=1000)\n",
    "lig_top = lig.to_topology().to_openmm()\n",
    "lig_pos = lig.conformers[0].to_openmm()\n",
    "\n",
    "# Load forcefield\n",
    "ff = openmm.app.ForceField('amber14-all.xml', 'amber14/tip3pfb.xml',f'{datadir}/phenol_openff.xml')"
   ]
  },
  {
   "cell_type": "code",
   "execution_count": 3,
   "metadata": {},
   "outputs": [
    {
     "name": "stderr",
     "output_type": "stream",
     "text": [
      "100%|██████████| 1/1 [00:00<00:00, 40.42it/s]\n"
     ]
    }
   ],
   "source": [
    "# Add one ligand to the system\n",
    "sys_top, sys_pos, ghosts = lu.add_ghosts(prot.topology, prot.positions, lig_top, lig_pos, n=1, output=f'{datadir}/ncmc.pdb')"
   ]
  },
  {
   "cell_type": "code",
   "execution_count": 4,
   "metadata": {},
   "outputs": [],
   "source": [
    "# Load pdb with protein and ligand\n",
    "pdb = openmm.app.PDBFile(f'{datadir}/ncmc.pdb')"
   ]
  },
  {
   "cell_type": "code",
   "execution_count": 5,
   "metadata": {},
   "outputs": [],
   "source": [
    "# Solvate the system\n",
    "#modeller = openmm.app.Modeller(pdb.topology, pdb.positions)\n",
    "#modeller.addSolvent(forcefield=ff,padding=1*openmm.unit.nanometer)\n",
    "#openmm.app.PDBFile.writeFile(modeller.topology, modeller.positions, f'{datadir}/ncmc_sol.pdb')"
   ]
  },
  {
   "cell_type": "code",
   "execution_count": 6,
   "metadata": {},
   "outputs": [],
   "source": [
    "# Compute Voronoi vertices\n",
    "traj = md.load(f'{datadir}/apo.pdb')\n",
    "traj = traj.atom_slice(traj.top.select('name CA'))\n",
    "vor = Voronoi(traj.xyz[0])\n",
    "vor = vor.vertices[np.prod((vor.vertices > traj.xyz.min()) & (vor.vertices < traj.xyz.max()),axis=1).astype(bool)]"
   ]
  },
  {
   "cell_type": "code",
   "execution_count": 7,
   "metadata": {},
   "outputs": [],
   "source": [
    "frag_res_ids = []\n",
    "frag_atom_ids = []\n",
    "alchemical_atom_ids = []\n",
    "for resid, residue in enumerate(pdb.topology.residues()):\n",
    "    if residue.name == \"UNK\":\n",
    "        frag_res_ids.append(resid)\n",
    "        for atom in residue.atoms():\n",
    "            frag_atom_ids.append(atom.index)\n",
    "    for atom in residue.atoms():\n",
    "        alchemical_atom_ids.append(atom.index)"
   ]
  },
  {
   "cell_type": "code",
   "execution_count": 8,
   "metadata": {},
   "outputs": [],
   "source": [
    "pdb_system = ff.createSystem(pdb.topology)"
   ]
  },
  {
   "cell_type": "code",
   "execution_count": 9,
   "metadata": {},
   "outputs": [],
   "source": [
    "reporter = openmm.app.DCDReporter(f\"{datadir}/ncmc_test.dcd\", reportInterval=10000)"
   ]
  },
  {
   "cell_type": "code",
   "execution_count": 10,
   "metadata": {},
   "outputs": [],
   "source": [
    "x = 'lambda'\n",
    "DEFAULT_ALCHEMICAL_FUNCTIONS = {\n",
    "                             'lambda_sterics': x,\n",
    "                             'lambda_electrostatics': x,\n",
    "                             }\n",
    "# Non-linear lambda\n",
    "#DEFAULT_ALCHEMICAL_FUNCTIONS = {\n",
    "#                             'lambda_sterics': f\"select(step({x} - 0.5), 2.0 * ({x} - 0.5), 1.0)\",\n",
    "#                             'lambda_electrostatics': f\"select(step({x} - 0.5), 0.0 , 2.0 * (0.5 - {x}))\",\n",
    "#                             }"
   ]
  },
  {
   "cell_type": "code",
   "execution_count": 11,
   "metadata": {},
   "outputs": [
    {
     "data": {
      "text/plain": [
       "\"\\nf = open(f'{datadir}/voronoi_vertices.pdb','w')\\nf.write('REMARK\\n')\\nfor i, vertex in enumerate(vor*10):\\n    f.write(f'ATOM  {i+1:>5}  H   VOR A   1    {vertex[0]:8.3f}{vertex[1]:8.3f}{vertex[2]:8.3f}  1.00  0.00           H  \\n')\\nf.close()\\n\""
      ]
     },
     "execution_count": 11,
     "metadata": {},
     "output_type": "execute_result"
    }
   ],
   "source": [
    "# Visualize Voronoi vertices\n",
    "\"\"\"\n",
    "f = open(f'{datadir}/voronoi_vertices.pdb','w')\n",
    "f.write('REMARK\\n')\n",
    "for i, vertex in enumerate(vor*10):\n",
    "    f.write(f'ATOM  {i+1:>5}  H   VOR A   1    {vertex[0]:8.3f}{vertex[1]:8.3f}{vertex[2]:8.3f}  1.00  0.00           H  \\n')\n",
    "f.close()\n",
    "\"\"\""
   ]
  },
  {
   "cell_type": "code",
   "execution_count": 12,
   "metadata": {},
   "outputs": [],
   "source": [
    "# Initialize Sampler\n",
    "sampler = ns.BaseNCMCSampler(pdb_system,pdb.topology,pdb.positions,reporter=reporter,alchemical_atoms=alchemical_atom_ids,\n",
    "                             alchemical_functions=DEFAULT_ALCHEMICAL_FUNCTIONS,periodic=False, nsteps_neq=10,nsteps_eq=10000, frag_atoms=frag_atom_ids, voronoi_vertices=[openmm.Vec3(0.4961, 1.4597, 2.3242)])"
   ]
  },
  {
   "cell_type": "code",
   "execution_count": 13,
   "metadata": {},
   "outputs": [
    {
     "name": "stderr",
     "output_type": "stream",
     "text": [
      "100%|██████████| 5/5 [00:00<00:00, 18.74it/s]\n"
     ]
    }
   ],
   "source": [
    "# Run sampler\n",
    "sampler.ncmc_move(5)"
   ]
  },
  {
   "cell_type": "code",
   "execution_count": 14,
   "metadata": {},
   "outputs": [
    {
     "name": "stdout",
     "output_type": "stream",
     "text": [
      "step      0 : if(step = 0):\n",
      "step      1 :    constrain positions\n",
      "step      2 :    constrain velocities\n",
      "step      3 :    protocol_work <- 0.0\n",
      "step      4 :    lambda <- 0\n",
      "step      5 :    protocol_work <- 0\n",
      "step      6 :    step <- 0\n",
      "step      7 :    lambda_step <- 0\n",
      "step      8 :    lambda_sterics <- lambda\n",
      "step      9 :    lambda_electrostatics <- lambda\n",
      "step     10 : end\n",
      "step     11 : if(step >= 0):\n",
      "step     12 :    if(step < n_steps_per_cycle):\n",
      "step     13 :       allow forces to update the context state\n",
      "step     14 :       if(has_kT_changed = 1):\n",
      "step     15 :          sigma <- sqrt(kT/m)\n",
      "step     16 :          has_kT_changed <- 0\n",
      "step     17 :       end\n",
      "step     18 :       v <- v + (dt / 2) * f / m\n",
      "step     19 :       constrain velocities\n",
      "step     20 :       x <- x + ((dt / 2) * v)\n",
      "step     21 :       x1 <- x\n",
      "step     22 :       constrain positions\n",
      "step     23 :       v <- v + ((x - x1) / (dt / 2))\n",
      "step     24 :       constrain velocities\n",
      "step     25 :       Eold <- energy\n",
      "step     26 :       lambda <- (lambda_step+1)/n_lambda_steps\n",
      "step     27 :       lambda_step <- lambda_step + 1\n",
      "step     28 :       lambda_sterics <- lambda\n",
      "step     29 :       lambda_electrostatics <- lambda\n",
      "step     30 :       Enew <- energy\n",
      "step     31 :       protocol_work <- protocol_work + (Enew-Eold)\n",
      "step     32 :       v <- (a * v) + (b * sigma * gaussian)\n",
      "step     33 :       constrain velocities\n",
      "step     34 :       x <- x + ((dt / 2) * v)\n",
      "step     35 :       x1 <- x\n",
      "step     36 :       constrain positions\n",
      "step     37 :       v <- v + ((x - x1) / (dt / 2))\n",
      "step     38 :       constrain velocities\n",
      "step     39 :       v <- v + (dt / 2) * f / m\n",
      "step     40 :       constrain velocities\n",
      "step     41 :       step <- step + 1\n",
      "step     42 :    end\n",
      "step     43 : end\n",
      "step     44 : if(step = -1):\n",
      "step     45 :    protocol_work <- 0.0\n",
      "step     46 :    lambda <- 0\n",
      "step     47 :    protocol_work <- 0\n",
      "step     48 :    step <- 0\n",
      "step     49 :    lambda_step <- 0\n",
      "step     50 :    lambda_sterics <- lambda\n",
      "step     51 :    lambda_electrostatics <- lambda\n",
      "step     52 : end\n"
     ]
    }
   ],
   "source": [
    "# Print algorithm of integrator\n",
    "sampler.nc_integrator.pretty_print()"
   ]
  },
  {
   "cell_type": "code",
   "execution_count": null,
   "metadata": {},
   "outputs": [],
   "source": []
  }
 ],
 "metadata": {
  "kernelspec": {
   "display_name": "gcncmc",
   "language": "python",
   "name": "python3"
  },
  "language_info": {
   "codemirror_mode": {
    "name": "ipython",
    "version": 3
   },
   "file_extension": ".py",
   "mimetype": "text/x-python",
   "name": "python",
   "nbconvert_exporter": "python",
   "pygments_lexer": "ipython3",
   "version": "3.12.3"
  }
 },
 "nbformat": 4,
 "nbformat_minor": 2
}
