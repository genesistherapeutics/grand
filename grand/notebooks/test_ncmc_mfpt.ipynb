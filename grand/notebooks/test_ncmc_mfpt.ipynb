{
 "cells": [
  {
   "cell_type": "code",
   "execution_count": 1,
   "metadata": {},
   "outputs": [
    {
     "name": "stderr",
     "output_type": "stream",
     "text": [
      "Warning on use of the timeseries module: If the inherent timescales of the system are long compared to those being analyzed, this statistical inefficiency may be an underestimate.  The estimate presumes the use of many statistically independent samples.  Tests should be performed to assess whether this condition is satisfied.   Be cautious in the interpretation of the data.\n",
      "\n",
      "****** PyMBAR will use 64-bit JAX! *******\n",
      "* JAX is currently set to 32-bit bitsize *\n",
      "* which is its default.                  *\n",
      "*                                        *\n",
      "* PyMBAR requires 64-bit mode and WILL   *\n",
      "* enable JAX's 64-bit mode when called.  *\n",
      "*                                        *\n",
      "* This MAY cause problems with other     *\n",
      "* Uses of JAX in the same code.          *\n",
      "******************************************\n",
      "\n",
      "Warning: importing 'simtk.openmm' is deprecated.  Import 'openmm' instead.\n"
     ]
    }
   ],
   "source": [
    "from grand import lig_samplers as ls\n",
    "from grand import lig_utils as lu\n",
    "\n",
    "import openmm\n",
    "import openmm.unit\n",
    "import openff.toolkit\n",
    "import pdbfixer\n",
    "\n",
    "import numpy as np\n",
    "import mdtraj as md\n",
    "from scipy.spatial import Voronoi, Delaunay\n",
    "import os\n",
    "\n",
    "import Bio.PDB"
   ]
  },
  {
   "cell_type": "code",
   "execution_count": 2,
   "metadata": {},
   "outputs": [],
   "source": [
    "datadir = '../../examples/fcrn/'"
   ]
  },
  {
   "cell_type": "code",
   "execution_count": 3,
   "metadata": {},
   "outputs": [],
   "source": [
    "ligands = {\n",
    "    \"ETH\":\"CC\",\n",
    "    \"EOL\":\"CCO\",\n",
    "    \"THS\":\"CC(C)O\",\n",
    "    \"BUT\":\"CC(C)(C)O\",\n",
    "    \"ACN\":\"CC#N\",\n",
    "    \"AMN\":\"CN\",\n",
    "    \"DFO\":\"CN(C)C=O\",\n",
    "    \"DME\":\"COC\",\n",
    "    \"BDY\":\"C1=CC=C(C=C1)C=O \",\n",
    "    \"BEN\":\"C1=CC=CC=C1\",\n",
    "    \"CHX\":\"C1CCCCC1\",\n",
    "    \"PHN\":\"C1=CC=C(C=C1)O\",\n",
    "    \"ACD\":\"CC(=O)N\",\n",
    "    \"ACT\":\"CC(=O)C\",\n",
    "    \"ADY\":\"CC=O\",\n",
    "    \"URE\":\"C(=O)(N)N\",\n",
    "}"
   ]
  },
  {
   "cell_type": "code",
   "execution_count": 4,
   "metadata": {},
   "outputs": [],
   "source": [
    "lig_ff_dir = f'{datadir}/lig_ff/'\n",
    "\n",
    "ref_coords = []\n",
    "ref_dict = {}\n",
    "pdb_parser = Bio.PDB.PDBParser(QUIET=True)\n",
    "struct = pdb_parser.get_structure('ml_pocket',file=f'{datadir}/pocket_miner.pdb')\n",
    "atoms = struct.get_atoms()\n",
    "for atom in atoms:\n",
    "    if atom.name == 'CA':\n",
    "        if atom.bfactor > 0.7:\n",
    "            ref_dict[atom.parent.id[1]] = atom.coord/10"
   ]
  },
  {
   "cell_type": "code",
   "execution_count": 5,
   "metadata": {},
   "outputs": [
    {
     "data": {
      "text/plain": [
       "{11: array([-0.703    , -2.3207002, 15.083501 ], dtype=float32),\n",
       " 55: array([-1.0459, -2.5128, 17.175 ], dtype=float32),\n",
       " 60: array([-1.0949   , -3.2417998, 16.7392   ], dtype=float32),\n",
       " 61: array([-0.7652, -3.0947, 16.6112], dtype=float32),\n",
       " 64: array([-0.9002, -3.153 , 16.1299], dtype=float32),\n",
       " 67: array([-0.8862001, -3.4008   , 15.674899 ], dtype=float32),\n",
       " 71: array([-0.7188  , -3.1926  , 15.082899], dtype=float32),\n",
       " 94: array([-1.5005  , -2.4292  , 15.126101], dtype=float32),\n",
       " 120: array([-1.8399   , -2.8379998, 14.3533   ], dtype=float32),\n",
       " 206: array([-1.5238, -0.4982, 16.2116], dtype=float32),\n",
       " 208: array([-1.8235,  0.0335, 16.1862], dtype=float32),\n",
       " 226: array([-0.97910005, -0.058     , 15.6515    ], dtype=float32),\n",
       " 228: array([-0.6675  , -0.5611  , 16.076601], dtype=float32),\n",
       " 236: array([-1.0298,  0.2164, 15.99  ], dtype=float32)}"
      ]
     },
     "execution_count": 5,
     "metadata": {},
     "output_type": "execute_result"
    }
   ],
   "source": [
    "ref_dict"
   ]
  },
  {
   "cell_type": "code",
   "execution_count": 6,
   "metadata": {},
   "outputs": [],
   "source": [
    "# Define reference CA atoms (as residue id) per pocket\n",
    "pocket_dict = {\n",
    "    'p1':[206,208,226,228,236],\n",
    "}"
   ]
  },
  {
   "cell_type": "code",
   "execution_count": 7,
   "metadata": {},
   "outputs": [
    {
     "name": "stdout",
     "output_type": "stream",
     "text": [
      "[array([-1.5238, -0.4982, 16.2116], dtype=float32), array([-1.8235,  0.0335, 16.1862], dtype=float32), array([-0.97910005, -0.058     , 15.6515    ], dtype=float32), array([-0.6675  , -0.5611  , 16.076601], dtype=float32), array([-1.0298,  0.2164, 15.99  ], dtype=float32)]\n"
     ]
    },
    {
     "name": "stderr",
     "output_type": "stream",
     "text": [
      "Warning: Cannot perform Hydrogen sampling with GPU-Omega: GPU-Omega disabled.\n",
      "100%|██████████| 1/1 [00:00<00:00,  5.74it/s]\n",
      "  0%|          | 0/5 [00:00<?, ?it/s]"
     ]
    },
    {
     "name": "stdout",
     "output_type": "stream",
     "text": [
      "-3.819122314453125 kJ/mol 348.0644226074219 kJ/mol 850.4567108154297 kJ/mol 1063.7509765625 kJ/mol rejected\n"
     ]
    },
    {
     "name": "stderr",
     "output_type": "stream",
     "text": [
      "100%|██████████| 1/1 [00:02<00:00,  2.93s/it]\n"
     ]
    },
    {
     "name": "stdout",
     "output_type": "stream",
     "text": [
      "-3.824798583984375 kJ/mol 292.8992004394531 kJ/mol 846.0630340576172 kJ/mol 752.064453125 kJ/mol rejected\n"
     ]
    },
    {
     "name": "stderr",
     "output_type": "stream",
     "text": [
      "100%|██████████| 1/1 [00:01<00:00,  1.88s/it]\n"
     ]
    },
    {
     "name": "stdout",
     "output_type": "stream",
     "text": [
      "-3.815338134765625 kJ/mol 165.74745178222656 kJ/mol 666.8282318115234 kJ/mol 752.3544921875 kJ/mol rejected\n"
     ]
    },
    {
     "name": "stderr",
     "output_type": "stream",
     "text": [
      "100%|██████████| 1/1 [00:01<00:00,  1.88s/it]\n"
     ]
    },
    {
     "name": "stdout",
     "output_type": "stream",
     "text": [
      "-3.8315582275390625 kJ/mol 214.64456176757812 kJ/mol 787.5931854248047 kJ/mol 844.2568359375 kJ/mol rejected\n"
     ]
    },
    {
     "name": "stderr",
     "output_type": "stream",
     "text": [
      "100%|██████████| 1/1 [00:01<00:00,  1.88s/it]\n"
     ]
    },
    {
     "name": "stdout",
     "output_type": "stream",
     "text": [
      "-3.81365966796875 kJ/mol 48.0084228515625 kJ/mol 602.076904296875 kJ/mol 1254.3759765625 kJ/mol rejected\n"
     ]
    },
    {
     "name": "stderr",
     "output_type": "stream",
     "text": [
      "100%|██████████| 1/1 [00:01<00:00,  1.88s/it]\n"
     ]
    },
    {
     "name": "stdout",
     "output_type": "stream",
     "text": [
      "-3.8142852783203125 kJ/mol 407.5796203613281 kJ/mol 946.5440368652344 kJ/mol 894.5654296875 kJ/mol rejected\n"
     ]
    },
    {
     "name": "stderr",
     "output_type": "stream",
     "text": [
      "100%|██████████| 1/1 [00:01<00:00,  1.88s/it]\n"
     ]
    },
    {
     "name": "stdout",
     "output_type": "stream",
     "text": [
      "-3.8405303955078125 kJ/mol 375.80723571777344 kJ/mol 830.5482788085938 kJ/mol 871.548828125 kJ/mol rejected\n"
     ]
    },
    {
     "name": "stderr",
     "output_type": "stream",
     "text": [
      "100%|██████████| 1/1 [00:01<00:00,  1.88s/it]\n"
     ]
    },
    {
     "name": "stdout",
     "output_type": "stream",
     "text": [
      "-3.8197021484375 kJ/mol 278.8303527832031 kJ/mol 779.3009796142578 kJ/mol 444.8896484375 kJ/mol rejected\n"
     ]
    },
    {
     "name": "stderr",
     "output_type": "stream",
     "text": [
      "100%|██████████| 1/1 [00:01<00:00,  1.88s/it]\n"
     ]
    },
    {
     "name": "stdout",
     "output_type": "stream",
     "text": [
      "-3.7942962646484375 kJ/mol 46.434051513671875 kJ/mol 574.8053894042969 kJ/mol 1069.7001953125 kJ/mol rejected\n"
     ]
    },
    {
     "name": "stderr",
     "output_type": "stream",
     "text": [
      "100%|██████████| 1/1 [00:01<00:00,  1.99s/it]\n"
     ]
    },
    {
     "name": "stdout",
     "output_type": "stream",
     "text": [
      "-3.8488616943359375 kJ/mol 36.241363525390625 kJ/mol 421.5819854736328 kJ/mol 842.1279296875 kJ/mol rejected\n"
     ]
    },
    {
     "name": "stderr",
     "output_type": "stream",
     "text": [
      "100%|██████████| 1/1 [00:01<00:00,  1.89s/it]\n"
     ]
    },
    {
     "name": "stdout",
     "output_type": "stream",
     "text": [
      "-3.779327392578125 kJ/mol 132.66993713378906 kJ/mol 523.6937713623047 kJ/mol 89.45703125 kJ/mol rejected\n"
     ]
    },
    {
     "name": "stderr",
     "output_type": "stream",
     "text": [
      "100%|██████████| 1/1 [00:01<00:00,  1.89s/it]\n"
     ]
    },
    {
     "name": "stdout",
     "output_type": "stream",
     "text": [
      "-3.821044921875 kJ/mol 240.64369201660156 kJ/mol 765.3320007324219 kJ/mol 512.775390625 kJ/mol rejected\n"
     ]
    },
    {
     "name": "stderr",
     "output_type": "stream",
     "text": [
      "100%|██████████| 1/1 [00:01<00:00,  1.89s/it]\n"
     ]
    },
    {
     "name": "stdout",
     "output_type": "stream",
     "text": [
      "-3.8001251220703125 kJ/mol 344.54335021972656 kJ/mol 884.6607971191406 kJ/mol 1177.9873046875 kJ/mol rejected\n"
     ]
    },
    {
     "name": "stderr",
     "output_type": "stream",
     "text": [
      "100%|██████████| 1/1 [00:01<00:00,  1.89s/it]\n"
     ]
    },
    {
     "name": "stdout",
     "output_type": "stream",
     "text": [
      "-3.796844482421875 kJ/mol 6.4494171142578125 kJ/mol 570.3740692138672 kJ/mol 716.2607421875 kJ/mol rejected\n"
     ]
    },
    {
     "name": "stderr",
     "output_type": "stream",
     "text": [
      "100%|██████████| 1/1 [00:01<00:00,  1.89s/it]\n"
     ]
    },
    {
     "name": "stdout",
     "output_type": "stream",
     "text": [
      "-3.8288726806640625 kJ/mol 348.5126037597656 kJ/mol 848.9631652832031 kJ/mol 1361.3154296875 kJ/mol rejected\n"
     ]
    },
    {
     "name": "stderr",
     "output_type": "stream",
     "text": [
      "100%|██████████| 1/1 [00:01<00:00,  1.94s/it]\n"
     ]
    },
    {
     "name": "stdout",
     "output_type": "stream",
     "text": [
      "-3.7214813232421875 kJ/mol 53.38404846191406 kJ/mol 507.4107208251953 kJ/mol 169.373046875 kJ/mol rejected\n"
     ]
    },
    {
     "name": "stderr",
     "output_type": "stream",
     "text": [
      "100%|██████████| 1/1 [00:02<00:00,  2.01s/it]\n"
     ]
    },
    {
     "name": "stdout",
     "output_type": "stream",
     "text": [
      "-3.8402862548828125 kJ/mol 95.713623046875 kJ/mol 550.9957122802734 kJ/mol 430.408203125 kJ/mol rejected\n"
     ]
    },
    {
     "name": "stderr",
     "output_type": "stream",
     "text": [
      "100%|██████████| 1/1 [00:01<00:00,  1.88s/it]\n"
     ]
    },
    {
     "name": "stdout",
     "output_type": "stream",
     "text": [
      "-3.8165130615234375 kJ/mol 136.9525909423828 kJ/mol 659.926025390625 kJ/mol 922.388671875 kJ/mol rejected\n"
     ]
    },
    {
     "name": "stderr",
     "output_type": "stream",
     "text": [
      "100%|██████████| 1/1 [00:01<00:00,  1.89s/it]\n"
     ]
    },
    {
     "name": "stdout",
     "output_type": "stream",
     "text": [
      "-3.814849853515625 kJ/mol 24.628738403320312 kJ/mol 516.1210021972656 kJ/mol 864.7216796875 kJ/mol rejected\n"
     ]
    },
    {
     "name": "stderr",
     "output_type": "stream",
     "text": [
      "100%|██████████| 1/1 [00:01<00:00,  1.89s/it]\n"
     ]
    },
    {
     "name": "stdout",
     "output_type": "stream",
     "text": [
      "-3.8343353271484375 kJ/mol 51.360809326171875 kJ/mol 593.1053009033203 kJ/mol 1187.1748046875 kJ/mol rejected\n"
     ]
    },
    {
     "name": "stderr",
     "output_type": "stream",
     "text": [
      "100%|██████████| 1/1 [00:01<00:00,  1.88s/it]\n"
     ]
    },
    {
     "name": "stdout",
     "output_type": "stream",
     "text": [
      "-3.80291748046875 kJ/mol 271.9499969482422 kJ/mol 678.2312316894531 kJ/mol 936.1337890625 kJ/mol rejected\n"
     ]
    },
    {
     "name": "stderr",
     "output_type": "stream",
     "text": [
      "100%|██████████| 1/1 [00:01<00:00,  1.90s/it]\n"
     ]
    },
    {
     "name": "stdout",
     "output_type": "stream",
     "text": [
      "-3.83697509765625 kJ/mol 53.14076232910156 kJ/mol 611.9711303710938 kJ/mol 1140.4267578125 kJ/mol rejected\n"
     ]
    },
    {
     "name": "stderr",
     "output_type": "stream",
     "text": [
      "100%|██████████| 1/1 [00:01<00:00,  1.88s/it]\n"
     ]
    },
    {
     "name": "stdout",
     "output_type": "stream",
     "text": [
      "-3.7706298828125 kJ/mol 225.31668090820312 kJ/mol 834.2259826660156 kJ/mol 606.0126953125 kJ/mol rejected\n"
     ]
    },
    {
     "name": "stderr",
     "output_type": "stream",
     "text": [
      "100%|██████████| 1/1 [00:01<00:00,  1.88s/it]\n"
     ]
    },
    {
     "name": "stdout",
     "output_type": "stream",
     "text": [
      "-3.84967041015625 kJ/mol 189.8184356689453 kJ/mol 703.9663543701172 kJ/mol 961.7685546875 kJ/mol rejected\n"
     ]
    },
    {
     "name": "stderr",
     "output_type": "stream",
     "text": [
      "100%|██████████| 1/1 [00:01<00:00,  1.99s/it]\n"
     ]
    },
    {
     "name": "stdout",
     "output_type": "stream",
     "text": [
      "-3.8299102783203125 kJ/mol 201.24563598632812 kJ/mol 848.5042877197266 kJ/mol 1348.88671875 kJ/mol rejected\n"
     ]
    },
    {
     "name": "stderr",
     "output_type": "stream",
     "text": [
      "100%|██████████| 1/1 [00:02<00:00,  2.62s/it]\n"
     ]
    },
    {
     "name": "stdout",
     "output_type": "stream",
     "text": [
      "-3.4497528076171875 kJ/mol -1.911834716796875 kJ/mol 483.0641632080078 kJ/mol 790.5283203125 kJ/mol accepted\n"
     ]
    },
    {
     "name": "stderr",
     "output_type": "stream",
     "text": [
      "100%|██████████| 1/1 [00:01<00:00,  1.88s/it]\n",
      " 20%|██        | 1/5 [00:51<03:24, 51.24s/it]"
     ]
    },
    {
     "name": "stdout",
     "output_type": "stream",
     "text": [
      "5.850189208984375 kJ/mol 80.6380615234375 kJ/mol 582.4186706542969 kJ/mol 549.048828125 kJ/mol rejected\n"
     ]
    },
    {
     "name": "stderr",
     "output_type": "stream",
     "text": [
      "100%|██████████| 1/1 [00:01<00:00,  1.88s/it]\n"
     ]
    },
    {
     "name": "stdout",
     "output_type": "stream",
     "text": [
      "3.05072021484375 kJ/mol 173.02886962890625 kJ/mol 664.1846618652344 kJ/mol 1073.1181640625 kJ/mol rejected\n"
     ]
    },
    {
     "name": "stderr",
     "output_type": "stream",
     "text": [
      "100%|██████████| 1/1 [00:01<00:00,  1.88s/it]\n"
     ]
    },
    {
     "name": "stdout",
     "output_type": "stream",
     "text": [
      "10.155105590820312 kJ/mol 305.3304901123047 kJ/mol 845.6389312744141 kJ/mol 670.251953125 kJ/mol rejected\n"
     ]
    },
    {
     "name": "stderr",
     "output_type": "stream",
     "text": [
      "100%|██████████| 1/1 [00:01<00:00,  1.88s/it]\n"
     ]
    },
    {
     "name": "stdout",
     "output_type": "stream",
     "text": [
      "2.3059844970703125 kJ/mol 156.3478240966797 kJ/mol 614.7755126953125 kJ/mol 1224.755859375 kJ/mol rejected\n"
     ]
    },
    {
     "name": "stderr",
     "output_type": "stream",
     "text": [
      "100%|██████████| 1/1 [00:01<00:00,  1.88s/it]\n"
     ]
    },
    {
     "name": "stdout",
     "output_type": "stream",
     "text": [
      "6.173675537109375 kJ/mol 2.9855499267578125 kJ/mol 475.7714385986328 kJ/mol 1520.2587890625 kJ/mol rejected\n"
     ]
    },
    {
     "name": "stderr",
     "output_type": "stream",
     "text": [
      "100%|██████████| 1/1 [00:02<00:00,  2.00s/it]\n"
     ]
    },
    {
     "name": "stdout",
     "output_type": "stream",
     "text": [
      "12.082107543945312 kJ/mol 336.4104919433594 kJ/mol 895.616455078125 kJ/mol 594.892578125 kJ/mol rejected\n"
     ]
    },
    {
     "name": "stderr",
     "output_type": "stream",
     "text": [
      "100%|██████████| 1/1 [00:01<00:00,  1.88s/it]\n"
     ]
    },
    {
     "name": "stdout",
     "output_type": "stream",
     "text": [
      "14.88531494140625 kJ/mol 223.28810119628906 kJ/mol 754.2848052978516 kJ/mol 881.2548828125 kJ/mol rejected\n"
     ]
    },
    {
     "name": "stderr",
     "output_type": "stream",
     "text": [
      "100%|██████████| 1/1 [00:01<00:00,  1.88s/it]\n"
     ]
    },
    {
     "name": "stdout",
     "output_type": "stream",
     "text": [
      "13.1033935546875 kJ/mol 90.49307250976562 kJ/mol 591.4085998535156 kJ/mol 1394.6552734375 kJ/mol rejected\n"
     ]
    },
    {
     "name": "stderr",
     "output_type": "stream",
     "text": [
      "100%|██████████| 1/1 [00:01<00:00,  1.88s/it]\n"
     ]
    },
    {
     "name": "stdout",
     "output_type": "stream",
     "text": [
      "3.50390625 kJ/mol 316.54896545410156 kJ/mol 835.3566131591797 kJ/mol 1558.0625 kJ/mol rejected\n"
     ]
    },
    {
     "name": "stderr",
     "output_type": "stream",
     "text": [
      "100%|██████████| 1/1 [00:01<00:00,  1.88s/it]\n"
     ]
    },
    {
     "name": "stdout",
     "output_type": "stream",
     "text": [
      "6.745758056640625 kJ/mol 208.029296875 kJ/mol 726.7053375244141 kJ/mol 1131.1357421875 kJ/mol rejected\n"
     ]
    },
    {
     "name": "stderr",
     "output_type": "stream",
     "text": [
      "100%|██████████| 1/1 [00:01<00:00,  1.88s/it]\n"
     ]
    },
    {
     "name": "stdout",
     "output_type": "stream",
     "text": [
      "6.3116302490234375 kJ/mol 77.87217712402344 kJ/mol 563.1612091064453 kJ/mol 1005.4404296875 kJ/mol rejected\n"
     ]
    },
    {
     "name": "stderr",
     "output_type": "stream",
     "text": [
      "100%|██████████| 1/1 [00:01<00:00,  1.87s/it]\n"
     ]
    },
    {
     "name": "stdout",
     "output_type": "stream",
     "text": [
      "7.237274169921875 kJ/mol 78.39363098144531 kJ/mol 478.7944641113281 kJ/mol 1364.6103515625 kJ/mol rejected\n"
     ]
    },
    {
     "name": "stderr",
     "output_type": "stream",
     "text": [
      "100%|██████████| 1/1 [00:01<00:00,  1.99s/it]\n"
     ]
    },
    {
     "name": "stdout",
     "output_type": "stream",
     "text": [
      "12.9373779296875 kJ/mol 105.37222290039062 kJ/mol 582.6751861572266 kJ/mol 284.8642578125 kJ/mol rejected\n"
     ]
    },
    {
     "name": "stderr",
     "output_type": "stream",
     "text": [
      "100%|██████████| 1/1 [00:01<00:00,  1.88s/it]\n"
     ]
    },
    {
     "name": "stdout",
     "output_type": "stream",
     "text": [
      "12.318206787109375 kJ/mol 235.6971893310547 kJ/mol 800.2350158691406 kJ/mol 1254.4228515625 kJ/mol rejected\n"
     ]
    },
    {
     "name": "stderr",
     "output_type": "stream",
     "text": [
      "100%|██████████| 1/1 [00:01<00:00,  1.88s/it]\n"
     ]
    },
    {
     "name": "stdout",
     "output_type": "stream",
     "text": [
      "7.39520263671875 kJ/mol 221.29360961914062 kJ/mol 826.1692657470703 kJ/mol 1021.4228515625 kJ/mol rejected\n"
     ]
    },
    {
     "name": "stderr",
     "output_type": "stream",
     "text": [
      "100%|██████████| 1/1 [00:01<00:00,  1.88s/it]\n"
     ]
    },
    {
     "name": "stdout",
     "output_type": "stream",
     "text": [
      "8.580459594726562 kJ/mol 140.6942596435547 kJ/mol 694.1024475097656 kJ/mol 1687.74609375 kJ/mol rejected\n"
     ]
    },
    {
     "name": "stderr",
     "output_type": "stream",
     "text": [
      "100%|██████████| 1/1 [00:01<00:00,  1.88s/it]\n"
     ]
    },
    {
     "name": "stdout",
     "output_type": "stream",
     "text": [
      "7.137908935546875 kJ/mol 50.82267761230469 kJ/mol 554.9284210205078 kJ/mol 754.23046875 kJ/mol rejected\n"
     ]
    },
    {
     "name": "stderr",
     "output_type": "stream",
     "text": [
      "100%|██████████| 1/1 [00:01<00:00,  1.88s/it]\n"
     ]
    },
    {
     "name": "stdout",
     "output_type": "stream",
     "text": [
      "-5.98785400390625 kJ/mol 202.21554565429688 kJ/mol 654.5312805175781 kJ/mol 830.7421875 kJ/mol rejected\n"
     ]
    },
    {
     "name": "stderr",
     "output_type": "stream",
     "text": [
      "100%|██████████| 1/1 [00:01<00:00,  1.88s/it]\n"
     ]
    },
    {
     "name": "stdout",
     "output_type": "stream",
     "text": [
      "4.287841796875 kJ/mol 187.47471618652344 kJ/mol 707.5518493652344 kJ/mol 560.1943359375 kJ/mol rejected\n"
     ]
    },
    {
     "name": "stderr",
     "output_type": "stream",
     "text": [
      "100%|██████████| 1/1 [00:01<00:00,  1.88s/it]\n"
     ]
    },
    {
     "name": "stdout",
     "output_type": "stream",
     "text": [
      "6.408447265625 kJ/mol 141.4643096923828 kJ/mol 639.9714202880859 kJ/mol 902.984375 kJ/mol rejected\n"
     ]
    },
    {
     "name": "stderr",
     "output_type": "stream",
     "text": [
      "100%|██████████| 1/1 [00:01<00:00,  1.99s/it]\n"
     ]
    },
    {
     "name": "stdout",
     "output_type": "stream",
     "text": [
      "9.624252319335938 kJ/mol 38.134063720703125 kJ/mol 540.1963500976562 kJ/mol 1262.814453125 kJ/mol rejected\n"
     ]
    },
    {
     "name": "stderr",
     "output_type": "stream",
     "text": [
      "100%|██████████| 1/1 [00:01<00:00,  1.89s/it]\n"
     ]
    },
    {
     "name": "stdout",
     "output_type": "stream",
     "text": [
      "-1.8007965087890625 kJ/mol 290.9781951904297 kJ/mol 847.3945007324219 kJ/mol 808.3359375 kJ/mol rejected\n"
     ]
    },
    {
     "name": "stderr",
     "output_type": "stream",
     "text": [
      "100%|██████████| 1/1 [00:01<00:00,  1.89s/it]\n"
     ]
    },
    {
     "name": "stdout",
     "output_type": "stream",
     "text": [
      "2.6303558349609375 kJ/mol 182.787109375 kJ/mol 732.2052764892578 kJ/mol 1357.7626953125 kJ/mol rejected\n"
     ]
    },
    {
     "name": "stderr",
     "output_type": "stream",
     "text": [
      "100%|██████████| 1/1 [00:01<00:00,  1.88s/it]\n"
     ]
    },
    {
     "name": "stdout",
     "output_type": "stream",
     "text": [
      "-0.9459075927734375 kJ/mol 327.2333526611328 kJ/mol 885.9167327880859 kJ/mol 719.072265625 kJ/mol rejected\n"
     ]
    },
    {
     "name": "stderr",
     "output_type": "stream",
     "text": [
      "100%|██████████| 1/1 [00:01<00:00,  1.89s/it]\n"
     ]
    },
    {
     "name": "stdout",
     "output_type": "stream",
     "text": [
      "12.381301879882812 kJ/mol 192.31460571289062 kJ/mol 726.8998565673828 kJ/mol 882.220703125 kJ/mol rejected\n"
     ]
    },
    {
     "name": "stderr",
     "output_type": "stream",
     "text": [
      "100%|██████████| 1/1 [00:01<00:00,  1.88s/it]\n"
     ]
    },
    {
     "name": "stdout",
     "output_type": "stream",
     "text": [
      "-3.4625396728515625 kJ/mol 76.54095458984375 kJ/mol 564.7909088134766 kJ/mol 1106.7119140625 kJ/mol rejected\n"
     ]
    },
    {
     "name": "stderr",
     "output_type": "stream",
     "text": [
      "100%|██████████| 1/1 [00:01<00:00,  1.88s/it]\n"
     ]
    },
    {
     "name": "stdout",
     "output_type": "stream",
     "text": [
      "0.995361328125 kJ/mol 312.83245849609375 kJ/mol 769.0904998779297 kJ/mol 724.0361328125 kJ/mol rejected\n"
     ]
    },
    {
     "name": "stderr",
     "output_type": "stream",
     "text": [
      "100%|██████████| 1/1 [00:01<00:00,  1.88s/it]\n"
     ]
    },
    {
     "name": "stdout",
     "output_type": "stream",
     "text": [
      "11.71759033203125 kJ/mol 300.39234924316406 kJ/mol 868.626220703125 kJ/mol 654.7041015625 kJ/mol rejected\n"
     ]
    },
    {
     "name": "stderr",
     "output_type": "stream",
     "text": [
      "100%|██████████| 1/1 [00:01<00:00,  1.99s/it]\n"
     ]
    },
    {
     "name": "stdout",
     "output_type": "stream",
     "text": [
      "7.44342041015625 kJ/mol 104.29794311523438 kJ/mol 607.0839080810547 kJ/mol 654.1474609375 kJ/mol rejected\n"
     ]
    },
    {
     "name": "stderr",
     "output_type": "stream",
     "text": [
      "100%|██████████| 1/1 [00:01<00:00,  1.88s/it]\n"
     ]
    },
    {
     "name": "stdout",
     "output_type": "stream",
     "text": [
      "7.3150482177734375 kJ/mol -7.6896209716796875 kJ/mol 450.04705810546875 kJ/mol 1045.8876953125 kJ/mol accepted\n"
     ]
    },
    {
     "name": "stderr",
     "output_type": "stream",
     "text": [
      "100%|██████████| 1/1 [00:01<00:00,  1.89s/it]\n",
      " 40%|████      | 2/5 [01:48<02:43, 54.61s/it]"
     ]
    },
    {
     "name": "stdout",
     "output_type": "stream",
     "text": [
      "9.436492919921875 kJ/mol 177.37806701660156 kJ/mol 698.7546539306641 kJ/mol 748.384765625 kJ/mol rejected\n"
     ]
    },
    {
     "name": "stderr",
     "output_type": "stream",
     "text": [
      "100%|██████████| 1/1 [00:02<00:00,  2.38s/it]\n"
     ]
    },
    {
     "name": "stdout",
     "output_type": "stream",
     "text": [
      "12.382095336914062 kJ/mol 162.71104431152344 kJ/mol 590.8856964111328 kJ/mol 582.0361328125 kJ/mol rejected\n"
     ]
    },
    {
     "name": "stderr",
     "output_type": "stream",
     "text": [
      "100%|██████████| 1/1 [00:01<00:00,  1.89s/it]\n"
     ]
    },
    {
     "name": "stdout",
     "output_type": "stream",
     "text": [
      "22.021759033203125 kJ/mol 96.48300170898438 kJ/mol 527.6441802978516 kJ/mol 1408.283203125 kJ/mol rejected\n"
     ]
    },
    {
     "name": "stderr",
     "output_type": "stream",
     "text": [
      "100%|██████████| 1/1 [00:01<00:00,  1.89s/it]\n"
     ]
    },
    {
     "name": "stdout",
     "output_type": "stream",
     "text": [
      "8.57940673828125 kJ/mol 251.9091339111328 kJ/mol 805.5634307861328 kJ/mol 1294.6572265625 kJ/mol rejected\n"
     ]
    },
    {
     "name": "stderr",
     "output_type": "stream",
     "text": [
      "100%|██████████| 1/1 [00:01<00:00,  1.89s/it]\n"
     ]
    },
    {
     "name": "stdout",
     "output_type": "stream",
     "text": [
      "9.0592041015625 kJ/mol 195.68206787109375 kJ/mol 656.4219360351562 kJ/mol 1034.3779296875 kJ/mol rejected\n"
     ]
    },
    {
     "name": "stderr",
     "output_type": "stream",
     "text": [
      "100%|██████████| 1/1 [00:01<00:00,  2.00s/it]\n"
     ]
    },
    {
     "name": "stdout",
     "output_type": "stream",
     "text": [
      "7.62176513671875 kJ/mol 179.4642791748047 kJ/mol 702.6029510498047 kJ/mol 865.51953125 kJ/mol rejected\n"
     ]
    },
    {
     "name": "stderr",
     "output_type": "stream",
     "text": [
      "100%|██████████| 1/1 [00:01<00:00,  1.88s/it]\n"
     ]
    },
    {
     "name": "stdout",
     "output_type": "stream",
     "text": [
      "8.504196166992188 kJ/mol 157.434326171875 kJ/mol 737.8953399658203 kJ/mol 1716.0771484375 kJ/mol rejected\n"
     ]
    },
    {
     "name": "stderr",
     "output_type": "stream",
     "text": [
      "100%|██████████| 1/1 [00:01<00:00,  1.88s/it]\n"
     ]
    },
    {
     "name": "stdout",
     "output_type": "stream",
     "text": [
      "14.244125366210938 kJ/mol 13.74920654296875 kJ/mol 411.80360412597656 kJ/mol 1307.6025390625 kJ/mol rejected\n"
     ]
    },
    {
     "name": "stderr",
     "output_type": "stream",
     "text": [
      "100%|██████████| 1/1 [00:01<00:00,  1.88s/it]\n"
     ]
    },
    {
     "name": "stdout",
     "output_type": "stream",
     "text": [
      "16.369842529296875 kJ/mol 127.65872192382812 kJ/mol 607.9467163085938 kJ/mol 1029.9248046875 kJ/mol rejected\n"
     ]
    },
    {
     "name": "stderr",
     "output_type": "stream",
     "text": [
      "100%|██████████| 1/1 [00:01<00:00,  1.88s/it]\n"
     ]
    },
    {
     "name": "stdout",
     "output_type": "stream",
     "text": [
      "2.6400299072265625 kJ/mol -7.11016845703125 kJ/mol 497.29534912109375 kJ/mol 963.9990234375 kJ/mol accepted\n"
     ]
    },
    {
     "name": "stderr",
     "output_type": "stream",
     "text": [
      "100%|██████████| 1/1 [00:01<00:00,  1.88s/it]\n",
      " 60%|██████    | 3/5 [02:07<01:17, 38.57s/it]"
     ]
    },
    {
     "name": "stdout",
     "output_type": "stream",
     "text": [
      "8.515533447265625 kJ/mol 112.84400939941406 kJ/mol 648.5344696044922 kJ/mol 720.0244140625 kJ/mol rejected\n"
     ]
    },
    {
     "name": "stderr",
     "output_type": "stream",
     "text": [
      "100%|██████████| 1/1 [00:01<00:00,  1.88s/it]\n"
     ]
    },
    {
     "name": "stdout",
     "output_type": "stream",
     "text": [
      "11.523513793945312 kJ/mol 249.27394104003906 kJ/mol 740.7043609619141 kJ/mol 1297.828125 kJ/mol rejected\n"
     ]
    },
    {
     "name": "stderr",
     "output_type": "stream",
     "text": [
      "100%|██████████| 1/1 [00:01<00:00,  1.99s/it]\n"
     ]
    },
    {
     "name": "stdout",
     "output_type": "stream",
     "text": [
      "9.54132080078125 kJ/mol 156.80796813964844 kJ/mol 730.0315704345703 kJ/mol 370.12890625 kJ/mol rejected\n"
     ]
    },
    {
     "name": "stderr",
     "output_type": "stream",
     "text": [
      "100%|██████████| 1/1 [00:01<00:00,  1.88s/it]\n"
     ]
    },
    {
     "name": "stdout",
     "output_type": "stream",
     "text": [
      "2.8554229736328125 kJ/mol 109.8228759765625 kJ/mol 630.1337203979492 kJ/mol 1626.7724609375 kJ/mol rejected\n"
     ]
    },
    {
     "name": "stderr",
     "output_type": "stream",
     "text": [
      "100%|██████████| 1/1 [00:01<00:00,  1.88s/it]\n"
     ]
    },
    {
     "name": "stdout",
     "output_type": "stream",
     "text": [
      "13.760757446289062 kJ/mol 233.2926483154297 kJ/mol 713.2872619628906 kJ/mol 1280.32421875 kJ/mol rejected\n"
     ]
    },
    {
     "name": "stderr",
     "output_type": "stream",
     "text": [
      "100%|██████████| 1/1 [00:01<00:00,  1.89s/it]\n"
     ]
    },
    {
     "name": "stdout",
     "output_type": "stream",
     "text": [
      "12.96612548828125 kJ/mol 118.34112548828125 kJ/mol 634.8117218017578 kJ/mol 899.7080078125 kJ/mol rejected\n"
     ]
    },
    {
     "name": "stderr",
     "output_type": "stream",
     "text": [
      "100%|██████████| 1/1 [00:01<00:00,  1.89s/it]\n"
     ]
    },
    {
     "name": "stdout",
     "output_type": "stream",
     "text": [
      "7.9036102294921875 kJ/mol 111.69781494140625 kJ/mol 646.3221130371094 kJ/mol 1308.3408203125 kJ/mol rejected\n"
     ]
    },
    {
     "name": "stderr",
     "output_type": "stream",
     "text": [
      "100%|██████████| 1/1 [00:01<00:00,  1.88s/it]\n"
     ]
    },
    {
     "name": "stdout",
     "output_type": "stream",
     "text": [
      "12.979751586914062 kJ/mol 119.24969482421875 kJ/mol 727.1090087890625 kJ/mol 1670.431640625 kJ/mol rejected\n"
     ]
    },
    {
     "name": "stderr",
     "output_type": "stream",
     "text": [
      "100%|██████████| 1/1 [00:01<00:00,  1.88s/it]\n"
     ]
    },
    {
     "name": "stdout",
     "output_type": "stream",
     "text": [
      "14.643264770507812 kJ/mol 117.43255615234375 kJ/mol 726.8821563720703 kJ/mol 1395.3427734375 kJ/mol rejected\n"
     ]
    },
    {
     "name": "stderr",
     "output_type": "stream",
     "text": [
      "100%|██████████| 1/1 [00:02<00:00,  2.00s/it]\n"
     ]
    },
    {
     "name": "stdout",
     "output_type": "stream",
     "text": [
      "8.328399658203125 kJ/mol 65.03887939453125 kJ/mol 652.9069290161133 kJ/mol 813.9443359375 kJ/mol rejected\n"
     ]
    },
    {
     "name": "stderr",
     "output_type": "stream",
     "text": [
      "100%|██████████| 1/1 [00:01<00:00,  1.88s/it]\n"
     ]
    },
    {
     "name": "stdout",
     "output_type": "stream",
     "text": [
      "0.770477294921875 kJ/mol 47.58183288574219 kJ/mol 486.9549331665039 kJ/mol 282.2431640625 kJ/mol rejected\n"
     ]
    },
    {
     "name": "stderr",
     "output_type": "stream",
     "text": [
      "100%|██████████| 1/1 [00:01<00:00,  1.88s/it]\n"
     ]
    },
    {
     "name": "stdout",
     "output_type": "stream",
     "text": [
      "14.999801635742188 kJ/mol 153.86158752441406 kJ/mol 720.8344879150391 kJ/mol 601.333984375 kJ/mol rejected\n"
     ]
    },
    {
     "name": "stderr",
     "output_type": "stream",
     "text": [
      "100%|██████████| 1/1 [00:01<00:00,  1.88s/it]\n"
     ]
    },
    {
     "name": "stdout",
     "output_type": "stream",
     "text": [
      "-0.344696044921875 kJ/mol 171.87448120117188 kJ/mol 693.2206420898438 kJ/mol 1142.5947265625 kJ/mol rejected\n"
     ]
    },
    {
     "name": "stderr",
     "output_type": "stream",
     "text": [
      "100%|██████████| 1/1 [00:01<00:00,  1.88s/it]\n"
     ]
    },
    {
     "name": "stdout",
     "output_type": "stream",
     "text": [
      "9.26971435546875 kJ/mol 79.90379333496094 kJ/mol 580.6791534423828 kJ/mol 992.3828125 kJ/mol rejected\n"
     ]
    },
    {
     "name": "stderr",
     "output_type": "stream",
     "text": [
      "100%|██████████| 1/1 [00:01<00:00,  1.88s/it]\n"
     ]
    },
    {
     "name": "stdout",
     "output_type": "stream",
     "text": [
      "6.0057525634765625 kJ/mol 228.61175537109375 kJ/mol 708.8917999267578 kJ/mol 1091.0283203125 kJ/mol rejected\n"
     ]
    },
    {
     "name": "stderr",
     "output_type": "stream",
     "text": [
      "100%|██████████| 1/1 [00:01<00:00,  1.89s/it]\n"
     ]
    },
    {
     "name": "stdout",
     "output_type": "stream",
     "text": [
      "-2.9375 kJ/mol 233.47621154785156 kJ/mol 777.9202041625977 kJ/mol 863.3046875 kJ/mol rejected\n"
     ]
    },
    {
     "name": "stderr",
     "output_type": "stream",
     "text": [
      "100%|██████████| 1/1 [00:01<00:00,  2.00s/it]\n"
     ]
    },
    {
     "name": "stdout",
     "output_type": "stream",
     "text": [
      "12.754486083984375 kJ/mol 141.17254638671875 kJ/mol 656.2472610473633 kJ/mol 1064.134765625 kJ/mol rejected\n"
     ]
    },
    {
     "name": "stderr",
     "output_type": "stream",
     "text": [
      "100%|██████████| 1/1 [00:01<00:00,  1.88s/it]\n"
     ]
    },
    {
     "name": "stdout",
     "output_type": "stream",
     "text": [
      "11.557327270507812 kJ/mol 0.494415283203125 kJ/mol 585.0883941650391 kJ/mol 1744.1240234375 kJ/mol rejected\n"
     ]
    },
    {
     "name": "stderr",
     "output_type": "stream",
     "text": [
      "100%|██████████| 1/1 [00:01<00:00,  1.88s/it]\n"
     ]
    },
    {
     "name": "stdout",
     "output_type": "stream",
     "text": [
      "4.81622314453125 kJ/mol 2.24591064453125 kJ/mol 528.5955200195312 kJ/mol 1411.623046875 kJ/mol rejected\n"
     ]
    },
    {
     "name": "stderr",
     "output_type": "stream",
     "text": [
      "100%|██████████| 1/1 [00:01<00:00,  1.88s/it]\n"
     ]
    },
    {
     "name": "stdout",
     "output_type": "stream",
     "text": [
      "12.19561767578125 kJ/mol -2.422088623046875 kJ/mol 546.7896881103516 kJ/mol 1497.267578125 kJ/mol rejected\n"
     ]
    },
    {
     "name": "stderr",
     "output_type": "stream",
     "text": [
      "100%|██████████| 1/1 [00:01<00:00,  1.88s/it]\n"
     ]
    },
    {
     "name": "stdout",
     "output_type": "stream",
     "text": [
      "7.3677978515625 kJ/mol 1.9980926513671875 kJ/mol 433.5924835205078 kJ/mol 1036.521484375 kJ/mol rejected\n"
     ]
    },
    {
     "name": "stderr",
     "output_type": "stream",
     "text": [
      "100%|██████████| 1/1 [00:01<00:00,  1.89s/it]\n"
     ]
    },
    {
     "name": "stdout",
     "output_type": "stream",
     "text": [
      "9.493789672851562 kJ/mol 345.06256103515625 kJ/mol 824.2884063720703 kJ/mol 1044.625 kJ/mol rejected\n"
     ]
    },
    {
     "name": "stderr",
     "output_type": "stream",
     "text": [
      "100%|██████████| 1/1 [00:01<00:00,  1.89s/it]\n"
     ]
    },
    {
     "name": "stdout",
     "output_type": "stream",
     "text": [
      "8.761962890625 kJ/mol 189.05648803710938 kJ/mol 738.5130004882812 kJ/mol 763.955078125 kJ/mol rejected\n"
     ]
    },
    {
     "name": "stderr",
     "output_type": "stream",
     "text": [
      "100%|██████████| 1/1 [00:02<00:00,  2.27s/it]\n"
     ]
    },
    {
     "name": "stdout",
     "output_type": "stream",
     "text": [
      "8.788925170898438 kJ/mol 137.53692626953125 kJ/mol 641.5727920532227 kJ/mol 700.966796875 kJ/mol rejected\n"
     ]
    },
    {
     "name": "stderr",
     "output_type": "stream",
     "text": [
      "100%|██████████| 1/1 [00:01<00:00,  1.99s/it]\n"
     ]
    },
    {
     "name": "stdout",
     "output_type": "stream",
     "text": [
      "16.008514404296875 kJ/mol 58.224273681640625 kJ/mol 591.4601135253906 kJ/mol 1258.958984375 kJ/mol rejected\n"
     ]
    },
    {
     "name": "stderr",
     "output_type": "stream",
     "text": [
      "100%|██████████| 1/1 [00:01<00:00,  1.88s/it]\n"
     ]
    },
    {
     "name": "stdout",
     "output_type": "stream",
     "text": [
      "2.5634765625 kJ/mol 7.153167724609375 kJ/mol 566.2596435546875 kJ/mol 1145.005859375 kJ/mol rejected\n"
     ]
    },
    {
     "name": "stderr",
     "output_type": "stream",
     "text": [
      "100%|██████████| 1/1 [00:01<00:00,  1.88s/it]\n"
     ]
    },
    {
     "name": "stdout",
     "output_type": "stream",
     "text": [
      "8.48651123046875 kJ/mol 106.7388916015625 kJ/mol 671.1400451660156 kJ/mol 1071.578125 kJ/mol rejected\n"
     ]
    },
    {
     "name": "stderr",
     "output_type": "stream",
     "text": [
      "100%|██████████| 1/1 [00:01<00:00,  1.88s/it]\n"
     ]
    },
    {
     "name": "stdout",
     "output_type": "stream",
     "text": [
      "14.270523071289062 kJ/mol 94.7806396484375 kJ/mol 637.8695220947266 kJ/mol 1641.111328125 kJ/mol rejected\n"
     ]
    },
    {
     "name": "stderr",
     "output_type": "stream",
     "text": [
      "100%|██████████| 1/1 [00:01<00:00,  1.88s/it]\n"
     ]
    },
    {
     "name": "stdout",
     "output_type": "stream",
     "text": [
      "7.5152435302734375 kJ/mol 170.31719970703125 kJ/mol 706.6686019897461 kJ/mol 1098.23828125 kJ/mol rejected\n"
     ]
    },
    {
     "name": "stderr",
     "output_type": "stream",
     "text": [
      "100%|██████████| 1/1 [00:01<00:00,  1.88s/it]\n"
     ]
    },
    {
     "name": "stdout",
     "output_type": "stream",
     "text": [
      "11.369140625 kJ/mol 43.31941223144531 kJ/mol 523.90673828125 kJ/mol 1046.8994140625 kJ/mol rejected\n"
     ]
    },
    {
     "name": "stderr",
     "output_type": "stream",
     "text": [
      "100%|██████████| 1/1 [00:01<00:00,  1.88s/it]\n"
     ]
    },
    {
     "name": "stdout",
     "output_type": "stream",
     "text": [
      "6.65313720703125 kJ/mol 0.432098388671875 kJ/mol 470.7086181640625 kJ/mol 1274.0791015625 kJ/mol rejected\n"
     ]
    },
    {
     "name": "stderr",
     "output_type": "stream",
     "text": [
      "100%|██████████| 1/1 [00:01<00:00,  1.88s/it]\n"
     ]
    },
    {
     "name": "stdout",
     "output_type": "stream",
     "text": [
      "9.828689575195312 kJ/mol 120.24882507324219 kJ/mol 673.8442840576172 kJ/mol 1277.31640625 kJ/mol rejected\n"
     ]
    },
    {
     "name": "stderr",
     "output_type": "stream",
     "text": [
      "100%|██████████| 1/1 [00:01<00:00,  1.99s/it]\n"
     ]
    },
    {
     "name": "stdout",
     "output_type": "stream",
     "text": [
      "3.4725799560546875 kJ/mol 18.212738037109375 kJ/mol 525.8822784423828 kJ/mol 1588.20703125 kJ/mol rejected\n"
     ]
    },
    {
     "name": "stderr",
     "output_type": "stream",
     "text": [
      "100%|██████████| 1/1 [00:01<00:00,  1.89s/it]\n"
     ]
    },
    {
     "name": "stdout",
     "output_type": "stream",
     "text": [
      "7.256195068359375 kJ/mol 145.23843383789062 kJ/mol 654.2356262207031 kJ/mol 842.845703125 kJ/mol rejected\n"
     ]
    },
    {
     "name": "stderr",
     "output_type": "stream",
     "text": [
      "100%|██████████| 1/1 [00:01<00:00,  1.89s/it]\n"
     ]
    },
    {
     "name": "stdout",
     "output_type": "stream",
     "text": [
      "0.6849365234375 kJ/mol 6.5560302734375 kJ/mol 481.5106658935547 kJ/mol 754.7958984375 kJ/mol rejected\n"
     ]
    },
    {
     "name": "stderr",
     "output_type": "stream",
     "text": [
      "100%|██████████| 1/1 [00:01<00:00,  1.89s/it]\n"
     ]
    },
    {
     "name": "stdout",
     "output_type": "stream",
     "text": [
      "11.686492919921875 kJ/mol 170.6782684326172 kJ/mol 785.7147598266602 kJ/mol 1341.84765625 kJ/mol rejected\n"
     ]
    },
    {
     "name": "stderr",
     "output_type": "stream",
     "text": [
      "100%|██████████| 1/1 [00:01<00:00,  1.89s/it]\n"
     ]
    },
    {
     "name": "stdout",
     "output_type": "stream",
     "text": [
      "0.513885498046875 kJ/mol 178.50820922851562 kJ/mol 744.2899856567383 kJ/mol 455.048828125 kJ/mol rejected\n"
     ]
    },
    {
     "name": "stderr",
     "output_type": "stream",
     "text": [
      "100%|██████████| 1/1 [00:01<00:00,  1.88s/it]\n"
     ]
    },
    {
     "name": "stdout",
     "output_type": "stream",
     "text": [
      "9.748641967773438 kJ/mol 162.43417358398438 kJ/mol 751.9795989990234 kJ/mol 985.9736328125 kJ/mol rejected\n"
     ]
    },
    {
     "name": "stderr",
     "output_type": "stream",
     "text": [
      "100%|██████████| 1/1 [00:01<00:00,  1.88s/it]\n"
     ]
    },
    {
     "name": "stdout",
     "output_type": "stream",
     "text": [
      "11.258926391601562 kJ/mol 319.75782775878906 kJ/mol 815.9032440185547 kJ/mol 1089.9599609375 kJ/mol rejected\n"
     ]
    },
    {
     "name": "stderr",
     "output_type": "stream",
     "text": [
      "100%|██████████| 1/1 [00:01<00:00,  1.99s/it]\n"
     ]
    },
    {
     "name": "stdout",
     "output_type": "stream",
     "text": [
      "8.691925048828125 kJ/mol 222.37335205078125 kJ/mol 803.0106048583984 kJ/mol 233.9130859375 kJ/mol rejected\n"
     ]
    },
    {
     "name": "stderr",
     "output_type": "stream",
     "text": [
      "100%|██████████| 1/1 [00:01<00:00,  1.88s/it]\n"
     ]
    },
    {
     "name": "stdout",
     "output_type": "stream",
     "text": [
      "10.0606689453125 kJ/mol 175.33021545410156 kJ/mol 720.5320434570312 kJ/mol 1479.1943359375 kJ/mol rejected\n"
     ]
    },
    {
     "name": "stderr",
     "output_type": "stream",
     "text": [
      "100%|██████████| 1/1 [00:01<00:00,  1.88s/it]\n"
     ]
    },
    {
     "name": "stdout",
     "output_type": "stream",
     "text": [
      "9.671432495117188 kJ/mol 57.083038330078125 kJ/mol 581.8331909179688 kJ/mol 1563.3125 kJ/mol rejected\n"
     ]
    },
    {
     "name": "stderr",
     "output_type": "stream",
     "text": [
      "100%|██████████| 1/1 [00:01<00:00,  1.88s/it]\n"
     ]
    },
    {
     "name": "stdout",
     "output_type": "stream",
     "text": [
      "12.100830078125 kJ/mol 82.03153991699219 kJ/mol 652.1685943603516 kJ/mol 1315.9150390625 kJ/mol rejected\n"
     ]
    },
    {
     "name": "stderr",
     "output_type": "stream",
     "text": [
      "100%|██████████| 1/1 [00:01<00:00,  1.88s/it]\n"
     ]
    },
    {
     "name": "stdout",
     "output_type": "stream",
     "text": [
      "9.401458740234375 kJ/mol 187.79611206054688 kJ/mol 798.3413848876953 kJ/mol 1163.3876953125 kJ/mol rejected\n"
     ]
    },
    {
     "name": "stderr",
     "output_type": "stream",
     "text": [
      "100%|██████████| 1/1 [00:01<00:00,  1.88s/it]\n"
     ]
    },
    {
     "name": "stdout",
     "output_type": "stream",
     "text": [
      "4.3511505126953125 kJ/mol 55.18328857421875 kJ/mol 540.3970489501953 kJ/mol 1549.388671875 kJ/mol rejected\n"
     ]
    },
    {
     "name": "stderr",
     "output_type": "stream",
     "text": [
      "100%|██████████| 1/1 [00:01<00:00,  1.88s/it]\n"
     ]
    },
    {
     "name": "stdout",
     "output_type": "stream",
     "text": [
      "10.96221923828125 kJ/mol 151.78799438476562 kJ/mol 688.3679351806641 kJ/mol 1148.568359375 kJ/mol rejected\n"
     ]
    },
    {
     "name": "stderr",
     "output_type": "stream",
     "text": [
      "100%|██████████| 1/1 [00:01<00:00,  2.00s/it]\n"
     ]
    },
    {
     "name": "stdout",
     "output_type": "stream",
     "text": [
      "8.4560546875 kJ/mol 154.10745239257812 kJ/mol 740.5368804931641 kJ/mol 1589.3740234375 kJ/mol rejected\n"
     ]
    },
    {
     "name": "stderr",
     "output_type": "stream",
     "text": [
      "100%|██████████| 1/1 [00:01<00:00,  1.88s/it]\n"
     ]
    },
    {
     "name": "stdout",
     "output_type": "stream",
     "text": [
      "8.887710571289062 kJ/mol 184.05775451660156 kJ/mol 664.4013137817383 kJ/mol 1240.84765625 kJ/mol rejected\n"
     ]
    },
    {
     "name": "stderr",
     "output_type": "stream",
     "text": [
      "100%|██████████| 1/1 [00:01<00:00,  1.88s/it]\n"
     ]
    },
    {
     "name": "stdout",
     "output_type": "stream",
     "text": [
      "3.117645263671875 kJ/mol 30.632904052734375 kJ/mol 539.8365478515625 kJ/mol 1134.9814453125 kJ/mol rejected\n"
     ]
    },
    {
     "name": "stderr",
     "output_type": "stream",
     "text": [
      "100%|██████████| 1/1 [00:01<00:00,  1.88s/it]\n"
     ]
    },
    {
     "name": "stdout",
     "output_type": "stream",
     "text": [
      "3.6052703857421875 kJ/mol 8.679580688476562 kJ/mol 504.41395568847656 kJ/mol 1377.4619140625 kJ/mol rejected\n"
     ]
    },
    {
     "name": "stderr",
     "output_type": "stream",
     "text": [
      "100%|██████████| 1/1 [00:01<00:00,  1.88s/it]\n"
     ]
    },
    {
     "name": "stdout",
     "output_type": "stream",
     "text": [
      "12.969635009765625 kJ/mol 136.27354431152344 kJ/mol 588.8784637451172 kJ/mol 1470.251953125 kJ/mol rejected\n"
     ]
    },
    {
     "name": "stderr",
     "output_type": "stream",
     "text": [
      "100%|██████████| 1/1 [00:01<00:00,  1.88s/it]\n"
     ]
    },
    {
     "name": "stdout",
     "output_type": "stream",
     "text": [
      "5.017486572265625 kJ/mol 47.29032897949219 kJ/mol 596.6939544677734 kJ/mol 949.53515625 kJ/mol rejected\n"
     ]
    },
    {
     "name": "stderr",
     "output_type": "stream",
     "text": [
      "100%|██████████| 1/1 [00:01<00:00,  1.88s/it]\n"
     ]
    },
    {
     "name": "stdout",
     "output_type": "stream",
     "text": [
      "-0.3031768798828125 kJ/mol 80.46316528320312 kJ/mol 599.7585144042969 kJ/mol 306.255859375 kJ/mol rejected\n"
     ]
    },
    {
     "name": "stderr",
     "output_type": "stream",
     "text": [
      "100%|██████████| 1/1 [00:02<00:00,  2.01s/it]\n"
     ]
    },
    {
     "name": "stdout",
     "output_type": "stream",
     "text": [
      "12.218551635742188 kJ/mol 145.72296142578125 kJ/mol 624.8124694824219 kJ/mol 670.501953125 kJ/mol rejected\n"
     ]
    },
    {
     "name": "stderr",
     "output_type": "stream",
     "text": [
      "100%|██████████| 1/1 [00:01<00:00,  1.89s/it]\n"
     ]
    },
    {
     "name": "stdout",
     "output_type": "stream",
     "text": [
      "12.744140625 kJ/mol -8.615814208984375 kJ/mol 485.60755157470703 kJ/mol 1130.185546875 kJ/mol rejected\n"
     ]
    },
    {
     "name": "stderr",
     "output_type": "stream",
     "text": [
      "100%|██████████| 1/1 [00:02<00:00,  2.33s/it]\n"
     ]
    },
    {
     "name": "stdout",
     "output_type": "stream",
     "text": [
      "-1.051513671875 kJ/mol 69.64950561523438 kJ/mol 547.6268844604492 kJ/mol 753.83203125 kJ/mol rejected\n"
     ]
    },
    {
     "name": "stderr",
     "output_type": "stream",
     "text": [
      "100%|██████████| 1/1 [00:01<00:00,  1.88s/it]\n"
     ]
    },
    {
     "name": "stdout",
     "output_type": "stream",
     "text": [
      "9.71649169921875 kJ/mol 128.9816436767578 kJ/mol 685.4137191772461 kJ/mol 783.44140625 kJ/mol rejected\n"
     ]
    },
    {
     "name": "stderr",
     "output_type": "stream",
     "text": [
      "100%|██████████| 1/1 [00:01<00:00,  1.88s/it]\n"
     ]
    },
    {
     "name": "stdout",
     "output_type": "stream",
     "text": [
      "-0.9792327880859375 kJ/mol 6.130035400390625 kJ/mol 488.8314514160156 kJ/mol 671.5263671875 kJ/mol rejected\n"
     ]
    },
    {
     "name": "stderr",
     "output_type": "stream",
     "text": [
      "100%|██████████| 1/1 [00:01<00:00,  1.88s/it]\n"
     ]
    },
    {
     "name": "stdout",
     "output_type": "stream",
     "text": [
      "5.3222198486328125 kJ/mol 119.49148559570312 kJ/mol 651.6171188354492 kJ/mol 1059.2119140625 kJ/mol rejected\n"
     ]
    },
    {
     "name": "stderr",
     "output_type": "stream",
     "text": [
      "100%|██████████| 1/1 [00:01<00:00,  1.89s/it]\n"
     ]
    },
    {
     "name": "stdout",
     "output_type": "stream",
     "text": [
      "11.186660766601562 kJ/mol 117.03720092773438 kJ/mol 606.4215087890625 kJ/mol 1118.7998046875 kJ/mol rejected\n"
     ]
    },
    {
     "name": "stderr",
     "output_type": "stream",
     "text": [
      "100%|██████████| 1/1 [00:01<00:00,  1.88s/it]\n"
     ]
    },
    {
     "name": "stdout",
     "output_type": "stream",
     "text": [
      "5.847686767578125 kJ/mol 111.02987670898438 kJ/mol 513.9912719726562 kJ/mol 1218.9306640625 kJ/mol rejected\n"
     ]
    },
    {
     "name": "stderr",
     "output_type": "stream",
     "text": [
      "100%|██████████| 1/1 [00:01<00:00,  1.88s/it]\n"
     ]
    },
    {
     "name": "stdout",
     "output_type": "stream",
     "text": [
      "9.089340209960938 kJ/mol 0.9633636474609375 kJ/mol 497.90306091308594 kJ/mol 490.203125 kJ/mol rejected\n"
     ]
    },
    {
     "name": "stderr",
     "output_type": "stream",
     "text": [
      "100%|██████████| 1/1 [00:01<00:00,  1.99s/it]\n"
     ]
    },
    {
     "name": "stdout",
     "output_type": "stream",
     "text": [
      "7.8937225341796875 kJ/mol 201.60093688964844 kJ/mol 789.9239501953125 kJ/mol 1344.08984375 kJ/mol rejected\n"
     ]
    },
    {
     "name": "stderr",
     "output_type": "stream",
     "text": [
      "100%|██████████| 1/1 [00:01<00:00,  1.88s/it]\n"
     ]
    },
    {
     "name": "stdout",
     "output_type": "stream",
     "text": [
      "9.818557739257812 kJ/mol 37.44740295410156 kJ/mol 534.7426300048828 kJ/mol 645.5 kJ/mol rejected\n"
     ]
    },
    {
     "name": "stderr",
     "output_type": "stream",
     "text": [
      "100%|██████████| 1/1 [00:01<00:00,  1.88s/it]\n"
     ]
    },
    {
     "name": "stdout",
     "output_type": "stream",
     "text": [
      "10.861328125 kJ/mol 137.3961944580078 kJ/mol 610.4271850585938 kJ/mol 605.1640625 kJ/mol rejected\n"
     ]
    },
    {
     "name": "stderr",
     "output_type": "stream",
     "text": [
      "100%|██████████| 1/1 [00:01<00:00,  1.88s/it]\n"
     ]
    },
    {
     "name": "stdout",
     "output_type": "stream",
     "text": [
      "13.456695556640625 kJ/mol 139.7919921875 kJ/mol 654.0719909667969 kJ/mol 872.3896484375 kJ/mol rejected\n"
     ]
    },
    {
     "name": "stderr",
     "output_type": "stream",
     "text": [
      "100%|██████████| 1/1 [00:01<00:00,  1.88s/it]\n"
     ]
    },
    {
     "name": "stdout",
     "output_type": "stream",
     "text": [
      "12.910614013671875 kJ/mol 93.1571044921875 kJ/mol 564.2712554931641 kJ/mol 1095.189453125 kJ/mol rejected\n"
     ]
    },
    {
     "name": "stderr",
     "output_type": "stream",
     "text": [
      "100%|██████████| 1/1 [00:01<00:00,  1.88s/it]\n"
     ]
    },
    {
     "name": "stdout",
     "output_type": "stream",
     "text": [
      "10.176254272460938 kJ/mol 156.0578155517578 kJ/mol 631.6630096435547 kJ/mol 488.7109375 kJ/mol rejected\n"
     ]
    },
    {
     "name": "stderr",
     "output_type": "stream",
     "text": [
      "100%|██████████| 1/1 [00:01<00:00,  1.88s/it]\n"
     ]
    },
    {
     "name": "stdout",
     "output_type": "stream",
     "text": [
      "8.771255493164062 kJ/mol 163.123046875 kJ/mol 758.2194442749023 kJ/mol 1393.1435546875 kJ/mol rejected\n"
     ]
    },
    {
     "name": "stderr",
     "output_type": "stream",
     "text": [
      "100%|██████████| 1/1 [00:01<00:00,  1.88s/it]\n"
     ]
    },
    {
     "name": "stdout",
     "output_type": "stream",
     "text": [
      "8.95208740234375 kJ/mol 196.51612854003906 kJ/mol 695.9647216796875 kJ/mol 1023.4619140625 kJ/mol rejected\n"
     ]
    },
    {
     "name": "stderr",
     "output_type": "stream",
     "text": [
      "100%|██████████| 1/1 [00:01<00:00,  1.98s/it]\n"
     ]
    },
    {
     "name": "stdout",
     "output_type": "stream",
     "text": [
      "-1.08502197265625 kJ/mol 300.2169494628906 kJ/mol 759.8267593383789 kJ/mol 620.1220703125 kJ/mol rejected\n"
     ]
    },
    {
     "name": "stderr",
     "output_type": "stream",
     "text": [
      "100%|██████████| 1/1 [00:01<00:00,  1.88s/it]\n"
     ]
    },
    {
     "name": "stdout",
     "output_type": "stream",
     "text": [
      "7.9585723876953125 kJ/mol 123.22274780273438 kJ/mol 608.3587265014648 kJ/mol 1050.2119140625 kJ/mol rejected\n"
     ]
    },
    {
     "name": "stderr",
     "output_type": "stream",
     "text": [
      "100%|██████████| 1/1 [00:01<00:00,  1.88s/it]\n"
     ]
    },
    {
     "name": "stdout",
     "output_type": "stream",
     "text": [
      "13.249954223632812 kJ/mol 179.8296661376953 kJ/mol 658.9494018554688 kJ/mol 1197.91015625 kJ/mol rejected\n"
     ]
    },
    {
     "name": "stderr",
     "output_type": "stream",
     "text": [
      "100%|██████████| 1/1 [00:01<00:00,  1.88s/it]\n"
     ]
    },
    {
     "name": "stdout",
     "output_type": "stream",
     "text": [
      "6.880828857421875 kJ/mol 43.51152038574219 kJ/mol 515.3861541748047 kJ/mol 1108.7177734375 kJ/mol rejected\n"
     ]
    },
    {
     "name": "stderr",
     "output_type": "stream",
     "text": [
      "100%|██████████| 1/1 [00:01<00:00,  1.88s/it]\n"
     ]
    },
    {
     "name": "stdout",
     "output_type": "stream",
     "text": [
      "2.5400238037109375 kJ/mol 213.05735778808594 kJ/mol 710.6089706420898 kJ/mol 818.50390625 kJ/mol rejected\n"
     ]
    },
    {
     "name": "stderr",
     "output_type": "stream",
     "text": [
      "100%|██████████| 1/1 [00:01<00:00,  1.88s/it]\n"
     ]
    },
    {
     "name": "stdout",
     "output_type": "stream",
     "text": [
      "4.765167236328125 kJ/mol 152.744873046875 kJ/mol 632.0110626220703 kJ/mol 1184.0263671875 kJ/mol rejected\n"
     ]
    },
    {
     "name": "stderr",
     "output_type": "stream",
     "text": [
      "100%|██████████| 1/1 [00:01<00:00,  1.99s/it]\n"
     ]
    },
    {
     "name": "stdout",
     "output_type": "stream",
     "text": [
      "10.887237548828125 kJ/mol 109.14205932617188 kJ/mol 651.0923156738281 kJ/mol 1166.7998046875 kJ/mol rejected\n"
     ]
    },
    {
     "name": "stderr",
     "output_type": "stream",
     "text": [
      "100%|██████████| 1/1 [00:01<00:00,  1.88s/it]\n"
     ]
    },
    {
     "name": "stdout",
     "output_type": "stream",
     "text": [
      "10.163177490234375 kJ/mol 26.57208251953125 kJ/mol 547.7878570556641 kJ/mol 1422.2646484375 kJ/mol rejected\n"
     ]
    },
    {
     "name": "stderr",
     "output_type": "stream",
     "text": [
      "100%|██████████| 1/1 [00:01<00:00,  1.88s/it]\n"
     ]
    },
    {
     "name": "stdout",
     "output_type": "stream",
     "text": [
      "5.877960205078125 kJ/mol 125.01712036132812 kJ/mol 616.9614410400391 kJ/mol 923.4853515625 kJ/mol rejected\n"
     ]
    },
    {
     "name": "stderr",
     "output_type": "stream",
     "text": [
      "100%|██████████| 1/1 [00:01<00:00,  1.88s/it]\n"
     ]
    },
    {
     "name": "stdout",
     "output_type": "stream",
     "text": [
      "10.391021728515625 kJ/mol 26.281936645507812 kJ/mol 484.1816177368164 kJ/mol 840.9189453125 kJ/mol rejected\n"
     ]
    },
    {
     "name": "stderr",
     "output_type": "stream",
     "text": [
      "100%|██████████| 1/1 [00:01<00:00,  1.88s/it]\n"
     ]
    },
    {
     "name": "stdout",
     "output_type": "stream",
     "text": [
      "10.709609985351562 kJ/mol 174.60922241210938 kJ/mol 649.6886138916016 kJ/mol 1117.771484375 kJ/mol rejected\n"
     ]
    },
    {
     "name": "stderr",
     "output_type": "stream",
     "text": [
      "100%|██████████| 1/1 [00:01<00:00,  1.88s/it]\n"
     ]
    },
    {
     "name": "stdout",
     "output_type": "stream",
     "text": [
      "9.634796142578125 kJ/mol 195.9596710205078 kJ/mol 761.2189483642578 kJ/mol 1214.1376953125 kJ/mol rejected\n"
     ]
    },
    {
     "name": "stderr",
     "output_type": "stream",
     "text": [
      "100%|██████████| 1/1 [00:01<00:00,  1.88s/it]\n"
     ]
    },
    {
     "name": "stdout",
     "output_type": "stream",
     "text": [
      "5.895904541015625 kJ/mol 210.5328369140625 kJ/mol 664.0990524291992 kJ/mol 764.9462890625 kJ/mol rejected\n"
     ]
    },
    {
     "name": "stderr",
     "output_type": "stream",
     "text": [
      "100%|██████████| 1/1 [00:01<00:00,  1.88s/it]\n"
     ]
    },
    {
     "name": "stdout",
     "output_type": "stream",
     "text": [
      "4.1996307373046875 kJ/mol 135.3842315673828 kJ/mol 600.1533966064453 kJ/mol 417.3203125 kJ/mol rejected\n"
     ]
    },
    {
     "name": "stderr",
     "output_type": "stream",
     "text": [
      "100%|██████████| 1/1 [00:02<00:00,  2.02s/it]\n"
     ]
    },
    {
     "name": "stdout",
     "output_type": "stream",
     "text": [
      "6.6075439453125 kJ/mol 152.37037658691406 kJ/mol 596.0240783691406 kJ/mol 1212.7939453125 kJ/mol rejected\n"
     ]
    },
    {
     "name": "stderr",
     "output_type": "stream",
     "text": [
      "100%|██████████| 1/1 [00:01<00:00,  1.89s/it]\n"
     ]
    },
    {
     "name": "stdout",
     "output_type": "stream",
     "text": [
      "7.2570648193359375 kJ/mol 135.4109344482422 kJ/mol 679.5774536132812 kJ/mol 1108.048828125 kJ/mol rejected\n"
     ]
    },
    {
     "name": "stderr",
     "output_type": "stream",
     "text": [
      "100%|██████████| 1/1 [00:01<00:00,  1.88s/it]\n"
     ]
    },
    {
     "name": "stdout",
     "output_type": "stream",
     "text": [
      "9.136627197265625 kJ/mol 109.05072021484375 kJ/mol 651.9553070068359 kJ/mol 501.578125 kJ/mol rejected\n"
     ]
    },
    {
     "name": "stderr",
     "output_type": "stream",
     "text": [
      "100%|██████████| 1/1 [00:02<00:00,  2.42s/it]\n"
     ]
    },
    {
     "name": "stdout",
     "output_type": "stream",
     "text": [
      "11.622650146484375 kJ/mol 28.333847045898438 kJ/mol 548.1471939086914 kJ/mol 944.3583984375 kJ/mol rejected\n"
     ]
    },
    {
     "name": "stderr",
     "output_type": "stream",
     "text": [
      "100%|██████████| 1/1 [00:01<00:00,  1.88s/it]\n"
     ]
    },
    {
     "name": "stdout",
     "output_type": "stream",
     "text": [
      "7.7101287841796875 kJ/mol 280.74293518066406 kJ/mol 741.2069702148438 kJ/mol 873.6787109375 kJ/mol rejected\n"
     ]
    },
    {
     "name": "stderr",
     "output_type": "stream",
     "text": [
      "100%|██████████| 1/1 [00:01<00:00,  1.88s/it]\n"
     ]
    },
    {
     "name": "stdout",
     "output_type": "stream",
     "text": [
      "14.545578002929688 kJ/mol 104.77534484863281 kJ/mol 647.11865234375 kJ/mol 1445.611328125 kJ/mol rejected\n"
     ]
    },
    {
     "name": "stderr",
     "output_type": "stream",
     "text": [
      "100%|██████████| 1/1 [00:01<00:00,  1.88s/it]\n"
     ]
    },
    {
     "name": "stdout",
     "output_type": "stream",
     "text": [
      "9.1324462890625 kJ/mol 159.9747772216797 kJ/mol 583.1334762573242 kJ/mol 1050.310546875 kJ/mol rejected\n"
     ]
    },
    {
     "name": "stderr",
     "output_type": "stream",
     "text": [
      "100%|██████████| 1/1 [00:01<00:00,  1.88s/it]\n"
     ]
    },
    {
     "name": "stdout",
     "output_type": "stream",
     "text": [
      "7.5310821533203125 kJ/mol 224.7108612060547 kJ/mol 734.2280731201172 kJ/mol 802.7021484375 kJ/mol rejected\n"
     ]
    },
    {
     "name": "stderr",
     "output_type": "stream",
     "text": [
      "100%|██████████| 1/1 [00:02<00:00,  2.00s/it]\n"
     ]
    },
    {
     "name": "stdout",
     "output_type": "stream",
     "text": [
      "10.893722534179688 kJ/mol 112.72688293457031 kJ/mol 682.5366973876953 kJ/mol 1401.1708984375 kJ/mol rejected\n"
     ]
    },
    {
     "name": "stderr",
     "output_type": "stream",
     "text": [
      "100%|██████████| 1/1 [00:01<00:00,  1.88s/it]\n"
     ]
    },
    {
     "name": "stdout",
     "output_type": "stream",
     "text": [
      "8.56646728515625 kJ/mol -8.691452026367188 kJ/mol 441.34193420410156 kJ/mol 1007.416015625 kJ/mol accepted\n"
     ]
    },
    {
     "name": "stderr",
     "output_type": "stream",
     "text": [
      "100%|██████████| 1/1 [00:01<00:00,  1.88s/it]\n",
      " 80%|████████  | 4/5 [05:07<01:34, 94.43s/it]"
     ]
    },
    {
     "name": "stdout",
     "output_type": "stream",
     "text": [
      "9.149871826171875 kJ/mol 104.5047607421875 kJ/mol 598.6199264526367 kJ/mol 727.9853515625 kJ/mol rejected\n"
     ]
    },
    {
     "name": "stderr",
     "output_type": "stream",
     "text": [
      "100%|██████████| 1/1 [00:01<00:00,  1.88s/it]\n"
     ]
    },
    {
     "name": "stdout",
     "output_type": "stream",
     "text": [
      "10.256439208984375 kJ/mol 188.3072052001953 kJ/mol 675.9524230957031 kJ/mol 1109.572265625 kJ/mol rejected\n"
     ]
    },
    {
     "name": "stderr",
     "output_type": "stream",
     "text": [
      "100%|██████████| 1/1 [00:01<00:00,  1.88s/it]\n"
     ]
    },
    {
     "name": "stdout",
     "output_type": "stream",
     "text": [
      "16.227203369140625 kJ/mol 89.96942138671875 kJ/mol 576.8220596313477 kJ/mol 784.0087890625 kJ/mol rejected\n"
     ]
    },
    {
     "name": "stderr",
     "output_type": "stream",
     "text": [
      "100%|██████████| 1/1 [00:01<00:00,  1.88s/it]\n"
     ]
    },
    {
     "name": "stdout",
     "output_type": "stream",
     "text": [
      "6.312347412109375 kJ/mol 183.65457153320312 kJ/mol 717.4144744873047 kJ/mol 766.31640625 kJ/mol rejected\n"
     ]
    },
    {
     "name": "stderr",
     "output_type": "stream",
     "text": [
      "100%|██████████| 1/1 [00:01<00:00,  1.88s/it]\n"
     ]
    },
    {
     "name": "stdout",
     "output_type": "stream",
     "text": [
      "10.430389404296875 kJ/mol 256.08319091796875 kJ/mol 851.1701126098633 kJ/mol 1125.8828125 kJ/mol rejected\n"
     ]
    },
    {
     "name": "stderr",
     "output_type": "stream",
     "text": [
      "100%|██████████| 1/1 [00:01<00:00,  1.99s/it]\n"
     ]
    },
    {
     "name": "stdout",
     "output_type": "stream",
     "text": [
      "8.319015502929688 kJ/mol 157.82333374023438 kJ/mol 729.5654144287109 kJ/mol 1192.708984375 kJ/mol rejected\n"
     ]
    },
    {
     "name": "stderr",
     "output_type": "stream",
     "text": [
      "100%|██████████| 1/1 [00:01<00:00,  1.88s/it]\n"
     ]
    },
    {
     "name": "stdout",
     "output_type": "stream",
     "text": [
      "5.4527587890625 kJ/mol 194.58729553222656 kJ/mol 796.8530883789062 kJ/mol 1433.931640625 kJ/mol rejected\n"
     ]
    },
    {
     "name": "stderr",
     "output_type": "stream",
     "text": [
      "100%|██████████| 1/1 [00:01<00:00,  1.89s/it]\n"
     ]
    },
    {
     "name": "stdout",
     "output_type": "stream",
     "text": [
      "3.7234649658203125 kJ/mol 8.9244384765625 kJ/mol 569.6602172851562 kJ/mol 1260.3037109375 kJ/mol rejected\n"
     ]
    },
    {
     "name": "stderr",
     "output_type": "stream",
     "text": [
      "100%|██████████| 1/1 [00:01<00:00,  1.89s/it]\n"
     ]
    },
    {
     "name": "stdout",
     "output_type": "stream",
     "text": [
      "8.85321044921875 kJ/mol 6.22283935546875 kJ/mol 531.1847076416016 kJ/mol 751.34765625 kJ/mol rejected\n"
     ]
    },
    {
     "name": "stderr",
     "output_type": "stream",
     "text": [
      "100%|██████████| 1/1 [00:01<00:00,  1.88s/it]\n"
     ]
    },
    {
     "name": "stdout",
     "output_type": "stream",
     "text": [
      "6.6816253662109375 kJ/mol 27.485061645507812 kJ/mol 508.7509002685547 kJ/mol 906.8232421875 kJ/mol rejected\n"
     ]
    },
    {
     "name": "stderr",
     "output_type": "stream",
     "text": [
      "100%|██████████| 1/1 [00:01<00:00,  1.88s/it]\n"
     ]
    },
    {
     "name": "stdout",
     "output_type": "stream",
     "text": [
      "11.994613647460938 kJ/mol 54.49000549316406 kJ/mol 511.1690139770508 kJ/mol 916.958984375 kJ/mol rejected\n"
     ]
    },
    {
     "name": "stderr",
     "output_type": "stream",
     "text": [
      "100%|██████████| 1/1 [00:01<00:00,  1.88s/it]\n"
     ]
    },
    {
     "name": "stdout",
     "output_type": "stream",
     "text": [
      "-1.2486114501953125 kJ/mol 131.25662231445312 kJ/mol 739.7521362304688 kJ/mol 1311.2412109375 kJ/mol rejected\n"
     ]
    },
    {
     "name": "stderr",
     "output_type": "stream",
     "text": [
      "100%|██████████| 1/1 [00:01<00:00,  2.00s/it]\n"
     ]
    },
    {
     "name": "stdout",
     "output_type": "stream",
     "text": [
      "5.736541748046875 kJ/mol 183.55140686035156 kJ/mol 683.4431991577148 kJ/mol 1447.701171875 kJ/mol rejected\n"
     ]
    },
    {
     "name": "stderr",
     "output_type": "stream",
     "text": [
      "100%|██████████| 1/1 [00:01<00:00,  1.89s/it]\n"
     ]
    },
    {
     "name": "stdout",
     "output_type": "stream",
     "text": [
      "4.4654693603515625 kJ/mol 277.45668029785156 kJ/mol 823.2151107788086 kJ/mol 473.5830078125 kJ/mol rejected\n"
     ]
    },
    {
     "name": "stderr",
     "output_type": "stream",
     "text": [
      "100%|██████████| 1/1 [00:01<00:00,  1.88s/it]\n"
     ]
    },
    {
     "name": "stdout",
     "output_type": "stream",
     "text": [
      "9.851959228515625 kJ/mol 162.3948516845703 kJ/mol 724.8708953857422 kJ/mol 1463.9345703125 kJ/mol rejected\n"
     ]
    },
    {
     "name": "stderr",
     "output_type": "stream",
     "text": [
      "100%|██████████| 1/1 [00:01<00:00,  1.88s/it]\n"
     ]
    },
    {
     "name": "stdout",
     "output_type": "stream",
     "text": [
      "12.544296264648438 kJ/mol 29.181411743164062 kJ/mol 551.0858383178711 kJ/mol 721.341796875 kJ/mol rejected\n"
     ]
    },
    {
     "name": "stderr",
     "output_type": "stream",
     "text": [
      "100%|██████████| 1/1 [00:01<00:00,  1.88s/it]\n"
     ]
    },
    {
     "name": "stdout",
     "output_type": "stream",
     "text": [
      "3.083038330078125 kJ/mol 127.84121704101562 kJ/mol 634.41943359375 kJ/mol 1138.24609375 kJ/mol rejected\n"
     ]
    },
    {
     "name": "stderr",
     "output_type": "stream",
     "text": [
      "100%|██████████| 1/1 [00:01<00:00,  1.88s/it]\n"
     ]
    },
    {
     "name": "stdout",
     "output_type": "stream",
     "text": [
      "6.50604248046875 kJ/mol 201.0703582763672 kJ/mol 671.8516235351562 kJ/mol 163.68359375 kJ/mol rejected\n"
     ]
    },
    {
     "name": "stderr",
     "output_type": "stream",
     "text": [
      "100%|██████████| 1/1 [00:01<00:00,  1.88s/it]\n"
     ]
    },
    {
     "name": "stdout",
     "output_type": "stream",
     "text": [
      "1.542938232421875 kJ/mol 15.38153076171875 kJ/mol 505.5270538330078 kJ/mol 493.0927734375 kJ/mol rejected\n"
     ]
    },
    {
     "name": "stderr",
     "output_type": "stream",
     "text": [
      "100%|██████████| 1/1 [00:01<00:00,  1.89s/it]\n"
     ]
    },
    {
     "name": "stdout",
     "output_type": "stream",
     "text": [
      "-3.8556671142578125 kJ/mol 69.89393615722656 kJ/mol 647.1811370849609 kJ/mol 1163.4794921875 kJ/mol rejected\n"
     ]
    },
    {
     "name": "stderr",
     "output_type": "stream",
     "text": [
      "100%|██████████| 1/1 [00:01<00:00,  2.00s/it]\n"
     ]
    },
    {
     "name": "stdout",
     "output_type": "stream",
     "text": [
      "11.626678466796875 kJ/mol 3.567779541015625 kJ/mol 547.6602096557617 kJ/mol 1753.189453125 kJ/mol rejected\n"
     ]
    },
    {
     "name": "stderr",
     "output_type": "stream",
     "text": [
      "100%|██████████| 1/1 [00:01<00:00,  1.89s/it]\n"
     ]
    },
    {
     "name": "stdout",
     "output_type": "stream",
     "text": [
      "8.393951416015625 kJ/mol 242.28567504882812 kJ/mol 747.9766616821289 kJ/mol 1133.7587890625 kJ/mol rejected\n"
     ]
    },
    {
     "name": "stderr",
     "output_type": "stream",
     "text": [
      "100%|██████████| 1/1 [00:01<00:00,  1.89s/it]\n"
     ]
    },
    {
     "name": "stdout",
     "output_type": "stream",
     "text": [
      "4.93505859375 kJ/mol 131.82077026367188 kJ/mol 604.5932998657227 kJ/mol 226.5751953125 kJ/mol rejected\n"
     ]
    },
    {
     "name": "stderr",
     "output_type": "stream",
     "text": [
      "100%|██████████| 1/1 [00:01<00:00,  1.88s/it]\n"
     ]
    },
    {
     "name": "stdout",
     "output_type": "stream",
     "text": [
      "7.5174560546875 kJ/mol 391.2176818847656 kJ/mol 913.1525726318359 kJ/mol 1039.48828125 kJ/mol rejected\n"
     ]
    },
    {
     "name": "stderr",
     "output_type": "stream",
     "text": [
      "100%|██████████| 1/1 [00:01<00:00,  1.88s/it]\n"
     ]
    },
    {
     "name": "stdout",
     "output_type": "stream",
     "text": [
      "6.773834228515625 kJ/mol 94.0697021484375 kJ/mol 612.6699676513672 kJ/mol 811.279296875 kJ/mol rejected\n"
     ]
    },
    {
     "name": "stderr",
     "output_type": "stream",
     "text": [
      "100%|██████████| 1/1 [00:02<00:00,  2.25s/it]\n"
     ]
    },
    {
     "name": "stdout",
     "output_type": "stream",
     "text": [
      "5.8663482666015625 kJ/mol 130.04611206054688 kJ/mol 655.0876541137695 kJ/mol 1407.392578125 kJ/mol rejected\n"
     ]
    },
    {
     "name": "stderr",
     "output_type": "stream",
     "text": [
      "100%|██████████| 1/1 [00:01<00:00,  1.88s/it]\n"
     ]
    },
    {
     "name": "stdout",
     "output_type": "stream",
     "text": [
      "10.107086181640625 kJ/mol 170.1750030517578 kJ/mol 733.7835311889648 kJ/mol 1514.5830078125 kJ/mol rejected\n"
     ]
    },
    {
     "name": "stderr",
     "output_type": "stream",
     "text": [
      "100%|██████████| 1/1 [00:01<00:00,  1.88s/it]\n"
     ]
    },
    {
     "name": "stdout",
     "output_type": "stream",
     "text": [
      "12.356781005859375 kJ/mol 75.84095764160156 kJ/mol 540.0773468017578 kJ/mol 969.9970703125 kJ/mol rejected\n"
     ]
    },
    {
     "name": "stderr",
     "output_type": "stream",
     "text": [
      "100%|██████████| 1/1 [00:01<00:00,  1.99s/it]\n"
     ]
    },
    {
     "name": "stdout",
     "output_type": "stream",
     "text": [
      "8.513626098632812 kJ/mol 123.56678771972656 kJ/mol 619.0728149414062 kJ/mol 605.1884765625 kJ/mol rejected\n"
     ]
    },
    {
     "name": "stderr",
     "output_type": "stream",
     "text": [
      "100%|██████████| 1/1 [00:01<00:00,  1.89s/it]\n"
     ]
    },
    {
     "name": "stdout",
     "output_type": "stream",
     "text": [
      "15.718643188476562 kJ/mol 153.6888885498047 kJ/mol 669.3548812866211 kJ/mol 883.0576171875 kJ/mol rejected\n"
     ]
    },
    {
     "name": "stderr",
     "output_type": "stream",
     "text": [
      "100%|██████████| 1/1 [00:01<00:00,  1.88s/it]\n"
     ]
    },
    {
     "name": "stdout",
     "output_type": "stream",
     "text": [
      "15.380615234375 kJ/mol 14.011764526367188 kJ/mol 552.7317657470703 kJ/mol 1329.5458984375 kJ/mol rejected\n"
     ]
    },
    {
     "name": "stderr",
     "output_type": "stream",
     "text": [
      "100%|██████████| 1/1 [00:01<00:00,  1.88s/it]\n"
     ]
    },
    {
     "name": "stdout",
     "output_type": "stream",
     "text": [
      "13.376296997070312 kJ/mol -1.9176788330078125 kJ/mol 495.3562316894531 kJ/mol 1322.076171875 kJ/mol rejected\n"
     ]
    },
    {
     "name": "stderr",
     "output_type": "stream",
     "text": [
      "100%|██████████| 1/1 [00:01<00:00,  1.89s/it]\n"
     ]
    },
    {
     "name": "stdout",
     "output_type": "stream",
     "text": [
      "2.7877197265625 kJ/mol 203.13504028320312 kJ/mol 754.6260833740234 kJ/mol 795.1181640625 kJ/mol rejected\n"
     ]
    },
    {
     "name": "stderr",
     "output_type": "stream",
     "text": [
      "100%|██████████| 1/1 [00:01<00:00,  1.89s/it]\n"
     ]
    },
    {
     "name": "stdout",
     "output_type": "stream",
     "text": [
      "7.812225341796875 kJ/mol 16.600006103515625 kJ/mol 478.60948944091797 kJ/mol 534.00390625 kJ/mol rejected\n"
     ]
    },
    {
     "name": "stderr",
     "output_type": "stream",
     "text": [
      "100%|██████████| 1/1 [00:01<00:00,  1.89s/it]\n"
     ]
    },
    {
     "name": "stdout",
     "output_type": "stream",
     "text": [
      "11.08837890625 kJ/mol 15.335739135742188 kJ/mol 606.7843322753906 kJ/mol 1918.1552734375 kJ/mol rejected\n"
     ]
    },
    {
     "name": "stderr",
     "output_type": "stream",
     "text": [
      "100%|██████████| 1/1 [00:02<00:00,  2.00s/it]\n"
     ]
    },
    {
     "name": "stdout",
     "output_type": "stream",
     "text": [
      "10.541671752929688 kJ/mol 40.570556640625 kJ/mol 577.7946853637695 kJ/mol 1221.8623046875 kJ/mol rejected\n"
     ]
    },
    {
     "name": "stderr",
     "output_type": "stream",
     "text": [
      "100%|██████████| 1/1 [00:01<00:00,  1.88s/it]\n"
     ]
    },
    {
     "name": "stdout",
     "output_type": "stream",
     "text": [
      "7.7695465087890625 kJ/mol 272.6536102294922 kJ/mol 716.4709777832031 kJ/mol 869.9873046875 kJ/mol rejected\n"
     ]
    },
    {
     "name": "stderr",
     "output_type": "stream",
     "text": [
      "100%|██████████| 1/1 [00:01<00:00,  1.88s/it]\n"
     ]
    },
    {
     "name": "stdout",
     "output_type": "stream",
     "text": [
      "12.865432739257812 kJ/mol 28.023284912109375 kJ/mol 592.1786727905273 kJ/mol 1622.5048828125 kJ/mol rejected\n"
     ]
    },
    {
     "name": "stderr",
     "output_type": "stream",
     "text": [
      "100%|██████████| 1/1 [00:01<00:00,  1.88s/it]\n"
     ]
    },
    {
     "name": "stdout",
     "output_type": "stream",
     "text": [
      "11.4464111328125 kJ/mol 0.6550140380859375 kJ/mol 478.11024475097656 kJ/mol 1083.0009765625 kJ/mol rejected\n"
     ]
    },
    {
     "name": "stderr",
     "output_type": "stream",
     "text": [
      "100%|██████████| 1/1 [00:01<00:00,  1.88s/it]\n"
     ]
    },
    {
     "name": "stdout",
     "output_type": "stream",
     "text": [
      "20.889968872070312 kJ/mol 86.4373779296875 kJ/mol 575.5424957275391 kJ/mol 1075.86328125 kJ/mol rejected\n"
     ]
    },
    {
     "name": "stderr",
     "output_type": "stream",
     "text": [
      "100%|██████████| 1/1 [00:01<00:00,  1.89s/it]\n"
     ]
    },
    {
     "name": "stdout",
     "output_type": "stream",
     "text": [
      "10.7286376953125 kJ/mol 233.51856994628906 kJ/mol 690.1111145019531 kJ/mol 750.8798828125 kJ/mol rejected\n"
     ]
    },
    {
     "name": "stderr",
     "output_type": "stream",
     "text": [
      "100%|██████████| 1/1 [00:01<00:00,  1.88s/it]\n"
     ]
    },
    {
     "name": "stdout",
     "output_type": "stream",
     "text": [
      "6.04766845703125 kJ/mol 269.970947265625 kJ/mol 741.9165649414062 kJ/mol 759.0546875 kJ/mol rejected\n"
     ]
    },
    {
     "name": "stderr",
     "output_type": "stream",
     "text": [
      "100%|██████████| 1/1 [00:01<00:00,  1.88s/it]\n"
     ]
    },
    {
     "name": "stdout",
     "output_type": "stream",
     "text": [
      "4.5341949462890625 kJ/mol 94.9547119140625 kJ/mol 576.5416259765625 kJ/mol 407.896484375 kJ/mol rejected\n"
     ]
    },
    {
     "name": "stderr",
     "output_type": "stream",
     "text": [
      "100%|██████████| 1/1 [00:01<00:00,  2.00s/it]\n"
     ]
    },
    {
     "name": "stdout",
     "output_type": "stream",
     "text": [
      "8.118148803710938 kJ/mol 186.60433959960938 kJ/mol 696.6716384887695 kJ/mol 1242.7919921875 kJ/mol rejected\n"
     ]
    },
    {
     "name": "stderr",
     "output_type": "stream",
     "text": [
      "100%|██████████| 1/1 [00:01<00:00,  1.88s/it]\n"
     ]
    },
    {
     "name": "stdout",
     "output_type": "stream",
     "text": [
      "8.196090698242188 kJ/mol 101.69598388671875 kJ/mol 594.6950073242188 kJ/mol 1228.0302734375 kJ/mol rejected\n"
     ]
    },
    {
     "name": "stderr",
     "output_type": "stream",
     "text": [
      "100%|██████████| 1/1 [00:01<00:00,  1.88s/it]\n"
     ]
    },
    {
     "name": "stdout",
     "output_type": "stream",
     "text": [
      "12.706954956054688 kJ/mol 257.66351318359375 kJ/mol 728.5984039306641 kJ/mol 795.7060546875 kJ/mol rejected\n"
     ]
    },
    {
     "name": "stderr",
     "output_type": "stream",
     "text": [
      "100%|██████████| 1/1 [00:01<00:00,  1.88s/it]\n"
     ]
    },
    {
     "name": "stdout",
     "output_type": "stream",
     "text": [
      "3.1945648193359375 kJ/mol -2.0447540283203125 kJ/mol 536.4027862548828 kJ/mol 208.2265625 kJ/mol rejected\n"
     ]
    },
    {
     "name": "stderr",
     "output_type": "stream",
     "text": [
      "100%|██████████| 1/1 [00:01<00:00,  1.88s/it]\n"
     ]
    },
    {
     "name": "stdout",
     "output_type": "stream",
     "text": [
      "10.434585571289062 kJ/mol 143.21810913085938 kJ/mol 648.403076171875 kJ/mol 493.5107421875 kJ/mol rejected\n"
     ]
    },
    {
     "name": "stderr",
     "output_type": "stream",
     "text": [
      "100%|██████████| 1/1 [00:01<00:00,  1.88s/it]\n"
     ]
    },
    {
     "name": "stdout",
     "output_type": "stream",
     "text": [
      "13.213134765625 kJ/mol 35.041290283203125 kJ/mol 487.9091491699219 kJ/mol 902.142578125 kJ/mol rejected\n"
     ]
    },
    {
     "name": "stderr",
     "output_type": "stream",
     "text": [
      "100%|██████████| 1/1 [00:01<00:00,  1.89s/it]\n"
     ]
    },
    {
     "name": "stdout",
     "output_type": "stream",
     "text": [
      "15.730361938476562 kJ/mol 59.883544921875 kJ/mol 671.6623840332031 kJ/mol 913.720703125 kJ/mol rejected\n"
     ]
    },
    {
     "name": "stderr",
     "output_type": "stream",
     "text": [
      "100%|██████████| 1/1 [00:01<00:00,  1.88s/it]\n"
     ]
    },
    {
     "name": "stdout",
     "output_type": "stream",
     "text": [
      "-3.745849609375 kJ/mol 47.521148681640625 kJ/mol 492.6017837524414 kJ/mol 816.9990234375 kJ/mol rejected\n"
     ]
    },
    {
     "name": "stderr",
     "output_type": "stream",
     "text": [
      "100%|██████████| 1/1 [00:02<00:00,  2.00s/it]\n"
     ]
    },
    {
     "name": "stdout",
     "output_type": "stream",
     "text": [
      "10.538162231445312 kJ/mol 300.34710693359375 kJ/mol 842.4372024536133 kJ/mol 1146.6220703125 kJ/mol rejected\n"
     ]
    },
    {
     "name": "stderr",
     "output_type": "stream",
     "text": [
      "100%|██████████| 1/1 [00:01<00:00,  1.89s/it]\n"
     ]
    },
    {
     "name": "stdout",
     "output_type": "stream",
     "text": [
      "4.1217041015625 kJ/mol 117.42509460449219 kJ/mol 679.2820205688477 kJ/mol 992.4267578125 kJ/mol rejected\n"
     ]
    },
    {
     "name": "stderr",
     "output_type": "stream",
     "text": [
      "100%|██████████| 1/1 [00:01<00:00,  1.88s/it]\n"
     ]
    },
    {
     "name": "stdout",
     "output_type": "stream",
     "text": [
      "4.294586181640625 kJ/mol -4.34246826171875 kJ/mol 462.98045349121094 kJ/mol 909.1416015625 kJ/mol accepted\n"
     ]
    },
    {
     "name": "stderr",
     "output_type": "stream",
     "text": [
      "100%|██████████| 1/1 [00:01<00:00,  1.89s/it]\n",
      "100%|██████████| 5/5 [06:50<00:00, 82.16s/it]\n"
     ]
    },
    {
     "name": "stdout",
     "output_type": "stream",
     "text": [
      "ETH [26, 30, 10, 94, 54] 42.8 29.219171788399482\n"
     ]
    },
    {
     "name": "stderr",
     "output_type": "stream",
     "text": [
      "100%|██████████| 1/1 [00:00<00:00, 27.33it/s]\n",
      "  0%|          | 0/5 [00:00<?, ?it/s]"
     ]
    },
    {
     "name": "stdout",
     "output_type": "stream",
     "text": [
      "17.222152709960938 kJ/mol 58.6246337890625 kJ/mol 490.75709533691406 kJ/mol 649.0185546875 kJ/mol rejected\n"
     ]
    },
    {
     "name": "stderr",
     "output_type": "stream",
     "text": [
      "100%|██████████| 1/1 [00:02<00:00,  2.84s/it]\n"
     ]
    },
    {
     "name": "stdout",
     "output_type": "stream",
     "text": [
      "18.186737060546875 kJ/mol 254.9073944091797 kJ/mol 863.8657379150391 kJ/mol 897.02734375 kJ/mol rejected\n"
     ]
    },
    {
     "name": "stderr",
     "output_type": "stream",
     "text": [
      "100%|██████████| 1/1 [00:01<00:00,  1.91s/it]\n"
     ]
    },
    {
     "name": "stdout",
     "output_type": "stream",
     "text": [
      "17.875198364257812 kJ/mol 190.48904418945312 kJ/mol 832.8116607666016 kJ/mol 1067.8662109375 kJ/mol rejected\n"
     ]
    },
    {
     "name": "stderr",
     "output_type": "stream",
     "text": [
      "100%|██████████| 1/1 [00:01<00:00,  1.91s/it]\n"
     ]
    },
    {
     "name": "stdout",
     "output_type": "stream",
     "text": [
      "17.735198974609375 kJ/mol 317.3089904785156 kJ/mol 763.2711639404297 kJ/mol 981.9013671875 kJ/mol rejected\n"
     ]
    },
    {
     "name": "stderr",
     "output_type": "stream",
     "text": [
      "100%|██████████| 1/1 [00:01<00:00,  1.90s/it]\n"
     ]
    },
    {
     "name": "stdout",
     "output_type": "stream",
     "text": [
      "16.746368408203125 kJ/mol 238.7740020751953 kJ/mol 834.8165283203125 kJ/mol 988.8056640625 kJ/mol rejected\n"
     ]
    },
    {
     "name": "stderr",
     "output_type": "stream",
     "text": [
      "100%|██████████| 1/1 [00:02<00:00,  2.02s/it]\n"
     ]
    },
    {
     "name": "stdout",
     "output_type": "stream",
     "text": [
      "18.009628295898438 kJ/mol 45.63047790527344 kJ/mol 483.19140625 kJ/mol 735.451171875 kJ/mol rejected\n"
     ]
    },
    {
     "name": "stderr",
     "output_type": "stream",
     "text": [
      "100%|██████████| 1/1 [00:01<00:00,  1.91s/it]\n"
     ]
    },
    {
     "name": "stdout",
     "output_type": "stream",
     "text": [
      "18.267730712890625 kJ/mol 214.24082946777344 kJ/mol 667.0919342041016 kJ/mol 207.1513671875 kJ/mol rejected\n"
     ]
    },
    {
     "name": "stderr",
     "output_type": "stream",
     "text": [
      "100%|██████████| 1/1 [00:01<00:00,  1.91s/it]\n"
     ]
    },
    {
     "name": "stdout",
     "output_type": "stream",
     "text": [
      "18.3759765625 kJ/mol 14.273880004882812 kJ/mol 451.68516540527344 kJ/mol 648.669921875 kJ/mol rejected\n"
     ]
    },
    {
     "name": "stderr",
     "output_type": "stream",
     "text": [
      "100%|██████████| 1/1 [00:01<00:00,  1.91s/it]\n"
     ]
    },
    {
     "name": "stdout",
     "output_type": "stream",
     "text": [
      "18.1806640625 kJ/mol 112.56088256835938 kJ/mol 699.56689453125 kJ/mol 744.5947265625 kJ/mol rejected\n"
     ]
    },
    {
     "name": "stderr",
     "output_type": "stream",
     "text": [
      "100%|██████████| 1/1 [00:01<00:00,  1.90s/it]\n"
     ]
    },
    {
     "name": "stdout",
     "output_type": "stream",
     "text": [
      "17.680770874023438 kJ/mol 224.6350555419922 kJ/mol 758.6524353027344 kJ/mol 292.470703125 kJ/mol rejected\n"
     ]
    },
    {
     "name": "stderr",
     "output_type": "stream",
     "text": [
      "100%|██████████| 1/1 [00:01<00:00,  1.91s/it]\n"
     ]
    },
    {
     "name": "stdout",
     "output_type": "stream",
     "text": [
      "16.322341918945312 kJ/mol 19.171142578125 kJ/mol 595.7076873779297 kJ/mol 1395.9921875 kJ/mol rejected\n"
     ]
    },
    {
     "name": "stderr",
     "output_type": "stream",
     "text": [
      "100%|██████████| 1/1 [00:01<00:00,  1.91s/it]\n"
     ]
    },
    {
     "name": "stdout",
     "output_type": "stream",
     "text": [
      "17.9053955078125 kJ/mol 511.841552734375 kJ/mol 941.1149749755859 kJ/mol 569.828125 kJ/mol rejected\n"
     ]
    },
    {
     "name": "stderr",
     "output_type": "stream",
     "text": [
      "100%|██████████| 1/1 [00:01<00:00,  1.92s/it]\n"
     ]
    },
    {
     "name": "stdout",
     "output_type": "stream",
     "text": [
      "16.352294921875 kJ/mol 94.80223083496094 kJ/mol 611.6412811279297 kJ/mol 1329.6748046875 kJ/mol rejected\n"
     ]
    },
    {
     "name": "stderr",
     "output_type": "stream",
     "text": [
      "100%|██████████| 1/1 [00:02<00:00,  2.02s/it]\n"
     ]
    },
    {
     "name": "stdout",
     "output_type": "stream",
     "text": [
      "17.667800903320312 kJ/mol 601.5919036865234 kJ/mol 1182.0856018066406 kJ/mol 170.2265625 kJ/mol rejected\n"
     ]
    },
    {
     "name": "stderr",
     "output_type": "stream",
     "text": [
      "100%|██████████| 1/1 [00:01<00:00,  1.91s/it]\n"
     ]
    },
    {
     "name": "stdout",
     "output_type": "stream",
     "text": [
      "17.704330444335938 kJ/mol 72.28604125976562 kJ/mol 632.0955352783203 kJ/mol 719.1298828125 kJ/mol rejected\n"
     ]
    },
    {
     "name": "stderr",
     "output_type": "stream",
     "text": [
      "100%|██████████| 1/1 [00:01<00:00,  1.91s/it]\n"
     ]
    },
    {
     "name": "stdout",
     "output_type": "stream",
     "text": [
      "18.367141723632812 kJ/mol 260.554443359375 kJ/mol 725.4940185546875 kJ/mol 661.927734375 kJ/mol rejected\n"
     ]
    },
    {
     "name": "stderr",
     "output_type": "stream",
     "text": [
      "100%|██████████| 1/1 [00:01<00:00,  1.91s/it]\n"
     ]
    },
    {
     "name": "stdout",
     "output_type": "stream",
     "text": [
      "16.449264526367188 kJ/mol 289.76319885253906 kJ/mol 799.3344879150391 kJ/mol 852.298828125 kJ/mol rejected\n"
     ]
    },
    {
     "name": "stderr",
     "output_type": "stream",
     "text": [
      "100%|██████████| 1/1 [00:01<00:00,  1.91s/it]\n"
     ]
    },
    {
     "name": "stdout",
     "output_type": "stream",
     "text": [
      "17.695724487304688 kJ/mol 315.1723937988281 kJ/mol 722.0962219238281 kJ/mol 431.4072265625 kJ/mol rejected\n"
     ]
    },
    {
     "name": "stderr",
     "output_type": "stream",
     "text": [
      "100%|██████████| 1/1 [00:01<00:00,  1.91s/it]\n"
     ]
    },
    {
     "name": "stdout",
     "output_type": "stream",
     "text": [
      "17.484786987304688 kJ/mol 123.44171142578125 kJ/mol 547.8547515869141 kJ/mol 484.041015625 kJ/mol rejected\n"
     ]
    },
    {
     "name": "stderr",
     "output_type": "stream",
     "text": [
      "100%|██████████| 1/1 [00:01<00:00,  1.91s/it]\n"
     ]
    },
    {
     "name": "stdout",
     "output_type": "stream",
     "text": [
      "17.154541015625 kJ/mol 29.844833374023438 kJ/mol 566.5559997558594 kJ/mol 1036.09375 kJ/mol rejected\n"
     ]
    },
    {
     "name": "stderr",
     "output_type": "stream",
     "text": [
      "100%|██████████| 1/1 [00:01<00:00,  1.92s/it]\n"
     ]
    },
    {
     "name": "stdout",
     "output_type": "stream",
     "text": [
      "17.972915649414062 kJ/mol 23.160552978515625 kJ/mol 574.3790588378906 kJ/mol 459.2216796875 kJ/mol rejected\n"
     ]
    },
    {
     "name": "stderr",
     "output_type": "stream",
     "text": [
      "100%|██████████| 1/1 [00:02<00:00,  2.03s/it]\n"
     ]
    },
    {
     "name": "stdout",
     "output_type": "stream",
     "text": [
      "17.853622436523438 kJ/mol 306.8991394042969 kJ/mol 797.6776123046875 kJ/mol 534.8505859375 kJ/mol rejected\n"
     ]
    },
    {
     "name": "stderr",
     "output_type": "stream",
     "text": [
      "100%|██████████| 1/1 [00:01<00:00,  1.91s/it]\n"
     ]
    },
    {
     "name": "stdout",
     "output_type": "stream",
     "text": [
      "17.23077392578125 kJ/mol 445.68450927734375 kJ/mol 875.5842742919922 kJ/mol 203.21484375 kJ/mol rejected\n"
     ]
    },
    {
     "name": "stderr",
     "output_type": "stream",
     "text": [
      "100%|██████████| 1/1 [00:01<00:00,  1.91s/it]\n"
     ]
    },
    {
     "name": "stdout",
     "output_type": "stream",
     "text": [
      "17.561294555664062 kJ/mol 169.2012939453125 kJ/mol 730.2868194580078 kJ/mol 1104.103515625 kJ/mol rejected\n"
     ]
    },
    {
     "name": "stderr",
     "output_type": "stream",
     "text": [
      "100%|██████████| 1/1 [00:01<00:00,  1.91s/it]\n"
     ]
    },
    {
     "name": "stdout",
     "output_type": "stream",
     "text": [
      "17.2239990234375 kJ/mol 161.92674255371094 kJ/mol 611.9972076416016 kJ/mol 886.5166015625 kJ/mol rejected\n"
     ]
    },
    {
     "name": "stderr",
     "output_type": "stream",
     "text": [
      "100%|██████████| 1/1 [00:01<00:00,  1.91s/it]\n"
     ]
    },
    {
     "name": "stdout",
     "output_type": "stream",
     "text": [
      "16.994461059570312 kJ/mol 356.277587890625 kJ/mol 816.9689788818359 kJ/mol 259.6669921875 kJ/mol rejected\n"
     ]
    },
    {
     "name": "stderr",
     "output_type": "stream",
     "text": [
      "100%|██████████| 1/1 [00:01<00:00,  1.91s/it]\n"
     ]
    },
    {
     "name": "stdout",
     "output_type": "stream",
     "text": [
      "16.91424560546875 kJ/mol 150.28810119628906 kJ/mol 666.2886199951172 kJ/mol 759.75 kJ/mol rejected\n"
     ]
    },
    {
     "name": "stderr",
     "output_type": "stream",
     "text": [
      "100%|██████████| 1/1 [00:01<00:00,  1.91s/it]\n"
     ]
    },
    {
     "name": "stdout",
     "output_type": "stream",
     "text": [
      "17.080459594726562 kJ/mol -20.697402954101562 kJ/mol 413.21360778808594 kJ/mol 392.2734375 kJ/mol accepted\n"
     ]
    },
    {
     "name": "stderr",
     "output_type": "stream",
     "text": [
      "100%|██████████| 1/1 [00:01<00:00,  1.91s/it]\n",
      " 20%|██        | 1/5 [00:54<03:39, 54.93s/it]"
     ]
    },
    {
     "name": "stdout",
     "output_type": "stream",
     "text": [
      "69.56489562988281 kJ/mol 260.32460021972656 kJ/mol 769.0297698974609 kJ/mol 1043.166015625 kJ/mol rejected\n"
     ]
    },
    {
     "name": "stderr",
     "output_type": "stream",
     "text": [
      "100%|██████████| 1/1 [00:01<00:00,  1.91s/it]\n"
     ]
    },
    {
     "name": "stdout",
     "output_type": "stream",
     "text": [
      "73.56034851074219 kJ/mol 321.8844299316406 kJ/mol 827.2896423339844 kJ/mol 342.8330078125 kJ/mol rejected\n"
     ]
    },
    {
     "name": "stderr",
     "output_type": "stream",
     "text": [
      "100%|██████████| 1/1 [00:02<00:00,  2.34s/it]\n"
     ]
    },
    {
     "name": "stdout",
     "output_type": "stream",
     "text": [
      "43.33760070800781 kJ/mol -4.015106201171875 kJ/mol 525.2866821289062 kJ/mol 1338.1162109375 kJ/mol rejected\n"
     ]
    },
    {
     "name": "stderr",
     "output_type": "stream",
     "text": [
      "100%|██████████| 1/1 [00:01<00:00,  1.91s/it]\n"
     ]
    },
    {
     "name": "stdout",
     "output_type": "stream",
     "text": [
      "63.31280517578125 kJ/mol 25.303863525390625 kJ/mol 590.4880676269531 kJ/mol 1191.271484375 kJ/mol rejected\n"
     ]
    },
    {
     "name": "stderr",
     "output_type": "stream",
     "text": [
      "100%|██████████| 1/1 [00:01<00:00,  1.91s/it]\n"
     ]
    },
    {
     "name": "stdout",
     "output_type": "stream",
     "text": [
      "56.72099304199219 kJ/mol 70.61393737792969 kJ/mol 612.6819305419922 kJ/mol 760.2109375 kJ/mol rejected\n"
     ]
    },
    {
     "name": "stderr",
     "output_type": "stream",
     "text": [
      "100%|██████████| 1/1 [00:01<00:00,  1.90s/it]\n"
     ]
    },
    {
     "name": "stdout",
     "output_type": "stream",
     "text": [
      "66.05111694335938 kJ/mol 8.065216064453125 kJ/mol 542.4927825927734 kJ/mol 1346.7099609375 kJ/mol rejected\n"
     ]
    },
    {
     "name": "stderr",
     "output_type": "stream",
     "text": [
      "100%|██████████| 1/1 [00:01<00:00,  1.91s/it]\n"
     ]
    },
    {
     "name": "stdout",
     "output_type": "stream",
     "text": [
      "56.321441650390625 kJ/mol -14.80841064453125 kJ/mol 487.00006103515625 kJ/mol 551.7177734375 kJ/mol rejected\n"
     ]
    },
    {
     "name": "stderr",
     "output_type": "stream",
     "text": [
      "100%|██████████| 1/1 [00:01<00:00,  1.91s/it]\n"
     ]
    },
    {
     "name": "stdout",
     "output_type": "stream",
     "text": [
      "67.26974487304688 kJ/mol 150.8429412841797 kJ/mol 714.3919067382812 kJ/mol 820.9208984375 kJ/mol rejected\n"
     ]
    },
    {
     "name": "stderr",
     "output_type": "stream",
     "text": [
      "100%|██████████| 1/1 [00:02<00:00,  2.03s/it]\n"
     ]
    },
    {
     "name": "stdout",
     "output_type": "stream",
     "text": [
      "59.54838562011719 kJ/mol 105.86634826660156 kJ/mol 530.0037384033203 kJ/mol 1334.21875 kJ/mol rejected\n"
     ]
    },
    {
     "name": "stderr",
     "output_type": "stream",
     "text": [
      "100%|██████████| 1/1 [00:01<00:00,  1.91s/it]\n"
     ]
    },
    {
     "name": "stdout",
     "output_type": "stream",
     "text": [
      "61.59553527832031 kJ/mol 520.6694641113281 kJ/mol 916.1330871582031 kJ/mol 774.392578125 kJ/mol rejected\n"
     ]
    },
    {
     "name": "stderr",
     "output_type": "stream",
     "text": [
      "100%|██████████| 1/1 [00:01<00:00,  1.91s/it]\n"
     ]
    },
    {
     "name": "stdout",
     "output_type": "stream",
     "text": [
      "68.9053955078125 kJ/mol 362.2432098388672 kJ/mol 842.1068725585938 kJ/mol 776.306640625 kJ/mol rejected\n"
     ]
    },
    {
     "name": "stderr",
     "output_type": "stream",
     "text": [
      "100%|██████████| 1/1 [00:01<00:00,  1.91s/it]\n"
     ]
    },
    {
     "name": "stdout",
     "output_type": "stream",
     "text": [
      "71.70700073242188 kJ/mol -9.970367431640625 kJ/mol 404.6870574951172 kJ/mol 1211.69921875 kJ/mol rejected\n"
     ]
    },
    {
     "name": "stderr",
     "output_type": "stream",
     "text": [
      "100%|██████████| 1/1 [00:01<00:00,  1.91s/it]\n"
     ]
    },
    {
     "name": "stdout",
     "output_type": "stream",
     "text": [
      "54.917510986328125 kJ/mol -20.41680908203125 kJ/mol 441.0028991699219 kJ/mol 1193.5654296875 kJ/mol rejected\n"
     ]
    },
    {
     "name": "stderr",
     "output_type": "stream",
     "text": [
      "100%|██████████| 1/1 [00:01<00:00,  1.91s/it]\n"
     ]
    },
    {
     "name": "stdout",
     "output_type": "stream",
     "text": [
      "66.75949096679688 kJ/mol 355.54893493652344 kJ/mol 814.9563751220703 kJ/mol 1205.5947265625 kJ/mol rejected\n"
     ]
    },
    {
     "name": "stderr",
     "output_type": "stream",
     "text": [
      "100%|██████████| 1/1 [00:01<00:00,  1.90s/it]\n"
     ]
    },
    {
     "name": "stdout",
     "output_type": "stream",
     "text": [
      "67.69940185546875 kJ/mol 100.42739868164062 kJ/mol 535.6587524414062 kJ/mol 931.7373046875 kJ/mol rejected\n"
     ]
    },
    {
     "name": "stderr",
     "output_type": "stream",
     "text": [
      "100%|██████████| 1/1 [00:01<00:00,  1.91s/it]\n"
     ]
    },
    {
     "name": "stdout",
     "output_type": "stream",
     "text": [
      "66.80230712890625 kJ/mol 214.4198455810547 kJ/mol 668.6849060058594 kJ/mol 873.6875 kJ/mol rejected\n"
     ]
    },
    {
     "name": "stderr",
     "output_type": "stream",
     "text": [
      "100%|██████████| 1/1 [00:02<00:00,  2.01s/it]\n"
     ]
    },
    {
     "name": "stdout",
     "output_type": "stream",
     "text": [
      "72.61140441894531 kJ/mol 212.44046020507812 kJ/mol 867.4599151611328 kJ/mol 1891.90234375 kJ/mol rejected\n"
     ]
    },
    {
     "name": "stderr",
     "output_type": "stream",
     "text": [
      "100%|██████████| 1/1 [00:01<00:00,  1.91s/it]\n"
     ]
    },
    {
     "name": "stdout",
     "output_type": "stream",
     "text": [
      "60.989959716796875 kJ/mol 153.9539337158203 kJ/mol 645.2987213134766 kJ/mol 773.8076171875 kJ/mol rejected\n"
     ]
    },
    {
     "name": "stderr",
     "output_type": "stream",
     "text": [
      "100%|██████████| 1/1 [00:01<00:00,  1.91s/it]\n"
     ]
    },
    {
     "name": "stdout",
     "output_type": "stream",
     "text": [
      "71.11640930175781 kJ/mol 195.14654541015625 kJ/mol 723.7354431152344 kJ/mol 1146.5751953125 kJ/mol rejected\n"
     ]
    },
    {
     "name": "stderr",
     "output_type": "stream",
     "text": [
      "100%|██████████| 1/1 [00:01<00:00,  1.92s/it]\n"
     ]
    },
    {
     "name": "stdout",
     "output_type": "stream",
     "text": [
      "79.49552917480469 kJ/mol 109.39218139648438 kJ/mol 652.2792358398438 kJ/mol 847.998046875 kJ/mol rejected\n"
     ]
    },
    {
     "name": "stderr",
     "output_type": "stream",
     "text": [
      "100%|██████████| 1/1 [00:01<00:00,  1.91s/it]\n"
     ]
    },
    {
     "name": "stdout",
     "output_type": "stream",
     "text": [
      "74.56521606445312 kJ/mol 232.39923095703125 kJ/mol 677.0124816894531 kJ/mol 591.298828125 kJ/mol rejected\n"
     ]
    },
    {
     "name": "stderr",
     "output_type": "stream",
     "text": [
      "100%|██████████| 1/1 [00:01<00:00,  1.91s/it]\n"
     ]
    },
    {
     "name": "stdout",
     "output_type": "stream",
     "text": [
      "49.60890197753906 kJ/mol 123.34306335449219 kJ/mol 636.8529052734375 kJ/mol 1210.953125 kJ/mol rejected\n"
     ]
    },
    {
     "name": "stderr",
     "output_type": "stream",
     "text": [
      "100%|██████████| 1/1 [00:01<00:00,  1.91s/it]\n"
     ]
    },
    {
     "name": "stdout",
     "output_type": "stream",
     "text": [
      "68.24617004394531 kJ/mol 32.7755126953125 kJ/mol 591.4724426269531 kJ/mol 1363.19140625 kJ/mol rejected\n"
     ]
    },
    {
     "name": "stderr",
     "output_type": "stream",
     "text": [
      "100%|██████████| 1/1 [00:01<00:00,  1.91s/it]\n"
     ]
    },
    {
     "name": "stdout",
     "output_type": "stream",
     "text": [
      "76.58251953125 kJ/mol 309.1957550048828 kJ/mol 775.6345367431641 kJ/mol 823.638671875 kJ/mol rejected\n"
     ]
    },
    {
     "name": "stderr",
     "output_type": "stream",
     "text": [
      "100%|██████████| 1/1 [00:02<00:00,  2.03s/it]\n"
     ]
    },
    {
     "name": "stdout",
     "output_type": "stream",
     "text": [
      "60.77919006347656 kJ/mol 182.2051544189453 kJ/mol 684.4963226318359 kJ/mol 1713.8203125 kJ/mol rejected\n"
     ]
    },
    {
     "name": "stderr",
     "output_type": "stream",
     "text": [
      "100%|██████████| 1/1 [00:01<00:00,  1.92s/it]\n"
     ]
    },
    {
     "name": "stdout",
     "output_type": "stream",
     "text": [
      "78.94485473632812 kJ/mol 193.1068572998047 kJ/mol 773.6609802246094 kJ/mol 1213.8125 kJ/mol rejected\n"
     ]
    },
    {
     "name": "stderr",
     "output_type": "stream",
     "text": [
      "100%|██████████| 1/1 [00:01<00:00,  1.91s/it]\n"
     ]
    },
    {
     "name": "stdout",
     "output_type": "stream",
     "text": [
      "68.22848510742188 kJ/mol 77.36186218261719 kJ/mol 505.4516296386719 kJ/mol 1257.328125 kJ/mol rejected\n"
     ]
    },
    {
     "name": "stderr",
     "output_type": "stream",
     "text": [
      "100%|██████████| 1/1 [00:01<00:00,  1.93s/it]\n"
     ]
    },
    {
     "name": "stdout",
     "output_type": "stream",
     "text": [
      "71.97311401367188 kJ/mol 285.4832000732422 kJ/mol 791.9638671875 kJ/mol 668.36328125 kJ/mol rejected\n"
     ]
    },
    {
     "name": "stderr",
     "output_type": "stream",
     "text": [
      "100%|██████████| 1/1 [00:01<00:00,  1.93s/it]\n"
     ]
    },
    {
     "name": "stdout",
     "output_type": "stream",
     "text": [
      "72.11740112304688 kJ/mol 166.9300994873047 kJ/mol 765.4644470214844 kJ/mol 1039.3125 kJ/mol rejected\n"
     ]
    },
    {
     "name": "stderr",
     "output_type": "stream",
     "text": [
      "100%|██████████| 1/1 [00:01<00:00,  1.91s/it]\n"
     ]
    },
    {
     "name": "stdout",
     "output_type": "stream",
     "text": [
      "77.68708801269531 kJ/mol 19.597000122070312 kJ/mol 509.8680419921875 kJ/mol 615.443359375 kJ/mol rejected\n"
     ]
    },
    {
     "name": "stderr",
     "output_type": "stream",
     "text": [
      "100%|██████████| 1/1 [00:02<00:00,  2.02s/it]\n"
     ]
    },
    {
     "name": "stdout",
     "output_type": "stream",
     "text": [
      "66.67945861816406 kJ/mol 70.55116271972656 kJ/mol 525.2272491455078 kJ/mol 1069.1884765625 kJ/mol rejected\n"
     ]
    },
    {
     "name": "stderr",
     "output_type": "stream",
     "text": [
      "100%|██████████| 1/1 [00:01<00:00,  1.91s/it]\n"
     ]
    },
    {
     "name": "stdout",
     "output_type": "stream",
     "text": [
      "66.11671447753906 kJ/mol 152.1947479248047 kJ/mol 681.99462890625 kJ/mol 674.3515625 kJ/mol rejected\n"
     ]
    },
    {
     "name": "stderr",
     "output_type": "stream",
     "text": [
      "100%|██████████| 1/1 [00:01<00:00,  1.92s/it]\n"
     ]
    },
    {
     "name": "stdout",
     "output_type": "stream",
     "text": [
      "63.007232666015625 kJ/mol 102.50802612304688 kJ/mol 693.3601989746094 kJ/mol 903.4716796875 kJ/mol rejected\n"
     ]
    },
    {
     "name": "stderr",
     "output_type": "stream",
     "text": [
      "100%|██████████| 1/1 [00:01<00:00,  1.91s/it]\n"
     ]
    },
    {
     "name": "stdout",
     "output_type": "stream",
     "text": [
      "66.08404541015625 kJ/mol 309.7782287597656 kJ/mol 804.9289398193359 kJ/mol 969.8828125 kJ/mol rejected\n"
     ]
    },
    {
     "name": "stderr",
     "output_type": "stream",
     "text": [
      "100%|██████████| 1/1 [00:02<00:00,  2.27s/it]\n"
     ]
    },
    {
     "name": "stdout",
     "output_type": "stream",
     "text": [
      "66.99478149414062 kJ/mol 139.88818359375 kJ/mol 711.0071716308594 kJ/mol 911.0166015625 kJ/mol rejected\n"
     ]
    },
    {
     "name": "stderr",
     "output_type": "stream",
     "text": [
      "100%|██████████| 1/1 [00:01<00:00,  1.92s/it]\n"
     ]
    },
    {
     "name": "stdout",
     "output_type": "stream",
     "text": [
      "71.13661193847656 kJ/mol 212.43849182128906 kJ/mol 785.6168365478516 kJ/mol 1800.5478515625 kJ/mol rejected\n"
     ]
    },
    {
     "name": "stderr",
     "output_type": "stream",
     "text": [
      "100%|██████████| 1/1 [00:01<00:00,  1.91s/it]\n"
     ]
    },
    {
     "name": "stdout",
     "output_type": "stream",
     "text": [
      "64.87893676757812 kJ/mol 37.64015197753906 kJ/mol 575.6743469238281 kJ/mol 1013.2451171875 kJ/mol rejected\n"
     ]
    },
    {
     "name": "stderr",
     "output_type": "stream",
     "text": [
      "100%|██████████| 1/1 [00:01<00:00,  1.92s/it]\n"
     ]
    },
    {
     "name": "stdout",
     "output_type": "stream",
     "text": [
      "70.16801452636719 kJ/mol 151.2986297607422 kJ/mol 692.7420501708984 kJ/mol 919.4189453125 kJ/mol rejected\n"
     ]
    },
    {
     "name": "stderr",
     "output_type": "stream",
     "text": [
      "100%|██████████| 1/1 [00:02<00:00,  2.03s/it]\n"
     ]
    },
    {
     "name": "stdout",
     "output_type": "stream",
     "text": [
      "69.70429992675781 kJ/mol -38.14790344238281 kJ/mol 589.9221954345703 kJ/mol 1825.103515625 kJ/mol rejected\n"
     ]
    },
    {
     "name": "stderr",
     "output_type": "stream",
     "text": [
      "100%|██████████| 1/1 [00:01<00:00,  1.92s/it]\n"
     ]
    },
    {
     "name": "stdout",
     "output_type": "stream",
     "text": [
      "64.89492797851562 kJ/mol 175.4736785888672 kJ/mol 631.5355834960938 kJ/mol 770.763671875 kJ/mol rejected\n"
     ]
    },
    {
     "name": "stderr",
     "output_type": "stream",
     "text": [
      "100%|██████████| 1/1 [00:01<00:00,  1.91s/it]\n"
     ]
    },
    {
     "name": "stdout",
     "output_type": "stream",
     "text": [
      "67.24934387207031 kJ/mol 238.56800842285156 kJ/mol 898.1952514648438 kJ/mol 628.6259765625 kJ/mol rejected\n"
     ]
    },
    {
     "name": "stderr",
     "output_type": "stream",
     "text": [
      "100%|██████████| 1/1 [00:01<00:00,  1.92s/it]\n"
     ]
    },
    {
     "name": "stdout",
     "output_type": "stream",
     "text": [
      "76.45182800292969 kJ/mol 220.16490173339844 kJ/mol 760.6420135498047 kJ/mol 1045.8720703125 kJ/mol rejected\n"
     ]
    },
    {
     "name": "stderr",
     "output_type": "stream",
     "text": [
      "100%|██████████| 1/1 [00:01<00:00,  1.91s/it]\n"
     ]
    },
    {
     "name": "stdout",
     "output_type": "stream",
     "text": [
      "62.09051513671875 kJ/mol 189.5096435546875 kJ/mol 601.8260192871094 kJ/mol 1138.3271484375 kJ/mol rejected\n"
     ]
    },
    {
     "name": "stderr",
     "output_type": "stream",
     "text": [
      "100%|██████████| 1/1 [00:01<00:00,  1.91s/it]\n"
     ]
    },
    {
     "name": "stdout",
     "output_type": "stream",
     "text": [
      "71.51425170898438 kJ/mol 235.28956604003906 kJ/mol 781.6286468505859 kJ/mol 1326.2021484375 kJ/mol rejected\n"
     ]
    },
    {
     "name": "stderr",
     "output_type": "stream",
     "text": [
      "100%|██████████| 1/1 [00:01<00:00,  1.91s/it]\n"
     ]
    },
    {
     "name": "stdout",
     "output_type": "stream",
     "text": [
      "70.00022888183594 kJ/mol 103.98699951171875 kJ/mol 693.5027923583984 kJ/mol 1106.8544921875 kJ/mol rejected\n"
     ]
    },
    {
     "name": "stderr",
     "output_type": "stream",
     "text": [
      "100%|██████████| 1/1 [00:01<00:00,  1.91s/it]\n"
     ]
    },
    {
     "name": "stdout",
     "output_type": "stream",
     "text": [
      "57.49253845214844 kJ/mol 61.81846618652344 kJ/mol 494.97377014160156 kJ/mol 905.4140625 kJ/mol rejected\n"
     ]
    },
    {
     "name": "stderr",
     "output_type": "stream",
     "text": [
      "100%|██████████| 1/1 [00:02<00:00,  2.02s/it]\n"
     ]
    },
    {
     "name": "stdout",
     "output_type": "stream",
     "text": [
      "70.91749572753906 kJ/mol 145.0449676513672 kJ/mol 676.4322509765625 kJ/mol 978.79296875 kJ/mol rejected\n"
     ]
    },
    {
     "name": "stderr",
     "output_type": "stream",
     "text": [
      "100%|██████████| 1/1 [00:01<00:00,  1.91s/it]\n"
     ]
    },
    {
     "name": "stdout",
     "output_type": "stream",
     "text": [
      "62.93681335449219 kJ/mol 89.29403686523438 kJ/mol 652.6141815185547 kJ/mol 1025.453125 kJ/mol rejected\n"
     ]
    },
    {
     "name": "stderr",
     "output_type": "stream",
     "text": [
      "100%|██████████| 1/1 [00:01<00:00,  1.91s/it]\n"
     ]
    },
    {
     "name": "stdout",
     "output_type": "stream",
     "text": [
      "66.97314453125 kJ/mol 45.980133056640625 kJ/mol 648.9640655517578 kJ/mol 1472.0263671875 kJ/mol rejected\n"
     ]
    },
    {
     "name": "stderr",
     "output_type": "stream",
     "text": [
      "100%|██████████| 1/1 [00:01<00:00,  1.91s/it]\n"
     ]
    },
    {
     "name": "stdout",
     "output_type": "stream",
     "text": [
      "61.228179931640625 kJ/mol 177.9664306640625 kJ/mol 694.4876251220703 kJ/mol 865.01953125 kJ/mol rejected\n"
     ]
    },
    {
     "name": "stderr",
     "output_type": "stream",
     "text": [
      "100%|██████████| 1/1 [00:01<00:00,  1.91s/it]\n"
     ]
    },
    {
     "name": "stdout",
     "output_type": "stream",
     "text": [
      "74.16825866699219 kJ/mol 310.09205627441406 kJ/mol 875.2007904052734 kJ/mol 685.90625 kJ/mol rejected\n"
     ]
    },
    {
     "name": "stderr",
     "output_type": "stream",
     "text": [
      "100%|██████████| 1/1 [00:01<00:00,  1.92s/it]\n"
     ]
    },
    {
     "name": "stdout",
     "output_type": "stream",
     "text": [
      "66.15235900878906 kJ/mol 254.34974670410156 kJ/mol 759.7878570556641 kJ/mol 1220.8955078125 kJ/mol rejected\n"
     ]
    },
    {
     "name": "stderr",
     "output_type": "stream",
     "text": [
      "100%|██████████| 1/1 [00:01<00:00,  1.91s/it]\n"
     ]
    },
    {
     "name": "stdout",
     "output_type": "stream",
     "text": [
      "77.5382080078125 kJ/mol 112.32415771484375 kJ/mol 610.2111968994141 kJ/mol 1249.7822265625 kJ/mol rejected\n"
     ]
    },
    {
     "name": "stderr",
     "output_type": "stream",
     "text": [
      "100%|██████████| 1/1 [00:02<00:00,  2.02s/it]\n"
     ]
    },
    {
     "name": "stdout",
     "output_type": "stream",
     "text": [
      "64.8515625 kJ/mol 187.9308319091797 kJ/mol 795.8536376953125 kJ/mol 1031.9052734375 kJ/mol rejected\n"
     ]
    },
    {
     "name": "stderr",
     "output_type": "stream",
     "text": [
      "100%|██████████| 1/1 [00:01<00:00,  1.92s/it]\n"
     ]
    },
    {
     "name": "stdout",
     "output_type": "stream",
     "text": [
      "61.50141906738281 kJ/mol 135.20298767089844 kJ/mol 658.8956756591797 kJ/mol 739.314453125 kJ/mol rejected\n"
     ]
    },
    {
     "name": "stderr",
     "output_type": "stream",
     "text": [
      "100%|██████████| 1/1 [00:01<00:00,  1.91s/it]\n"
     ]
    },
    {
     "name": "stdout",
     "output_type": "stream",
     "text": [
      "69.92109680175781 kJ/mol 150.84658813476562 kJ/mol 745.5180969238281 kJ/mol 1424.794921875 kJ/mol rejected\n"
     ]
    },
    {
     "name": "stderr",
     "output_type": "stream",
     "text": [
      "100%|██████████| 1/1 [00:01<00:00,  1.91s/it]\n"
     ]
    },
    {
     "name": "stdout",
     "output_type": "stream",
     "text": [
      "74.06755065917969 kJ/mol 102.16696166992188 kJ/mol 577.9804077148438 kJ/mol 806.8740234375 kJ/mol rejected\n"
     ]
    },
    {
     "name": "stderr",
     "output_type": "stream",
     "text": [
      "100%|██████████| 1/1 [00:01<00:00,  1.91s/it]\n"
     ]
    },
    {
     "name": "stdout",
     "output_type": "stream",
     "text": [
      "64.24395751953125 kJ/mol 124.10406494140625 kJ/mol 528.1520080566406 kJ/mol 1154.8642578125 kJ/mol rejected\n"
     ]
    },
    {
     "name": "stderr",
     "output_type": "stream",
     "text": [
      "100%|██████████| 1/1 [00:01<00:00,  1.91s/it]\n"
     ]
    },
    {
     "name": "stdout",
     "output_type": "stream",
     "text": [
      "74.21772766113281 kJ/mol 33.4713134765625 kJ/mol 419.04736328125 kJ/mol 1206.609375 kJ/mol rejected\n"
     ]
    },
    {
     "name": "stderr",
     "output_type": "stream",
     "text": [
      "100%|██████████| 1/1 [00:01<00:00,  1.92s/it]\n"
     ]
    },
    {
     "name": "stdout",
     "output_type": "stream",
     "text": [
      "71.36689758300781 kJ/mol 288.4357604980469 kJ/mol 776.2636413574219 kJ/mol 1186.8173828125 kJ/mol rejected\n"
     ]
    },
    {
     "name": "stderr",
     "output_type": "stream",
     "text": [
      "100%|██████████| 1/1 [00:02<00:00,  2.02s/it]\n"
     ]
    },
    {
     "name": "stdout",
     "output_type": "stream",
     "text": [
      "76.56466674804688 kJ/mol 229.7473602294922 kJ/mol 706.5818023681641 kJ/mol 1183.0048828125 kJ/mol rejected\n"
     ]
    },
    {
     "name": "stderr",
     "output_type": "stream",
     "text": [
      "100%|██████████| 1/1 [00:01<00:00,  1.91s/it]\n"
     ]
    },
    {
     "name": "stdout",
     "output_type": "stream",
     "text": [
      "73.30299377441406 kJ/mol 52.82342529296875 kJ/mol 581.3060150146484 kJ/mol 481.2060546875 kJ/mol rejected\n"
     ]
    },
    {
     "name": "stderr",
     "output_type": "stream",
     "text": [
      "100%|██████████| 1/1 [00:01<00:00,  1.91s/it]\n"
     ]
    },
    {
     "name": "stdout",
     "output_type": "stream",
     "text": [
      "70.02427673339844 kJ/mol 216.4884490966797 kJ/mol 747.3452606201172 kJ/mol 504.166015625 kJ/mol rejected\n"
     ]
    },
    {
     "name": "stderr",
     "output_type": "stream",
     "text": [
      "100%|██████████| 1/1 [00:01<00:00,  1.91s/it]\n"
     ]
    },
    {
     "name": "stdout",
     "output_type": "stream",
     "text": [
      "76.92835998535156 kJ/mol 144.1570281982422 kJ/mol 643.3984069824219 kJ/mol 940.4697265625 kJ/mol rejected\n"
     ]
    },
    {
     "name": "stderr",
     "output_type": "stream",
     "text": [
      "100%|██████████| 1/1 [00:01<00:00,  1.91s/it]\n"
     ]
    },
    {
     "name": "stdout",
     "output_type": "stream",
     "text": [
      "72.23158264160156 kJ/mol 7.70111083984375 kJ/mol 547.8550415039062 kJ/mol 695.939453125 kJ/mol rejected\n"
     ]
    },
    {
     "name": "stderr",
     "output_type": "stream",
     "text": [
      "100%|██████████| 1/1 [00:02<00:00,  2.24s/it]\n"
     ]
    },
    {
     "name": "stdout",
     "output_type": "stream",
     "text": [
      "58.21833801269531 kJ/mol 240.4372100830078 kJ/mol 867.2070770263672 kJ/mol 1300.7490234375 kJ/mol rejected\n"
     ]
    },
    {
     "name": "stderr",
     "output_type": "stream",
     "text": [
      "100%|██████████| 1/1 [00:01<00:00,  1.92s/it]\n"
     ]
    },
    {
     "name": "stdout",
     "output_type": "stream",
     "text": [
      "66.57395935058594 kJ/mol 284.8802795410156 kJ/mol 905.8807983398438 kJ/mol 995.27734375 kJ/mol rejected\n"
     ]
    },
    {
     "name": "stderr",
     "output_type": "stream",
     "text": [
      "100%|██████████| 1/1 [00:02<00:00,  2.03s/it]\n"
     ]
    },
    {
     "name": "stdout",
     "output_type": "stream",
     "text": [
      "62.40318298339844 kJ/mol 13.867050170898438 kJ/mol 447.3221435546875 kJ/mol 98.94140625 kJ/mol rejected\n"
     ]
    },
    {
     "name": "stderr",
     "output_type": "stream",
     "text": [
      "100%|██████████| 1/1 [00:01<00:00,  1.91s/it]\n"
     ]
    },
    {
     "name": "stdout",
     "output_type": "stream",
     "text": [
      "58.85017395019531 kJ/mol 4.159698486328125 kJ/mol 513.9064025878906 kJ/mol 965.5087890625 kJ/mol rejected\n"
     ]
    },
    {
     "name": "stderr",
     "output_type": "stream",
     "text": [
      "100%|██████████| 1/1 [00:01<00:00,  1.91s/it]\n"
     ]
    },
    {
     "name": "stdout",
     "output_type": "stream",
     "text": [
      "66.01177978515625 kJ/mol 4.7344818115234375 kJ/mol 375.15765380859375 kJ/mol 782.140625 kJ/mol rejected\n"
     ]
    },
    {
     "name": "stderr",
     "output_type": "stream",
     "text": [
      "100%|██████████| 1/1 [00:01<00:00,  1.90s/it]\n"
     ]
    },
    {
     "name": "stdout",
     "output_type": "stream",
     "text": [
      "75.86126708984375 kJ/mol 195.508544921875 kJ/mol 720.6222381591797 kJ/mol 453.5546875 kJ/mol rejected\n"
     ]
    },
    {
     "name": "stderr",
     "output_type": "stream",
     "text": [
      "100%|██████████| 1/1 [00:01<00:00,  1.91s/it]\n"
     ]
    },
    {
     "name": "stdout",
     "output_type": "stream",
     "text": [
      "66.99343872070312 kJ/mol 136.73390197753906 kJ/mol 659.3188323974609 kJ/mol 584.7783203125 kJ/mol rejected\n"
     ]
    },
    {
     "name": "stderr",
     "output_type": "stream",
     "text": [
      "100%|██████████| 1/1 [00:01<00:00,  1.91s/it]\n"
     ]
    },
    {
     "name": "stdout",
     "output_type": "stream",
     "text": [
      "73.45626831054688 kJ/mol 97.08393859863281 kJ/mol 638.2044372558594 kJ/mol 1569.5947265625 kJ/mol rejected\n"
     ]
    },
    {
     "name": "stderr",
     "output_type": "stream",
     "text": [
      "100%|██████████| 1/1 [00:01<00:00,  1.91s/it]\n"
     ]
    },
    {
     "name": "stdout",
     "output_type": "stream",
     "text": [
      "62.900238037109375 kJ/mol 90.7652587890625 kJ/mol 671.00732421875 kJ/mol 761.775390625 kJ/mol rejected\n"
     ]
    },
    {
     "name": "stderr",
     "output_type": "stream",
     "text": [
      "100%|██████████| 1/1 [00:01<00:00,  1.91s/it]\n"
     ]
    },
    {
     "name": "stdout",
     "output_type": "stream",
     "text": [
      "73.56440734863281 kJ/mol 161.53897094726562 kJ/mol 569.9803314208984 kJ/mol 931.8349609375 kJ/mol rejected\n"
     ]
    },
    {
     "name": "stderr",
     "output_type": "stream",
     "text": [
      "100%|██████████| 1/1 [00:01<00:00,  1.91s/it]\n"
     ]
    },
    {
     "name": "stdout",
     "output_type": "stream",
     "text": [
      "62.307952880859375 kJ/mol 26.234466552734375 kJ/mol 593.7277984619141 kJ/mol 1111.380859375 kJ/mol rejected\n"
     ]
    },
    {
     "name": "stderr",
     "output_type": "stream",
     "text": [
      "100%|██████████| 1/1 [00:02<00:00,  2.02s/it]\n"
     ]
    },
    {
     "name": "stdout",
     "output_type": "stream",
     "text": [
      "72.21418762207031 kJ/mol 58.340484619140625 kJ/mol 713.6367340087891 kJ/mol 1120.5390625 kJ/mol rejected\n"
     ]
    },
    {
     "name": "stderr",
     "output_type": "stream",
     "text": [
      "100%|██████████| 1/1 [00:01<00:00,  1.91s/it]\n"
     ]
    },
    {
     "name": "stdout",
     "output_type": "stream",
     "text": [
      "56.210418701171875 kJ/mol 120.46673583984375 kJ/mol 599.4457244873047 kJ/mol 587.986328125 kJ/mol rejected\n"
     ]
    },
    {
     "name": "stderr",
     "output_type": "stream",
     "text": [
      "100%|██████████| 1/1 [00:01<00:00,  1.91s/it]\n"
     ]
    },
    {
     "name": "stdout",
     "output_type": "stream",
     "text": [
      "62.25396728515625 kJ/mol 184.0228729248047 kJ/mol 716.7017364501953 kJ/mol 1030.4443359375 kJ/mol rejected\n"
     ]
    },
    {
     "name": "stderr",
     "output_type": "stream",
     "text": [
      "100%|██████████| 1/1 [00:01<00:00,  1.91s/it]\n"
     ]
    },
    {
     "name": "stdout",
     "output_type": "stream",
     "text": [
      "61.57557678222656 kJ/mol 307.99359130859375 kJ/mol 764.1000671386719 kJ/mol 878.37109375 kJ/mol rejected\n"
     ]
    },
    {
     "name": "stderr",
     "output_type": "stream",
     "text": [
      "100%|██████████| 1/1 [00:01<00:00,  1.91s/it]\n"
     ]
    },
    {
     "name": "stdout",
     "output_type": "stream",
     "text": [
      "69.25376892089844 kJ/mol 5.8872833251953125 kJ/mol 529.0618286132812 kJ/mol 1336.4697265625 kJ/mol rejected\n"
     ]
    },
    {
     "name": "stderr",
     "output_type": "stream",
     "text": [
      "100%|██████████| 1/1 [00:01<00:00,  1.91s/it]\n"
     ]
    },
    {
     "name": "stdout",
     "output_type": "stream",
     "text": [
      "62.82350158691406 kJ/mol 161.0696563720703 kJ/mol 678.8809051513672 kJ/mol 1021.3896484375 kJ/mol rejected\n"
     ]
    },
    {
     "name": "stderr",
     "output_type": "stream",
     "text": [
      "100%|██████████| 1/1 [00:01<00:00,  1.91s/it]\n"
     ]
    },
    {
     "name": "stdout",
     "output_type": "stream",
     "text": [
      "55.77751159667969 kJ/mol 140.77569580078125 kJ/mol 734.7259368896484 kJ/mol 872.560546875 kJ/mol rejected\n"
     ]
    },
    {
     "name": "stderr",
     "output_type": "stream",
     "text": [
      "100%|██████████| 1/1 [00:01<00:00,  1.91s/it]\n"
     ]
    },
    {
     "name": "stdout",
     "output_type": "stream",
     "text": [
      "57.320343017578125 kJ/mol 78.83772277832031 kJ/mol 630.9770050048828 kJ/mol 1072.921875 kJ/mol rejected\n"
     ]
    },
    {
     "name": "stderr",
     "output_type": "stream",
     "text": [
      "100%|██████████| 1/1 [00:02<00:00,  2.02s/it]\n"
     ]
    },
    {
     "name": "stdout",
     "output_type": "stream",
     "text": [
      "63.469757080078125 kJ/mol 205.47378540039062 kJ/mol 766.1144104003906 kJ/mol 1105.130859375 kJ/mol rejected\n"
     ]
    },
    {
     "name": "stderr",
     "output_type": "stream",
     "text": [
      "100%|██████████| 1/1 [00:01<00:00,  1.91s/it]\n"
     ]
    },
    {
     "name": "stdout",
     "output_type": "stream",
     "text": [
      "73.16340637207031 kJ/mol 117.22979736328125 kJ/mol 649.1351318359375 kJ/mol 946.291015625 kJ/mol rejected\n"
     ]
    },
    {
     "name": "stderr",
     "output_type": "stream",
     "text": [
      "100%|██████████| 1/1 [00:01<00:00,  1.92s/it]\n"
     ]
    },
    {
     "name": "stdout",
     "output_type": "stream",
     "text": [
      "69.85743713378906 kJ/mol 46.7764892578125 kJ/mol 489.15577697753906 kJ/mol 1576.8466796875 kJ/mol rejected\n"
     ]
    },
    {
     "name": "stderr",
     "output_type": "stream",
     "text": [
      "100%|██████████| 1/1 [00:01<00:00,  1.91s/it]\n"
     ]
    },
    {
     "name": "stdout",
     "output_type": "stream",
     "text": [
      "65.02165222167969 kJ/mol 170.89686584472656 kJ/mol 623.4530334472656 kJ/mol 650.9609375 kJ/mol rejected\n"
     ]
    },
    {
     "name": "stderr",
     "output_type": "stream",
     "text": [
      "100%|██████████| 1/1 [00:01<00:00,  1.91s/it]\n"
     ]
    },
    {
     "name": "stdout",
     "output_type": "stream",
     "text": [
      "75.36724853515625 kJ/mol 165.322265625 kJ/mol 694.9532012939453 kJ/mol 1382.7705078125 kJ/mol rejected\n"
     ]
    },
    {
     "name": "stderr",
     "output_type": "stream",
     "text": [
      "100%|██████████| 1/1 [00:01<00:00,  1.92s/it]\n"
     ]
    },
    {
     "name": "stdout",
     "output_type": "stream",
     "text": [
      "63.596923828125 kJ/mol -29.838836669921875 kJ/mol 616.969482421875 kJ/mol 1033.8076171875 kJ/mol rejected\n"
     ]
    },
    {
     "name": "stderr",
     "output_type": "stream",
     "text": [
      "100%|██████████| 1/1 [00:02<00:00,  2.03s/it]\n"
     ]
    },
    {
     "name": "stdout",
     "output_type": "stream",
     "text": [
      "68.21603393554688 kJ/mol 153.91156005859375 kJ/mol 694.9497222900391 kJ/mol 1114.6572265625 kJ/mol rejected\n"
     ]
    },
    {
     "name": "stderr",
     "output_type": "stream",
     "text": [
      "100%|██████████| 1/1 [00:01<00:00,  1.92s/it]\n"
     ]
    },
    {
     "name": "stdout",
     "output_type": "stream",
     "text": [
      "62.67567443847656 kJ/mol 90.76856994628906 kJ/mol 665.3948669433594 kJ/mol 392.2490234375 kJ/mol rejected\n"
     ]
    },
    {
     "name": "stderr",
     "output_type": "stream",
     "text": [
      "100%|██████████| 1/1 [00:01<00:00,  1.92s/it]\n"
     ]
    },
    {
     "name": "stdout",
     "output_type": "stream",
     "text": [
      "78.66883850097656 kJ/mol 442.2916564941406 kJ/mol 959.4429168701172 kJ/mol 486.515625 kJ/mol rejected\n"
     ]
    },
    {
     "name": "stderr",
     "output_type": "stream",
     "text": [
      "100%|██████████| 1/1 [00:01<00:00,  1.91s/it]\n"
     ]
    },
    {
     "name": "stdout",
     "output_type": "stream",
     "text": [
      "59.191131591796875 kJ/mol 242.87120056152344 kJ/mol 746.8384552001953 kJ/mol 1102.9560546875 kJ/mol rejected\n"
     ]
    },
    {
     "name": "stderr",
     "output_type": "stream",
     "text": [
      "100%|██████████| 1/1 [00:01<00:00,  1.92s/it]\n"
     ]
    },
    {
     "name": "stdout",
     "output_type": "stream",
     "text": [
      "70.95724487304688 kJ/mol 170.62892150878906 kJ/mol 661.8817443847656 kJ/mol 694.8447265625 kJ/mol rejected\n"
     ]
    },
    {
     "name": "stderr",
     "output_type": "stream",
     "text": [
      "100%|██████████| 1/1 [00:01<00:00,  1.92s/it]\n"
     ]
    },
    {
     "name": "stdout",
     "output_type": "stream",
     "text": [
      "58.597015380859375 kJ/mol 228.25323486328125 kJ/mol 795.3962554931641 kJ/mol 168.6064453125 kJ/mol rejected\n"
     ]
    },
    {
     "name": "stderr",
     "output_type": "stream",
     "text": [
      "100%|██████████| 1/1 [00:01<00:00,  1.91s/it]\n"
     ]
    },
    {
     "name": "stdout",
     "output_type": "stream",
     "text": [
      "62.4544677734375 kJ/mol 91.945556640625 kJ/mol 599.9078826904297 kJ/mol 1024.740234375 kJ/mol rejected\n"
     ]
    },
    {
     "name": "stderr",
     "output_type": "stream",
     "text": [
      "100%|██████████| 1/1 [00:02<00:00,  2.22s/it]\n"
     ]
    },
    {
     "name": "stdout",
     "output_type": "stream",
     "text": [
      "69.57771301269531 kJ/mol 368.5197448730469 kJ/mol 925.8210296630859 kJ/mol 414.630859375 kJ/mol rejected\n"
     ]
    },
    {
     "name": "stderr",
     "output_type": "stream",
     "text": [
      "100%|██████████| 1/1 [00:02<00:00,  2.02s/it]\n"
     ]
    },
    {
     "name": "stdout",
     "output_type": "stream",
     "text": [
      "74.21847534179688 kJ/mol 162.62371826171875 kJ/mol 685.3311614990234 kJ/mol 1237.478515625 kJ/mol rejected\n"
     ]
    },
    {
     "name": "stderr",
     "output_type": "stream",
     "text": [
      "100%|██████████| 1/1 [00:01<00:00,  1.91s/it]\n"
     ]
    },
    {
     "name": "stdout",
     "output_type": "stream",
     "text": [
      "67.14973449707031 kJ/mol 38.52789306640625 kJ/mol 637.4386291503906 kJ/mol 1446.2158203125 kJ/mol rejected\n"
     ]
    },
    {
     "name": "stderr",
     "output_type": "stream",
     "text": [
      "100%|██████████| 1/1 [00:01<00:00,  1.92s/it]\n",
      " 40%|████      | 2/5 [04:09<06:50, 136.94s/it]"
     ]
    },
    {
     "name": "stdout",
     "output_type": "stream",
     "text": [
      "50.52967834472656 kJ/mol 36.34112548828125 kJ/mol 524.7405700683594 kJ/mol 983.62890625 kJ/mol rejected\n"
     ]
    },
    {
     "name": "stderr",
     "output_type": "stream",
     "text": [
      "100%|██████████| 1/1 [00:01<00:00,  1.92s/it]\n"
     ]
    },
    {
     "name": "stdout",
     "output_type": "stream",
     "text": [
      "70.09892272949219 kJ/mol 1.7059326171875 kJ/mol 514.9564361572266 kJ/mol 1154.9013671875 kJ/mol rejected\n"
     ]
    },
    {
     "name": "stderr",
     "output_type": "stream",
     "text": [
      "100%|██████████| 1/1 [00:01<00:00,  1.91s/it]\n"
     ]
    },
    {
     "name": "stdout",
     "output_type": "stream",
     "text": [
      "60.90814208984375 kJ/mol 215.43252563476562 kJ/mol 802.4578704833984 kJ/mol 1449.697265625 kJ/mol rejected\n"
     ]
    },
    {
     "name": "stderr",
     "output_type": "stream",
     "text": [
      "100%|██████████| 1/1 [00:01<00:00,  1.91s/it]\n"
     ]
    },
    {
     "name": "stdout",
     "output_type": "stream",
     "text": [
      "73.29705810546875 kJ/mol 120.53744506835938 kJ/mol 638.0339508056641 kJ/mol 862.0498046875 kJ/mol rejected\n"
     ]
    },
    {
     "name": "stderr",
     "output_type": "stream",
     "text": [
      "100%|██████████| 1/1 [00:01<00:00,  1.91s/it]\n"
     ]
    },
    {
     "name": "stdout",
     "output_type": "stream",
     "text": [
      "77.99760437011719 kJ/mol 209.15902709960938 kJ/mol 735.9898986816406 kJ/mol 779.333984375 kJ/mol rejected\n"
     ]
    },
    {
     "name": "stderr",
     "output_type": "stream",
     "text": [
      "100%|██████████| 1/1 [00:01<00:00,  1.91s/it]\n"
     ]
    },
    {
     "name": "stdout",
     "output_type": "stream",
     "text": [
      "66.41134643554688 kJ/mol 241.94859313964844 kJ/mol 711.0846252441406 kJ/mol 534.9248046875 kJ/mol rejected\n"
     ]
    },
    {
     "name": "stderr",
     "output_type": "stream",
     "text": [
      "100%|██████████| 1/1 [00:02<00:00,  2.02s/it]\n"
     ]
    },
    {
     "name": "stdout",
     "output_type": "stream",
     "text": [
      "69.54647827148438 kJ/mol 280.3500213623047 kJ/mol 776.525390625 kJ/mol 1825.7412109375 kJ/mol rejected\n"
     ]
    },
    {
     "name": "stderr",
     "output_type": "stream",
     "text": [
      "100%|██████████| 1/1 [00:01<00:00,  1.91s/it]\n"
     ]
    },
    {
     "name": "stdout",
     "output_type": "stream",
     "text": [
      "69.76417541503906 kJ/mol 41.55952453613281 kJ/mol 575.7457885742188 kJ/mol 788.8271484375 kJ/mol rejected\n"
     ]
    },
    {
     "name": "stderr",
     "output_type": "stream",
     "text": [
      "100%|██████████| 1/1 [00:01<00:00,  1.91s/it]\n"
     ]
    },
    {
     "name": "stdout",
     "output_type": "stream",
     "text": [
      "75.493896484375 kJ/mol 202.62696838378906 kJ/mol 651.8016510009766 kJ/mol 1228.1689453125 kJ/mol rejected\n"
     ]
    },
    {
     "name": "stderr",
     "output_type": "stream",
     "text": [
      "100%|██████████| 1/1 [00:01<00:00,  1.91s/it]\n"
     ]
    },
    {
     "name": "stdout",
     "output_type": "stream",
     "text": [
      "60.625457763671875 kJ/mol 110.90129089355469 kJ/mol 650.2730560302734 kJ/mol 1207.0615234375 kJ/mol rejected\n"
     ]
    },
    {
     "name": "stderr",
     "output_type": "stream",
     "text": [
      "100%|██████████| 1/1 [00:01<00:00,  1.90s/it]\n"
     ]
    },
    {
     "name": "stdout",
     "output_type": "stream",
     "text": [
      "68.66361999511719 kJ/mol 47.83937072753906 kJ/mol 651.7834320068359 kJ/mol 966.2109375 kJ/mol rejected\n"
     ]
    },
    {
     "name": "stderr",
     "output_type": "stream",
     "text": [
      "100%|██████████| 1/1 [00:01<00:00,  1.91s/it]\n"
     ]
    },
    {
     "name": "stdout",
     "output_type": "stream",
     "text": [
      "69.07615661621094 kJ/mol 255.1890411376953 kJ/mol 824.6243133544922 kJ/mol 774.1923828125 kJ/mol rejected\n"
     ]
    },
    {
     "name": "stderr",
     "output_type": "stream",
     "text": [
      "100%|██████████| 1/1 [00:01<00:00,  1.91s/it]\n"
     ]
    },
    {
     "name": "stdout",
     "output_type": "stream",
     "text": [
      "54.10047912597656 kJ/mol 44.43879699707031 kJ/mol 497.54832458496094 kJ/mol 1451.140625 kJ/mol rejected\n"
     ]
    },
    {
     "name": "stderr",
     "output_type": "stream",
     "text": [
      "100%|██████████| 1/1 [00:01<00:00,  1.91s/it]\n"
     ]
    },
    {
     "name": "stdout",
     "output_type": "stream",
     "text": [
      "66.20429992675781 kJ/mol 137.12786865234375 kJ/mol 759.9606323242188 kJ/mol 990.3759765625 kJ/mol rejected\n"
     ]
    },
    {
     "name": "stderr",
     "output_type": "stream",
     "text": [
      "100%|██████████| 1/1 [00:02<00:00,  2.03s/it]\n"
     ]
    },
    {
     "name": "stdout",
     "output_type": "stream",
     "text": [
      "67.61083984375 kJ/mol 69.44654846191406 kJ/mol 658.0695190429688 kJ/mol 1083.232421875 kJ/mol rejected\n"
     ]
    },
    {
     "name": "stderr",
     "output_type": "stream",
     "text": [
      "100%|██████████| 1/1 [00:01<00:00,  1.91s/it]\n"
     ]
    },
    {
     "name": "stdout",
     "output_type": "stream",
     "text": [
      "72.67237854003906 kJ/mol 11.873382568359375 kJ/mol 510.5968017578125 kJ/mol 1146.0166015625 kJ/mol rejected\n"
     ]
    },
    {
     "name": "stderr",
     "output_type": "stream",
     "text": [
      "100%|██████████| 1/1 [00:01<00:00,  1.91s/it]\n"
     ]
    },
    {
     "name": "stdout",
     "output_type": "stream",
     "text": [
      "65.27412414550781 kJ/mol 55.92637634277344 kJ/mol 595.2623596191406 kJ/mol 1220.6298828125 kJ/mol rejected\n"
     ]
    },
    {
     "name": "stderr",
     "output_type": "stream",
     "text": [
      "100%|██████████| 1/1 [00:01<00:00,  1.91s/it]\n"
     ]
    },
    {
     "name": "stdout",
     "output_type": "stream",
     "text": [
      "70.66751098632812 kJ/mol 105.17642211914062 kJ/mol 580.9271697998047 kJ/mol 767.130859375 kJ/mol rejected\n"
     ]
    },
    {
     "name": "stderr",
     "output_type": "stream",
     "text": [
      "100%|██████████| 1/1 [00:01<00:00,  1.92s/it]\n"
     ]
    },
    {
     "name": "stdout",
     "output_type": "stream",
     "text": [
      "67.08241271972656 kJ/mol 229.7201690673828 kJ/mol 796.9182891845703 kJ/mol 994.7919921875 kJ/mol rejected\n"
     ]
    },
    {
     "name": "stderr",
     "output_type": "stream",
     "text": [
      "100%|██████████| 1/1 [00:01<00:00,  1.92s/it]\n"
     ]
    },
    {
     "name": "stdout",
     "output_type": "stream",
     "text": [
      "61.70848083496094 kJ/mol 169.1111297607422 kJ/mol 622.0814971923828 kJ/mol 772.638671875 kJ/mol rejected\n"
     ]
    },
    {
     "name": "stderr",
     "output_type": "stream",
     "text": [
      "100%|██████████| 1/1 [00:01<00:00,  1.91s/it]\n"
     ]
    },
    {
     "name": "stdout",
     "output_type": "stream",
     "text": [
      "65.6766357421875 kJ/mol 112.82302856445312 kJ/mol 669.1267852783203 kJ/mol 846.37890625 kJ/mol rejected\n"
     ]
    },
    {
     "name": "stderr",
     "output_type": "stream",
     "text": [
      "100%|██████████| 1/1 [00:02<00:00,  2.02s/it]\n"
     ]
    },
    {
     "name": "stdout",
     "output_type": "stream",
     "text": [
      "69.90937805175781 kJ/mol 48.476470947265625 kJ/mol 551.8921051025391 kJ/mol 1133.08203125 kJ/mol rejected\n"
     ]
    },
    {
     "name": "stderr",
     "output_type": "stream",
     "text": [
      "100%|██████████| 1/1 [00:01<00:00,  1.92s/it]\n"
     ]
    },
    {
     "name": "stdout",
     "output_type": "stream",
     "text": [
      "66.55827331542969 kJ/mol 218.91970825195312 kJ/mol 721.7848205566406 kJ/mol 1090.6123046875 kJ/mol rejected\n"
     ]
    },
    {
     "name": "stderr",
     "output_type": "stream",
     "text": [
      "100%|██████████| 1/1 [00:01<00:00,  1.91s/it]\n"
     ]
    },
    {
     "name": "stdout",
     "output_type": "stream",
     "text": [
      "66.78176879882812 kJ/mol 6.4061431884765625 kJ/mol 459.91566467285156 kJ/mol 1059.845703125 kJ/mol rejected\n"
     ]
    },
    {
     "name": "stderr",
     "output_type": "stream",
     "text": [
      "100%|██████████| 1/1 [00:01<00:00,  1.91s/it]\n"
     ]
    },
    {
     "name": "stdout",
     "output_type": "stream",
     "text": [
      "56.44847106933594 kJ/mol 56.35279846191406 kJ/mol 569.2477722167969 kJ/mol 498.0498046875 kJ/mol rejected\n"
     ]
    },
    {
     "name": "stderr",
     "output_type": "stream",
     "text": [
      "100%|██████████| 1/1 [00:01<00:00,  1.91s/it]\n"
     ]
    },
    {
     "name": "stdout",
     "output_type": "stream",
     "text": [
      "78.86491394042969 kJ/mol 119.04655456542969 kJ/mol 768.9909210205078 kJ/mol 1250.708984375 kJ/mol rejected\n"
     ]
    },
    {
     "name": "stderr",
     "output_type": "stream",
     "text": [
      "100%|██████████| 1/1 [00:01<00:00,  1.91s/it]\n"
     ]
    },
    {
     "name": "stdout",
     "output_type": "stream",
     "text": [
      "60.658477783203125 kJ/mol 223.4357452392578 kJ/mol 695.7439117431641 kJ/mol 1483.330078125 kJ/mol rejected\n"
     ]
    },
    {
     "name": "stderr",
     "output_type": "stream",
     "text": [
      "100%|██████████| 1/1 [00:01<00:00,  1.91s/it]\n"
     ]
    },
    {
     "name": "stdout",
     "output_type": "stream",
     "text": [
      "71.34553527832031 kJ/mol 198.89761352539062 kJ/mol 744.6275787353516 kJ/mol 622.013671875 kJ/mol rejected\n"
     ]
    },
    {
     "name": "stderr",
     "output_type": "stream",
     "text": [
      "100%|██████████| 1/1 [00:02<00:00,  2.02s/it]\n"
     ]
    },
    {
     "name": "stdout",
     "output_type": "stream",
     "text": [
      "57.45985412597656 kJ/mol 0.841400146484375 kJ/mol 525.7644805908203 kJ/mol 760.9248046875 kJ/mol rejected\n"
     ]
    },
    {
     "name": "stderr",
     "output_type": "stream",
     "text": [
      "100%|██████████| 1/1 [00:02<00:00,  2.31s/it]\n"
     ]
    },
    {
     "name": "stdout",
     "output_type": "stream",
     "text": [
      "70.5128173828125 kJ/mol 336.0283203125 kJ/mol 893.6611938476562 kJ/mol 894.99609375 kJ/mol rejected\n"
     ]
    },
    {
     "name": "stderr",
     "output_type": "stream",
     "text": [
      "100%|██████████| 1/1 [00:01<00:00,  1.91s/it]\n"
     ]
    },
    {
     "name": "stdout",
     "output_type": "stream",
     "text": [
      "61.636474609375 kJ/mol 140.9078369140625 kJ/mol 716.6599731445312 kJ/mol 432.6494140625 kJ/mol rejected\n"
     ]
    },
    {
     "name": "stderr",
     "output_type": "stream",
     "text": [
      "100%|██████████| 1/1 [00:01<00:00,  1.91s/it]\n"
     ]
    },
    {
     "name": "stdout",
     "output_type": "stream",
     "text": [
      "73.49957275390625 kJ/mol 129.0536651611328 kJ/mol 708.8381500244141 kJ/mol 1037.1767578125 kJ/mol rejected\n"
     ]
    },
    {
     "name": "stderr",
     "output_type": "stream",
     "text": [
      "100%|██████████| 1/1 [00:01<00:00,  1.91s/it]\n"
     ]
    },
    {
     "name": "stdout",
     "output_type": "stream",
     "text": [
      "65.42594909667969 kJ/mol 27.362579345703125 kJ/mol 589.0064239501953 kJ/mol 1575.5009765625 kJ/mol rejected\n"
     ]
    },
    {
     "name": "stderr",
     "output_type": "stream",
     "text": [
      "100%|██████████| 1/1 [00:01<00:00,  1.91s/it]\n"
     ]
    },
    {
     "name": "stdout",
     "output_type": "stream",
     "text": [
      "73.18524169921875 kJ/mol 177.90232849121094 kJ/mol 729.2676086425781 kJ/mol 809.20703125 kJ/mol rejected\n"
     ]
    },
    {
     "name": "stderr",
     "output_type": "stream",
     "text": [
      "100%|██████████| 1/1 [00:01<00:00,  1.91s/it]\n"
     ]
    },
    {
     "name": "stdout",
     "output_type": "stream",
     "text": [
      "67.32618713378906 kJ/mol 317.39122009277344 kJ/mol 809.2862854003906 kJ/mol 887.130859375 kJ/mol rejected\n"
     ]
    },
    {
     "name": "stderr",
     "output_type": "stream",
     "text": [
      "100%|██████████| 1/1 [00:02<00:00,  2.03s/it]\n"
     ]
    },
    {
     "name": "stdout",
     "output_type": "stream",
     "text": [
      "72.80618286132812 kJ/mol 75.28758239746094 kJ/mol 612.05322265625 kJ/mol 1714.0107421875 kJ/mol rejected\n"
     ]
    },
    {
     "name": "stderr",
     "output_type": "stream",
     "text": [
      "100%|██████████| 1/1 [00:01<00:00,  1.91s/it]\n"
     ]
    },
    {
     "name": "stdout",
     "output_type": "stream",
     "text": [
      "62.08412170410156 kJ/mol 66.67329406738281 kJ/mol 522.4923553466797 kJ/mol 1160.6748046875 kJ/mol rejected\n"
     ]
    },
    {
     "name": "stderr",
     "output_type": "stream",
     "text": [
      "100%|██████████| 1/1 [00:01<00:00,  1.92s/it]\n"
     ]
    },
    {
     "name": "stdout",
     "output_type": "stream",
     "text": [
      "71.78091430664062 kJ/mol -46.70768737792969 kJ/mol 508.39036560058594 kJ/mol 1041.005859375 kJ/mol rejected\n"
     ]
    },
    {
     "name": "stderr",
     "output_type": "stream",
     "text": [
      "100%|██████████| 1/1 [00:01<00:00,  1.92s/it]\n"
     ]
    },
    {
     "name": "stdout",
     "output_type": "stream",
     "text": [
      "66.70675659179688 kJ/mol 296.0683898925781 kJ/mol 804.5596008300781 kJ/mol 897.1884765625 kJ/mol rejected\n"
     ]
    },
    {
     "name": "stderr",
     "output_type": "stream",
     "text": [
      "100%|██████████| 1/1 [00:01<00:00,  1.91s/it]\n"
     ]
    },
    {
     "name": "stdout",
     "output_type": "stream",
     "text": [
      "67.43299865722656 kJ/mol 304.73170471191406 kJ/mol 891.73046875 kJ/mol 1532.27734375 kJ/mol rejected\n"
     ]
    },
    {
     "name": "stderr",
     "output_type": "stream",
     "text": [
      "100%|██████████| 1/1 [00:01<00:00,  1.90s/it]\n"
     ]
    },
    {
     "name": "stdout",
     "output_type": "stream",
     "text": [
      "54.998565673828125 kJ/mol 283.48876953125 kJ/mol 805.8843231201172 kJ/mol 1086.158203125 kJ/mol rejected\n"
     ]
    },
    {
     "name": "stderr",
     "output_type": "stream",
     "text": [
      "100%|██████████| 1/1 [00:01<00:00,  1.91s/it]\n"
     ]
    },
    {
     "name": "stdout",
     "output_type": "stream",
     "text": [
      "64.47244262695312 kJ/mol 139.42520141601562 kJ/mol 606.9495391845703 kJ/mol 665.8681640625 kJ/mol rejected\n"
     ]
    },
    {
     "name": "stderr",
     "output_type": "stream",
     "text": [
      "100%|██████████| 1/1 [00:01<00:00,  1.91s/it]\n"
     ]
    },
    {
     "name": "stdout",
     "output_type": "stream",
     "text": [
      "55.8887939453125 kJ/mol 159.3925323486328 kJ/mol 738.7519989013672 kJ/mol 1215.34765625 kJ/mol rejected\n"
     ]
    },
    {
     "name": "stderr",
     "output_type": "stream",
     "text": [
      "100%|██████████| 1/1 [00:01<00:00,  1.91s/it]\n"
     ]
    },
    {
     "name": "stdout",
     "output_type": "stream",
     "text": [
      "64.53312683105469 kJ/mol 133.3722381591797 kJ/mol 703.3012847900391 kJ/mol 1520.8564453125 kJ/mol rejected\n"
     ]
    },
    {
     "name": "stderr",
     "output_type": "stream",
     "text": [
      "100%|██████████| 1/1 [00:02<00:00,  2.02s/it]\n"
     ]
    },
    {
     "name": "stdout",
     "output_type": "stream",
     "text": [
      "75.94651794433594 kJ/mol 77.12229919433594 kJ/mol 603.7415008544922 kJ/mol 590.548828125 kJ/mol rejected\n"
     ]
    },
    {
     "name": "stderr",
     "output_type": "stream",
     "text": [
      "100%|██████████| 1/1 [00:01<00:00,  1.90s/it]\n"
     ]
    },
    {
     "name": "stdout",
     "output_type": "stream",
     "text": [
      "67.38679504394531 kJ/mol 269.92665100097656 kJ/mol 791.8790588378906 kJ/mol 1319.8564453125 kJ/mol rejected\n"
     ]
    },
    {
     "name": "stderr",
     "output_type": "stream",
     "text": [
      "100%|██████████| 1/1 [00:01<00:00,  1.91s/it]\n"
     ]
    },
    {
     "name": "stdout",
     "output_type": "stream",
     "text": [
      "33.0286865234375 kJ/mol 251.21669006347656 kJ/mol 695.8589935302734 kJ/mol 843.3828125 kJ/mol rejected\n"
     ]
    },
    {
     "name": "stderr",
     "output_type": "stream",
     "text": [
      "100%|██████████| 1/1 [00:01<00:00,  1.91s/it]\n"
     ]
    },
    {
     "name": "stdout",
     "output_type": "stream",
     "text": [
      "67.37705993652344 kJ/mol 121.20799255371094 kJ/mol 611.9646606445312 kJ/mol 1175.9033203125 kJ/mol rejected\n"
     ]
    },
    {
     "name": "stderr",
     "output_type": "stream",
     "text": [
      "100%|██████████| 1/1 [00:01<00:00,  1.91s/it]\n"
     ]
    },
    {
     "name": "stdout",
     "output_type": "stream",
     "text": [
      "72.55010986328125 kJ/mol 197.46615600585938 kJ/mol 706.3391265869141 kJ/mol 998.533203125 kJ/mol rejected\n"
     ]
    },
    {
     "name": "stderr",
     "output_type": "stream",
     "text": [
      "100%|██████████| 1/1 [00:01<00:00,  1.92s/it]\n"
     ]
    },
    {
     "name": "stdout",
     "output_type": "stream",
     "text": [
      "77.28529357910156 kJ/mol 98.01612854003906 kJ/mol 556.7589874267578 kJ/mol 833.357421875 kJ/mol rejected\n"
     ]
    },
    {
     "name": "stderr",
     "output_type": "stream",
     "text": [
      "100%|██████████| 1/1 [00:01<00:00,  1.92s/it]\n"
     ]
    },
    {
     "name": "stdout",
     "output_type": "stream",
     "text": [
      "60.7572021484375 kJ/mol 2.3679046630859375 kJ/mol 539.8043518066406 kJ/mol 960.7490234375 kJ/mol rejected\n"
     ]
    },
    {
     "name": "stderr",
     "output_type": "stream",
     "text": [
      "100%|██████████| 1/1 [00:01<00:00,  1.91s/it]\n"
     ]
    },
    {
     "name": "stdout",
     "output_type": "stream",
     "text": [
      "67.88082885742188 kJ/mol 78.83665466308594 kJ/mol 551.3323974609375 kJ/mol 1027.9931640625 kJ/mol rejected\n"
     ]
    },
    {
     "name": "stderr",
     "output_type": "stream",
     "text": [
      "100%|██████████| 1/1 [00:02<00:00,  2.02s/it]\n"
     ]
    },
    {
     "name": "stdout",
     "output_type": "stream",
     "text": [
      "65.13597106933594 kJ/mol 444.43190002441406 kJ/mol 958.9394378662109 kJ/mol 836.55078125 kJ/mol rejected\n"
     ]
    },
    {
     "name": "stderr",
     "output_type": "stream",
     "text": [
      "100%|██████████| 1/1 [00:01<00:00,  1.92s/it]\n"
     ]
    },
    {
     "name": "stdout",
     "output_type": "stream",
     "text": [
      "69.70883178710938 kJ/mol 271.948486328125 kJ/mol 817.3251495361328 kJ/mol 823.4609375 kJ/mol rejected\n"
     ]
    },
    {
     "name": "stderr",
     "output_type": "stream",
     "text": [
      "100%|██████████| 1/1 [00:01<00:00,  1.92s/it]\n"
     ]
    },
    {
     "name": "stdout",
     "output_type": "stream",
     "text": [
      "49.07460021972656 kJ/mol 219.4976348876953 kJ/mol 741.7754516601562 kJ/mol 1025.7412109375 kJ/mol rejected\n"
     ]
    },
    {
     "name": "stderr",
     "output_type": "stream",
     "text": [
      "100%|██████████| 1/1 [00:01<00:00,  1.91s/it]\n"
     ]
    },
    {
     "name": "stdout",
     "output_type": "stream",
     "text": [
      "73.48460388183594 kJ/mol 199.7093963623047 kJ/mol 734.367919921875 kJ/mol 669.42578125 kJ/mol rejected\n"
     ]
    },
    {
     "name": "stderr",
     "output_type": "stream",
     "text": [
      "100%|██████████| 1/1 [00:01<00:00,  1.91s/it]\n"
     ]
    },
    {
     "name": "stdout",
     "output_type": "stream",
     "text": [
      "66.65522766113281 kJ/mol 207.69488525390625 kJ/mol 798.1735076904297 kJ/mol 1888.49609375 kJ/mol rejected\n"
     ]
    },
    {
     "name": "stderr",
     "output_type": "stream",
     "text": [
      "100%|██████████| 1/1 [00:01<00:00,  1.91s/it]\n"
     ]
    },
    {
     "name": "stdout",
     "output_type": "stream",
     "text": [
      "66.46139526367188 kJ/mol 62.00169372558594 kJ/mol 560.8832550048828 kJ/mol 1052.3623046875 kJ/mol rejected\n"
     ]
    },
    {
     "name": "stderr",
     "output_type": "stream",
     "text": [
      "100%|██████████| 1/1 [00:02<00:00,  2.03s/it]\n"
     ]
    },
    {
     "name": "stdout",
     "output_type": "stream",
     "text": [
      "54.25640869140625 kJ/mol 326.3943786621094 kJ/mol 889.2843170166016 kJ/mol 995.294921875 kJ/mol rejected\n"
     ]
    },
    {
     "name": "stderr",
     "output_type": "stream",
     "text": [
      "100%|██████████| 1/1 [00:01<00:00,  1.92s/it]\n"
     ]
    },
    {
     "name": "stdout",
     "output_type": "stream",
     "text": [
      "69.57948303222656 kJ/mol 134.18980407714844 kJ/mol 613.2643737792969 kJ/mol 1395.9296875 kJ/mol rejected\n"
     ]
    },
    {
     "name": "stderr",
     "output_type": "stream",
     "text": [
      "100%|██████████| 1/1 [00:02<00:00,  2.27s/it]\n"
     ]
    },
    {
     "name": "stdout",
     "output_type": "stream",
     "text": [
      "67.36526489257812 kJ/mol 87.54277038574219 kJ/mol 642.1130523681641 kJ/mol 1102.5595703125 kJ/mol rejected\n"
     ]
    },
    {
     "name": "stderr",
     "output_type": "stream",
     "text": [
      "100%|██████████| 1/1 [00:01<00:00,  1.91s/it]\n"
     ]
    },
    {
     "name": "stdout",
     "output_type": "stream",
     "text": [
      "55.296875 kJ/mol 233.28286743164062 kJ/mol 753.7677001953125 kJ/mol 1671.744140625 kJ/mol rejected\n"
     ]
    },
    {
     "name": "stderr",
     "output_type": "stream",
     "text": [
      "100%|██████████| 1/1 [00:01<00:00,  1.91s/it]\n"
     ]
    },
    {
     "name": "stdout",
     "output_type": "stream",
     "text": [
      "73.31098937988281 kJ/mol 219.05657958984375 kJ/mol 732.2165679931641 kJ/mol 543.994140625 kJ/mol rejected\n"
     ]
    },
    {
     "name": "stderr",
     "output_type": "stream",
     "text": [
      "100%|██████████| 1/1 [00:01<00:00,  1.91s/it]\n"
     ]
    },
    {
     "name": "stdout",
     "output_type": "stream",
     "text": [
      "64.80537414550781 kJ/mol 147.53445434570312 kJ/mol 723.1187286376953 kJ/mol 403.0712890625 kJ/mol rejected\n"
     ]
    },
    {
     "name": "stderr",
     "output_type": "stream",
     "text": [
      "100%|██████████| 1/1 [00:01<00:00,  1.91s/it]\n"
     ]
    },
    {
     "name": "stdout",
     "output_type": "stream",
     "text": [
      "79.24433898925781 kJ/mol 72.24110412597656 kJ/mol 561.3216400146484 kJ/mol 1265.8857421875 kJ/mol rejected\n"
     ]
    },
    {
     "name": "stderr",
     "output_type": "stream",
     "text": [
      "100%|██████████| 1/1 [00:01<00:00,  1.91s/it]\n"
     ]
    },
    {
     "name": "stdout",
     "output_type": "stream",
     "text": [
      "63.33705139160156 kJ/mol 188.95286560058594 kJ/mol 663.1056365966797 kJ/mol 1741.0224609375 kJ/mol rejected\n"
     ]
    },
    {
     "name": "stderr",
     "output_type": "stream",
     "text": [
      "100%|██████████| 1/1 [00:02<00:00,  2.02s/it]\n"
     ]
    },
    {
     "name": "stdout",
     "output_type": "stream",
     "text": [
      "69.42924499511719 kJ/mol 284.07859802246094 kJ/mol 770.0962371826172 kJ/mol 895.611328125 kJ/mol rejected\n"
     ]
    },
    {
     "name": "stderr",
     "output_type": "stream",
     "text": [
      "100%|██████████| 1/1 [00:01<00:00,  1.91s/it]\n"
     ]
    },
    {
     "name": "stdout",
     "output_type": "stream",
     "text": [
      "66.42008972167969 kJ/mol 163.55551147460938 kJ/mol 584.1205749511719 kJ/mol 1347.1123046875 kJ/mol rejected\n"
     ]
    },
    {
     "name": "stderr",
     "output_type": "stream",
     "text": [
      "100%|██████████| 1/1 [00:01<00:00,  1.91s/it]\n"
     ]
    },
    {
     "name": "stdout",
     "output_type": "stream",
     "text": [
      "63.0689697265625 kJ/mol 376.40008544921875 kJ/mol 959.0595092773438 kJ/mol 871.6455078125 kJ/mol rejected\n"
     ]
    },
    {
     "name": "stderr",
     "output_type": "stream",
     "text": [
      "100%|██████████| 1/1 [00:01<00:00,  1.91s/it]\n"
     ]
    },
    {
     "name": "stdout",
     "output_type": "stream",
     "text": [
      "64.43295288085938 kJ/mol 65.52326965332031 kJ/mol 635.2295227050781 kJ/mol 629.50390625 kJ/mol rejected\n"
     ]
    },
    {
     "name": "stderr",
     "output_type": "stream",
     "text": [
      "100%|██████████| 1/1 [00:01<00:00,  1.91s/it]\n"
     ]
    },
    {
     "name": "stdout",
     "output_type": "stream",
     "text": [
      "73.10247802734375 kJ/mol 147.26187133789062 kJ/mol 739.3974304199219 kJ/mol 1207.8759765625 kJ/mol rejected\n"
     ]
    },
    {
     "name": "stderr",
     "output_type": "stream",
     "text": [
      "100%|██████████| 1/1 [00:01<00:00,  1.91s/it]\n"
     ]
    },
    {
     "name": "stdout",
     "output_type": "stream",
     "text": [
      "73.810302734375 kJ/mol -6.75677490234375 kJ/mol 508.5509796142578 kJ/mol 1107.583984375 kJ/mol rejected\n"
     ]
    },
    {
     "name": "stderr",
     "output_type": "stream",
     "text": [
      "100%|██████████| 1/1 [00:01<00:00,  1.91s/it]\n"
     ]
    },
    {
     "name": "stdout",
     "output_type": "stream",
     "text": [
      "60.84202575683594 kJ/mol 144.0743865966797 kJ/mol 630.2022857666016 kJ/mol 1495.67578125 kJ/mol rejected\n"
     ]
    },
    {
     "name": "stderr",
     "output_type": "stream",
     "text": [
      "100%|██████████| 1/1 [00:01<00:00,  1.92s/it]\n"
     ]
    },
    {
     "name": "stdout",
     "output_type": "stream",
     "text": [
      "62.4005126953125 kJ/mol 119.72828674316406 kJ/mol 649.2753143310547 kJ/mol 1504.7451171875 kJ/mol rejected\n"
     ]
    },
    {
     "name": "stderr",
     "output_type": "stream",
     "text": [
      "100%|██████████| 1/1 [00:02<00:00,  2.03s/it]\n"
     ]
    },
    {
     "name": "stdout",
     "output_type": "stream",
     "text": [
      "68.04710388183594 kJ/mol -16.992538452148438 kJ/mol 529.0783843994141 kJ/mol 1382.548828125 kJ/mol rejected\n"
     ]
    },
    {
     "name": "stderr",
     "output_type": "stream",
     "text": [
      "100%|██████████| 1/1 [00:01<00:00,  1.91s/it]\n"
     ]
    },
    {
     "name": "stdout",
     "output_type": "stream",
     "text": [
      "62.26429748535156 kJ/mol 72.11587524414062 kJ/mol 521.185302734375 kJ/mol 618.25390625 kJ/mol rejected\n"
     ]
    },
    {
     "name": "stderr",
     "output_type": "stream",
     "text": [
      "100%|██████████| 1/1 [00:01<00:00,  1.91s/it]\n"
     ]
    },
    {
     "name": "stdout",
     "output_type": "stream",
     "text": [
      "62.36412048339844 kJ/mol 93.34696960449219 kJ/mol 572.4430389404297 kJ/mol 930.443359375 kJ/mol rejected\n"
     ]
    },
    {
     "name": "stderr",
     "output_type": "stream",
     "text": [
      "100%|██████████| 1/1 [00:01<00:00,  1.91s/it]\n"
     ]
    },
    {
     "name": "stdout",
     "output_type": "stream",
     "text": [
      "58.383026123046875 kJ/mol 179.5838623046875 kJ/mol 733.0571136474609 kJ/mol 1164.4765625 kJ/mol rejected\n"
     ]
    },
    {
     "name": "stderr",
     "output_type": "stream",
     "text": [
      "100%|██████████| 1/1 [00:01<00:00,  1.91s/it]\n"
     ]
    },
    {
     "name": "stdout",
     "output_type": "stream",
     "text": [
      "62.18238830566406 kJ/mol 40.47589111328125 kJ/mol 566.7636413574219 kJ/mol 1498.232421875 kJ/mol rejected\n"
     ]
    },
    {
     "name": "stderr",
     "output_type": "stream",
     "text": [
      "100%|██████████| 1/1 [00:01<00:00,  1.91s/it]\n"
     ]
    },
    {
     "name": "stdout",
     "output_type": "stream",
     "text": [
      "66.8050537109375 kJ/mol 28.953689575195312 kJ/mol 453.769287109375 kJ/mol 573.0654296875 kJ/mol rejected\n"
     ]
    },
    {
     "name": "stderr",
     "output_type": "stream",
     "text": [
      "100%|██████████| 1/1 [00:01<00:00,  1.91s/it]\n"
     ]
    },
    {
     "name": "stdout",
     "output_type": "stream",
     "text": [
      "73.896240234375 kJ/mol 112.15534973144531 kJ/mol 533.4966430664062 kJ/mol 1339.994140625 kJ/mol rejected\n"
     ]
    },
    {
     "name": "stderr",
     "output_type": "stream",
     "text": [
      "100%|██████████| 1/1 [00:01<00:00,  1.91s/it]\n"
     ]
    },
    {
     "name": "stdout",
     "output_type": "stream",
     "text": [
      "73.5543212890625 kJ/mol 247.98794555664062 kJ/mol 685.4245452880859 kJ/mol 1075.1767578125 kJ/mol rejected\n"
     ]
    },
    {
     "name": "stderr",
     "output_type": "stream",
     "text": [
      "100%|██████████| 1/1 [00:02<00:00,  2.02s/it]\n"
     ]
    },
    {
     "name": "stdout",
     "output_type": "stream",
     "text": [
      "70.60350036621094 kJ/mol 185.07151794433594 kJ/mol 709.6394653320312 kJ/mol 885.1767578125 kJ/mol rejected\n"
     ]
    },
    {
     "name": "stderr",
     "output_type": "stream",
     "text": [
      "100%|██████████| 1/1 [00:01<00:00,  1.91s/it]\n"
     ]
    },
    {
     "name": "stdout",
     "output_type": "stream",
     "text": [
      "64.90768432617188 kJ/mol 47.935089111328125 kJ/mol 696.1432342529297 kJ/mol 1741.3896484375 kJ/mol rejected\n"
     ]
    },
    {
     "name": "stderr",
     "output_type": "stream",
     "text": [
      "100%|██████████| 1/1 [00:01<00:00,  1.91s/it]\n"
     ]
    },
    {
     "name": "stdout",
     "output_type": "stream",
     "text": [
      "52.41328430175781 kJ/mol 12.540145874023438 kJ/mol 510.65809631347656 kJ/mol 1469.7841796875 kJ/mol rejected\n"
     ]
    },
    {
     "name": "stderr",
     "output_type": "stream",
     "text": [
      "100%|██████████| 1/1 [00:01<00:00,  1.91s/it]\n"
     ]
    },
    {
     "name": "stdout",
     "output_type": "stream",
     "text": [
      "70.11314392089844 kJ/mol 198.22792053222656 kJ/mol 700.0368957519531 kJ/mol 1255.21484375 kJ/mol rejected\n"
     ]
    },
    {
     "name": "stderr",
     "output_type": "stream",
     "text": [
      "100%|██████████| 1/1 [00:01<00:00,  1.91s/it]\n"
     ]
    },
    {
     "name": "stdout",
     "output_type": "stream",
     "text": [
      "71.13356018066406 kJ/mol 182.7004852294922 kJ/mol 787.6731262207031 kJ/mol 1246.4638671875 kJ/mol rejected\n"
     ]
    },
    {
     "name": "stderr",
     "output_type": "stream",
     "text": [
      "100%|██████████| 1/1 [00:01<00:00,  1.91s/it]\n"
     ]
    },
    {
     "name": "stdout",
     "output_type": "stream",
     "text": [
      "59.456573486328125 kJ/mol 115.67257690429688 kJ/mol 658.7076110839844 kJ/mol 1744.1572265625 kJ/mol rejected\n"
     ]
    },
    {
     "name": "stderr",
     "output_type": "stream",
     "text": [
      "100%|██████████| 1/1 [00:02<00:00,  2.02s/it]\n"
     ]
    },
    {
     "name": "stdout",
     "output_type": "stream",
     "text": [
      "67.49472045898438 kJ/mol 224.60797119140625 kJ/mol 628.4319000244141 kJ/mol 783.3779296875 kJ/mol rejected\n"
     ]
    },
    {
     "name": "stderr",
     "output_type": "stream",
     "text": [
      "100%|██████████| 1/1 [00:01<00:00,  1.91s/it]\n"
     ]
    },
    {
     "name": "stdout",
     "output_type": "stream",
     "text": [
      "65.9591064453125 kJ/mol 238.5052032470703 kJ/mol 801.763427734375 kJ/mol 254.509765625 kJ/mol rejected\n"
     ]
    },
    {
     "name": "stderr",
     "output_type": "stream",
     "text": [
      "100%|██████████| 1/1 [00:01<00:00,  1.92s/it]\n"
     ]
    },
    {
     "name": "stdout",
     "output_type": "stream",
     "text": [
      "59.30537414550781 kJ/mol 17.290206909179688 kJ/mol 533.4713439941406 kJ/mol 746.2421875 kJ/mol rejected\n"
     ]
    },
    {
     "name": "stderr",
     "output_type": "stream",
     "text": [
      "100%|██████████| 1/1 [00:01<00:00,  1.91s/it]\n"
     ]
    },
    {
     "name": "stdout",
     "output_type": "stream",
     "text": [
      "67.78227233886719 kJ/mol 151.53274536132812 kJ/mol 655.3750457763672 kJ/mol 987.3212890625 kJ/mol rejected\n"
     ]
    },
    {
     "name": "stderr",
     "output_type": "stream",
     "text": [
      "100%|██████████| 1/1 [00:02<00:00,  2.32s/it]\n"
     ]
    }
   ],
   "source": [
    "for pocket_key in pocket_dict.keys():\n",
    "    ref_coords = []\n",
    "    for p_key in pocket_dict[pocket_key]:\n",
    "        ref_coords.append(ref_dict[p_key])\n",
    "    print(ref_coords)\n",
    "    if not os.path.exists(f'{datadir}/{pocket_key}'):\n",
    "        os.mkdir(f'{datadir}/{pocket_key}')\n",
    "    for lig_key in ligands.keys():\n",
    "        savedir = f'{datadir}/{pocket_key}/{lig_key}/'\n",
    "        if not os.path.exists(savedir):\n",
    "            os.mkdir(savedir)\n",
    "        # Load protein and ligand\n",
    "        prot = openmm.app.PDBFile(f'{datadir}/input.pdb')\n",
    "        lig = openff.toolkit.Molecule.from_smiles(ligands[lig_key])\n",
    "        lig.generate_conformers(n_conformers=1000)\n",
    "        lig_top = lig.to_topology().to_openmm()\n",
    "        lig_pos = lig.conformers[0].to_openmm()\n",
    "\n",
    "        # Load forcefield\n",
    "        ff = openmm.app.ForceField('amber14-all.xml', 'amber14/tip3pfb.xml',f'{lig_ff_dir}/{lig_key}_openff.xml')\n",
    "\n",
    "        # Add one ligand to the system\n",
    "        sys_top, sys_pos, ghosts = lu.add_ghosts(prot.topology, prot.positions, lig_top, lig_pos, n=1, output=f'{datadir}/{savedir}/ncmc_{lig_key}_init.pdb')\n",
    "\n",
    "        # Load pdb with protein and ligand\n",
    "        pdb = openmm.app.PDBFile(f'{datadir}/{savedir}/ncmc_{lig_key}_init.pdb')\n",
    "\n",
    "        frag_res_ids = []\n",
    "        frag_atom_ids = []\n",
    "        alchemical_atom_ids = []\n",
    "        for resid, residue in enumerate(pdb.topology.residues()):\n",
    "            if residue.name == \"UNK\":\n",
    "                frag_res_ids.append(resid)\n",
    "                for atom in residue.atoms():\n",
    "                    frag_atom_ids.append(atom.index)\n",
    "                    alchemical_atom_ids.append(atom.index)\n",
    "\n",
    "        pdb_system = ff.createSystem(pdb.topology, nonbondedMethod=openmm.app.NoCutoff)\n",
    "        dcd_reporter = openmm.app.DCDReporter(f\"{datadir}/{savedir}/ncmc_{lig_key}_fcrn.dcd\", reportInterval=1000000)\n",
    "        state_reporter = openmm.app.StateDataReporter(f\"{datadir}/{savedir}/ncmc_{lig_key}_fcrn_state.csv\",step=True, time=True, potentialEnergy=True, kineticEnergy=True, totalEnergy=True, temperature=True, volume=True, density=True, reportInterval=1000000)\n",
    "        \n",
    "        # Initialize Sampler\n",
    "        sampler = ls.BaseNCMCSampler(pdb_system,pdb.topology,pdb.positions,reporters=[dcd_reporter,state_reporter],alchemical_atoms=alchemical_atom_ids, overwrite=True,\n",
    "                                     nsteps_neq=1000,nsteps_eq=1000, frag_atoms=frag_atom_ids, insert_points_list=ref_coords\n",
    "                                    )  \n",
    "        \n",
    "        mean, std = sampler.compute_mfpt(100,5)\n",
    "        print(lig_key, sampler.fpt_list, mean, std)\n",
    "\n",
    "        with open(f'{datadir}/output_{pocket_key}.txt','a') as f:\n",
    "            f.write(f'{lig_key}\\t{sampler.fpt_list}\\t{mean}\\t{std}')"
   ]
  },
  {
   "cell_type": "code",
   "execution_count": null,
   "metadata": {},
   "outputs": [],
   "source": []
  }
 ],
 "metadata": {
  "kernelspec": {
   "display_name": "gcncmc",
   "language": "python",
   "name": "python3"
  },
  "language_info": {
   "codemirror_mode": {
    "name": "ipython",
    "version": 3
   },
   "file_extension": ".py",
   "mimetype": "text/x-python",
   "name": "python",
   "nbconvert_exporter": "python",
   "pygments_lexer": "ipython3",
   "version": "3.12.3"
  }
 },
 "nbformat": 4,
 "nbformat_minor": 2
}
