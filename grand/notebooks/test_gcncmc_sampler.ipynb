{
 "cells": [
  {
   "cell_type": "code",
   "execution_count": 1,
   "metadata": {},
   "outputs": [
    {
     "name": "stderr",
     "output_type": "stream",
     "text": [
      "Warning on use of the timeseries module: If the inherent timescales of the system are long compared to those being analyzed, this statistical inefficiency may be an underestimate.  The estimate presumes the use of many statistically independent samples.  Tests should be performed to assess whether this condition is satisfied.   Be cautious in the interpretation of the data.\n",
      "\n",
      "****** PyMBAR will use 64-bit JAX! *******\n",
      "* JAX is currently set to 32-bit bitsize *\n",
      "* which is its default.                  *\n",
      "*                                        *\n",
      "* PyMBAR requires 64-bit mode and WILL   *\n",
      "* enable JAX's 64-bit mode when called.  *\n",
      "*                                        *\n",
      "* This MAY cause problems with other     *\n",
      "* Uses of JAX in the same code.          *\n",
      "******************************************\n",
      "\n",
      "Warning: importing 'simtk.openmm' is deprecated.  Import 'openmm' instead.\n"
     ]
    }
   ],
   "source": [
    "import mdtraj\n",
    "\n",
    "from grand import lig_samplers as ls\n",
    "from grand import lig_utils as lu\n",
    "\n",
    "import openmm\n",
    "import openmm.app\n",
    "import openmm.unit\n",
    "from pdbfixer import PDBFixer\n",
    "\n",
    "import openff.toolkit\n",
    "\n",
    "from openmmtools.integrators import VelocityVerletIntegrator\n",
    "from openmmtools.integrators import BAOABIntegrator\n",
    "\n",
    "import numpy as np\n",
    "import mdtraj as md\n",
    "from scipy.spatial import Voronoi, Delaunay\n",
    "import os\n",
    "from collections import defaultdict\n",
    "import tqdm\n",
    "import pickle"
   ]
  },
  {
   "cell_type": "code",
   "execution_count": 2,
   "metadata": {},
   "outputs": [],
   "source": [
    "datadir = '../../examples/lysozyme/'\n",
    "prot = openmm.app.PDBFile(f'{datadir}/apo.pdb')"
   ]
  },
  {
   "cell_type": "code",
   "execution_count": 3,
   "metadata": {},
   "outputs": [
    {
     "name": "stderr",
     "output_type": "stream",
     "text": [
      "Warning: Cannot perform Hydrogen sampling with GPU-Omega: GPU-Omega disabled.\n"
     ]
    }
   ],
   "source": [
    "mol = openff.toolkit.Molecule.from_smiles(\"CC1=CC=CC=C1\")\n",
    "mol.generate_conformers(n_conformers=1000)\n",
    "topology = mol.to_topology().to_openmm()\n",
    "positions = mol.conformers[0].to_openmm()"
   ]
  },
  {
   "cell_type": "code",
   "execution_count": 4,
   "metadata": {},
   "outputs": [],
   "source": [
    "if os.path.exists('gcmc-ghosts-1000.pdb'):\n",
    "    pdb = openmm.app.PDBFile('gcmc-ghosts-1000.pdb')\n",
    "    sys_top = pdb.topology\n",
    "    sys_pos = pdb.positions\n",
    "else:\n",
    "    sys_top, sys_pos, ghosts = lu.add_ghosts(prot.topology, prot.positions, topology, positions, n=1000,output=f'{datadir}/gcmc-ghosts-1000.pdb')"
   ]
  },
  {
   "cell_type": "code",
   "execution_count": 5,
   "metadata": {},
   "outputs": [],
   "source": [
    "ff = openmm.app.ForceField('amber14-all.xml', 'amber14/tip3pfb.xml',f'{datadir}/toluene_openff.xml')"
   ]
  },
  {
   "cell_type": "code",
   "execution_count": 6,
   "metadata": {},
   "outputs": [],
   "source": [
    "pdb = openmm.app.PDBFile('gcmc-ghosts-1000.pdb')"
   ]
  },
  {
   "cell_type": "code",
   "execution_count": 7,
   "metadata": {},
   "outputs": [],
   "source": [
    "pdb_system = ff.createSystem(pdb.topology)\n",
    "integrator = openmm.LangevinIntegrator(298.0 * openmm.unit.kelvin, 1.0 / openmm.unit.picosecond, 2.0 * openmm.unit.femtosecond)\n",
    "reporter = openmm.app.DCDReporter(f\"{datadir}/sacp_lysozyme.dcd\", reportInterval=1000)"
   ]
  },
  {
   "cell_type": "code",
   "execution_count": 8,
   "metadata": {},
   "outputs": [],
   "source": [
    "frag_res_ids = []\n",
    "for resid, residue in enumerate(pdb.topology.residues()):\n",
    "    if residue.name == \"UNK\":\n",
    "        frag_res_ids.append(resid)"
   ]
  },
  {
   "cell_type": "code",
   "execution_count": 9,
   "metadata": {},
   "outputs": [
    {
     "name": "stdout",
     "output_type": "stream",
     "text": [
      "HarmonicBondForce\n",
      "1\n",
      "37332.0680475235 kJ/mol\n",
      "PeriodicTorsionForce\n",
      "2\n",
      "14778.185791015625 kJ/mol\n",
      "CMMotionRemover\n",
      "3\n",
      "0.0 kJ/mol\n",
      "HarmonicAngleForce\n",
      "4\n",
      "101701.98937988281 kJ/mol\n",
      "CustomNonbondedForce\n",
      "5\n",
      "nan kJ/mol\n",
      "CustomBondForce\n",
      "6\n",
      "28740.502807617188 kJ/mol\n",
      "Initial Energy: nan kJ/mol\n"
     ]
    }
   ],
   "source": [
    "sampler = ls.GCNCMCSampler(ff,pdb.topology,298*openmm.unit.kelvin,ligands=frag_res_ids,overwrite=True,B=0,positions=pdb.positions,\n",
    "                           integrator=integrator,reporters=[reporter], ghosts=frag_res_ids, insert_prob=1.0, n_pert_steps=1, n_prop_steps_per_pert=100)"
   ]
  },
  {
   "cell_type": "code",
   "execution_count": 10,
   "metadata": {},
   "outputs": [
    {
     "name": "stderr",
     "output_type": "stream",
     "text": [
      "100%|██████████| 10/10 [00:03<00:00,  3.06it/s]"
     ]
    },
    {
     "name": "stdout",
     "output_type": "stream",
     "text": [
      "0\n"
     ]
    },
    {
     "name": "stderr",
     "output_type": "stream",
     "text": [
      "\n"
     ]
    }
   ],
   "source": [
    "for n in tqdm.tqdm(range(10)):\n",
    "    sampler.move()\n",
    "print(sampler.n_accepted)"
   ]
  },
  {
   "cell_type": "code",
   "execution_count": null,
   "metadata": {},
   "outputs": [],
   "source": []
  }
 ],
 "metadata": {
  "kernelspec": {
   "display_name": "gcncmc",
   "language": "python",
   "name": "python3"
  },
  "language_info": {
   "codemirror_mode": {
    "name": "ipython",
    "version": 3
   },
   "file_extension": ".py",
   "mimetype": "text/x-python",
   "name": "python",
   "nbconvert_exporter": "python",
   "pygments_lexer": "ipython3",
   "version": "3.12.3"
  }
 },
 "nbformat": 4,
 "nbformat_minor": 2
}
