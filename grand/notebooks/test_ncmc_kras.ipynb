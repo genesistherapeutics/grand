{
 "cells": [
  {
   "cell_type": "code",
   "execution_count": 1,
   "metadata": {},
   "outputs": [
    {
     "name": "stderr",
     "output_type": "stream",
     "text": [
      "Warning on use of the timeseries module: If the inherent timescales of the system are long compared to those being analyzed, this statistical inefficiency may be an underestimate.  The estimate presumes the use of many statistically independent samples.  Tests should be performed to assess whether this condition is satisfied.   Be cautious in the interpretation of the data.\n",
      "\n",
      "****** PyMBAR will use 64-bit JAX! *******\n",
      "* JAX is currently set to 32-bit bitsize *\n",
      "* which is its default.                  *\n",
      "*                                        *\n",
      "* PyMBAR requires 64-bit mode and WILL   *\n",
      "* enable JAX's 64-bit mode when called.  *\n",
      "*                                        *\n",
      "* This MAY cause problems with other     *\n",
      "* Uses of JAX in the same code.          *\n",
      "******************************************\n",
      "\n",
      "Warning: importing 'simtk.openmm' is deprecated.  Import 'openmm' instead.\n"
     ]
    }
   ],
   "source": [
    "from grand import lig_samplers as ls\n",
    "from grand import lig_utils as lu\n",
    "\n",
    "import openmm\n",
    "import openmm.unit\n",
    "import openff.toolkit\n",
    "import pdbfixer\n",
    "import parmed\n",
    "\n",
    "import numpy as np\n",
    "import mdtraj as md\n",
    "from scipy.spatial import Voronoi, Delaunay\n",
    "import os"
   ]
  },
  {
   "cell_type": "code",
   "execution_count": 2,
   "metadata": {},
   "outputs": [
    {
     "name": "stderr",
     "output_type": "stream",
     "text": [
      "Warning: Cannot perform Hydrogen sampling with GPU-Omega: GPU-Omega disabled.\n"
     ]
    }
   ],
   "source": [
    "datadir = '../../examples/kras/'\n",
    "# Load protein and ligand\n",
    "prot = openmm.app.PDBFile(f'{datadir}/input.pdb')\n",
    "lig = openff.toolkit.Molecule(f'{datadir}/7R0M_7r0m_pose_0.sdf')\n",
    "lig.generate_conformers(n_conformers=1000)\n",
    "lig_top = lig.to_topology().to_openmm()\n",
    "lig_pos = lig.conformers[0].to_openmm()\n",
    "\n",
    "# Load forcefield\n",
    "ff = openmm.app.ForceField('amber14-all.xml', 'amber14/tip3pfb.xml',f'{datadir}/lig_openff.xml')"
   ]
  },
  {
   "cell_type": "code",
   "execution_count": 3,
   "metadata": {},
   "outputs": [
    {
     "name": "stderr",
     "output_type": "stream",
     "text": [
      "100%|██████████| 1/1 [00:00<00:00, 38.82it/s]\n"
     ]
    }
   ],
   "source": [
    "# Add one ligand to the system\n",
    "sys_top, sys_pos, ghosts = lu.add_ghosts(prot.topology, prot.positions, lig_top, lig_pos, n=1, output=f'{datadir}/ncmc_init.pdb')"
   ]
  },
  {
   "cell_type": "code",
   "execution_count": 4,
   "metadata": {},
   "outputs": [],
   "source": [
    "# Load pdb with protein and ligand\n",
    "pdb = openmm.app.PDBFile(f'{datadir}/ncmc_init.pdb')"
   ]
  },
  {
   "cell_type": "code",
   "execution_count": 5,
   "metadata": {},
   "outputs": [],
   "source": [
    "frag_res_ids = []\n",
    "frag_atom_ids = []\n",
    "alchemical_atom_ids = []\n",
    "for resid, residue in enumerate(pdb.topology.residues()):\n",
    "    if residue.name == \"UNK\":\n",
    "        frag_res_ids.append(resid)\n",
    "        for atom in residue.atoms():\n",
    "            frag_atom_ids.append(atom.index)\n",
    "            alchemical_atom_ids.append(atom.index)"
   ]
  },
  {
   "cell_type": "code",
   "execution_count": 6,
   "metadata": {},
   "outputs": [],
   "source": [
    "data = \"\"\"\n",
    "-21.2652    5.1471  -68.8848 C   0  0  0  0  0  0  0  0  0  0  0  0\n",
    "-25.1684    5.7819  -73.4243 N   0  0  0  0  0  0  0  0  0  0  0  0\n",
    "-22.4642    4.9718  -69.8029 C   0  0  0  0  0  0  0  0  0  0  0  0\n",
    "-24.0862    6.3421  -72.8592 N   0  0  0  0  0  0  0  0  0  0  0  0\n",
    "-22.6352    5.8953  -70.8378 C   0  0  0  0  0  0  0  0  0  0  0  0\n",
    "-23.6760    5.6646  -71.7344 C   0  0  0  0  0  0  0  0  0  0  0  0\n",
    "-24.5600    4.5713  -71.6101 C   0  0  0  0  0  0  0  0  0  0  0  0\n",
    "-24.3949    3.6785  -70.5414 C   0  0  0  0  0  0  0  0  0  0  0  0\n",
    "-23.3410    3.8858  -69.6483 C   0  0  0  0  0  0  0  0  0  0  0  0\n",
    "-25.4500    4.7159  -72.7192 C   0  0  0  0  0  0  0  0  0  0  0  0\n",
    "-23.1259    2.7429  -68.3680 Cl  0  0  0  0  0  0  0  0  0  0  0  0\n",
    "-23.6648    7.1895  -73.2428 H   0  0  0  0  0  0  0  0  0  0  0  0\n",
    "-20.5104    5.8068  -69.3142 H   0  0  0  0  0  0  0  0  0  0  0  0\n",
    "-21.5771    5.5410  -67.9222 H   0  0  0  0  0  0  0  0  0  0  0  0\n",
    "-20.7795    4.1868  -68.7160 H   0  0  0  0  0  0  0  0  0  0  0  0\n",
    "-21.9800    6.7415  -70.9547 H   0  0  0  0  0  0  0  0  0  0  0  0\n",
    "-25.0565    2.8342  -70.4187 H   0  0  0  0  0  0  0  0  0  0  0  0\n",
    "-26.2759    4.0753  -72.9909 H   0  0  0  0  0  0  0  0  0  0  0  0\n",
    "\"\"\"\n",
    "\n",
    "# Convert the multi-line string to a list of lists of floats\n",
    "lines = data.strip().split('\\n')\n",
    "array_data = [list(map(float, line.split()[:3])) for line in lines]\n",
    "\n",
    "# Convert the list of lists to a NumPy array\n",
    "lig_coord = np.array(array_data)\n"
   ]
  },
  {
   "cell_type": "code",
   "execution_count": 7,
   "metadata": {},
   "outputs": [
    {
     "name": "stdout",
     "output_type": "stream",
     "text": [
      "[-23.566379608615314 4.600636484380879 -70.61910695454638]\n"
     ]
    }
   ],
   "source": [
    "#lig_coord = []\n",
    "lig_mass = []\n",
    "for residue in lig_top.residues():\n",
    "    for atom in residue.atoms():\n",
    "        #lig_coord.append(lig_pos[int(atom.index)].value_in_unit(openmm.unit.nanometer))\n",
    "        lig_mass.append(atom.element._mass)\n",
    "\n",
    "ref_coords = parmed.geometry.center_of_mass(np.array(lig_coord), np.array(lig_mass))\n",
    "print(ref_coords)"
   ]
  },
  {
   "cell_type": "code",
   "execution_count": 8,
   "metadata": {},
   "outputs": [],
   "source": [
    "ref_coords = ref_coords/10"
   ]
  },
  {
   "cell_type": "code",
   "execution_count": 9,
   "metadata": {},
   "outputs": [],
   "source": [
    "pdb_system = ff.createSystem(pdb.topology, nonbondedMethod=openmm.app.NoCutoff)\n",
    "dcd_reporter = openmm.app.DCDReporter(f\"{datadir}/ncmc_kras.dcd\", reportInterval=50)\n",
    "state_reporter = openmm.app.StateDataReporter(f\"{datadir}/ncmc_kras_state.csv\",step=True, time=True, potentialEnergy=True, kineticEnergy=True,\n",
    "                                              totalEnergy=True, temperature=True, volume=True, density=True, reportInterval=50)"
   ]
  },
  {
   "cell_type": "code",
   "execution_count": 10,
   "metadata": {},
   "outputs": [],
   "source": [
    "# Initialize Sampler\n",
    "sampler = ls.BaseNCMCSampler(pdb_system,pdb.topology,pdb.positions,reporters=[dcd_reporter,state_reporter],alchemical_atoms=alchemical_atom_ids, overwrite=True,\n",
    "                             nsteps_neq=3000,nsteps_eq=1000, frag_atoms=frag_atom_ids, insert_points_list=[openmm.Vec3(-2.3566379608615314, 0.4600636484380879, -7.061910695454638)]\n",
    "                            )"
   ]
  },
  {
   "cell_type": "code",
   "execution_count": 11,
   "metadata": {},
   "outputs": [
    {
     "name": "stderr",
     "output_type": "stream",
     "text": [
      "  0%|          | 0/10 [00:00<?, ?it/s]"
     ]
    },
    {
     "name": "stdout",
     "output_type": "stream",
     "text": [
      "2.5147705078125 kJ/mol 19.069015502929688 kJ/mol 625.0296249389648 kJ/mol -234.8232421875 kJ/mol rejected\n"
     ]
    },
    {
     "name": "stderr",
     "output_type": "stream",
     "text": [
      " 10%|█         | 1/10 [00:04<00:40,  4.47s/it]"
     ]
    },
    {
     "name": "stdout",
     "output_type": "stream",
     "text": [
      "2.34014892578125 kJ/mol 1.9526214599609375 kJ/mol 685.5507507324219 kJ/mol 246.767578125 kJ/mol rejected\n"
     ]
    },
    {
     "name": "stderr",
     "output_type": "stream",
     "text": [
      " 20%|██        | 2/10 [00:09<00:36,  4.53s/it]"
     ]
    },
    {
     "name": "stdout",
     "output_type": "stream",
     "text": [
      "2.4009246826171875 kJ/mol 59.78926086425781 kJ/mol 602.7602081298828 kJ/mol 340.2958984375 kJ/mol rejected\n"
     ]
    },
    {
     "name": "stderr",
     "output_type": "stream",
     "text": [
      " 30%|███       | 3/10 [00:13<00:31,  4.50s/it]"
     ]
    },
    {
     "name": "stdout",
     "output_type": "stream",
     "text": [
      "2.42572021484375 kJ/mol 16.344512939453125 kJ/mol 652.8462371826172 kJ/mol 603.958984375 kJ/mol rejected\n"
     ]
    },
    {
     "name": "stderr",
     "output_type": "stream",
     "text": [
      " 40%|████      | 4/10 [00:18<00:27,  4.52s/it]"
     ]
    },
    {
     "name": "stdout",
     "output_type": "stream",
     "text": [
      "2.4981536865234375 kJ/mol -25.084609985351562 kJ/mol 499.4749450683594 kJ/mol 410.0361328125 kJ/mol accepted\n"
     ]
    },
    {
     "name": "stderr",
     "output_type": "stream",
     "text": [
      " 50%|█████     | 5/10 [00:22<00:22,  4.50s/it]"
     ]
    },
    {
     "name": "stdout",
     "output_type": "stream",
     "text": [
      "98.76449584960938 kJ/mol -25.033111572265625 kJ/mol 456.8603973388672 kJ/mol 705.123046875 kJ/mol rejected\n"
     ]
    },
    {
     "name": "stderr",
     "output_type": "stream",
     "text": [
      " 60%|██████    | 6/10 [00:27<00:18,  4.52s/it]"
     ]
    },
    {
     "name": "stdout",
     "output_type": "stream",
     "text": [
      "124.32670593261719 kJ/mol -11.431549072265625 kJ/mol 552.5990219116211 kJ/mol 659.69921875 kJ/mol rejected\n"
     ]
    },
    {
     "name": "stderr",
     "output_type": "stream",
     "text": [
      " 70%|███████   | 7/10 [00:31<00:13,  4.50s/it]"
     ]
    },
    {
     "name": "stdout",
     "output_type": "stream",
     "text": [
      "107.41264343261719 kJ/mol 9.257644653320312 kJ/mol 619.4976119995117 kJ/mol 423.302734375 kJ/mol rejected\n"
     ]
    },
    {
     "name": "stderr",
     "output_type": "stream",
     "text": [
      " 80%|████████  | 8/10 [00:36<00:09,  4.53s/it]"
     ]
    },
    {
     "name": "stdout",
     "output_type": "stream",
     "text": [
      "121.13168334960938 kJ/mol -17.123626708984375 kJ/mol 626.8941650390625 kJ/mol 449.6767578125 kJ/mol rejected\n"
     ]
    },
    {
     "name": "stderr",
     "output_type": "stream",
     "text": [
      " 90%|█████████ | 9/10 [00:40<00:04,  4.51s/it]"
     ]
    },
    {
     "name": "stdout",
     "output_type": "stream",
     "text": [
      "125.3260498046875 kJ/mol 80.48408508300781 kJ/mol 744.3294830322266 kJ/mol 61.162109375 kJ/mol rejected\n"
     ]
    },
    {
     "name": "stderr",
     "output_type": "stream",
     "text": [
      "100%|██████████| 10/10 [00:45<00:00,  4.50s/it]\n"
     ]
    }
   ],
   "source": [
    "# Run sampler\n",
    "sampler.ncmc_move(10)"
   ]
  },
  {
   "cell_type": "code",
   "execution_count": null,
   "metadata": {},
   "outputs": [],
   "source": []
  }
 ],
 "metadata": {
  "kernelspec": {
   "display_name": "gcncmc",
   "language": "python",
   "name": "python3"
  },
  "language_info": {
   "codemirror_mode": {
    "name": "ipython",
    "version": 3
   },
   "file_extension": ".py",
   "mimetype": "text/x-python",
   "name": "python",
   "nbconvert_exporter": "python",
   "pygments_lexer": "ipython3",
   "version": "3.12.3"
  }
 },
 "nbformat": 4,
 "nbformat_minor": 2
}
